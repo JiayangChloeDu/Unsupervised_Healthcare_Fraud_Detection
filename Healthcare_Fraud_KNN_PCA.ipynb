{
 "cells": [
  {
   "cell_type": "markdown",
   "metadata": {},
   "source": [
    "### Assignment 6 - Unsupervised Machine Learning Techniques Assignment I\n"
   ]
  },
  {
   "cell_type": "markdown",
   "metadata": {},
   "source": [
    "### Author: jd3631 Chloe Du"
   ]
  },
  {
   "cell_type": "markdown",
   "metadata": {},
   "source": [
    "In this project, I will continue detecting the healthcare fraud. As shown in previous projects, this dataset is pretty clean, so this time what I will focus on, first is to revise the features to make them good enough to fit in the models I will adopt; second is to try two new models (KNNs and PCA) as well as find out the appropriate hyper-parameters to make models perform best; third is to determine a resonable boundary and analyze the summary statistics to identify the abnormal. Finally, I will provide some business insights acquired from the data performance. "
   ]
  },
  {
   "cell_type": "markdown",
   "metadata": {},
   "source": [
    "##### info about the data: it is a CSV file, contains 12 features, there is no label to indicate whether the provider is fraud of not\n",
    "\n",
    "To detect the anomolies, we mainly focus on finding out the unusually high total discharges or cost of treatments to see if there are abuse or wastes. "
   ]
  },
  {
   "cell_type": "markdown",
   "metadata": {},
   "source": [
    "#### Review the Healthcare dataset"
   ]
  },
  {
   "cell_type": "code",
   "execution_count": 2,
   "metadata": {},
   "outputs": [
    {
     "data": {
      "text/html": [
       "        <script type=\"text/javascript\">\n",
       "        window.PlotlyConfig = {MathJaxConfig: 'local'};\n",
       "        if (window.MathJax) {MathJax.Hub.Config({SVG: {font: \"STIX-Web\"}});}\n",
       "        if (typeof require !== 'undefined') {\n",
       "        require.undef(\"plotly\");\n",
       "        requirejs.config({\n",
       "            paths: {\n",
       "                'plotly': ['https://cdn.plot.ly/plotly-latest.min']\n",
       "            }\n",
       "        });\n",
       "        require(['plotly'], function(Plotly) {\n",
       "            window._Plotly = Plotly;\n",
       "        });\n",
       "        }\n",
       "        </script>\n",
       "        "
      ]
     },
     "metadata": {},
     "output_type": "display_data"
    },
    {
     "data": {
      "text/html": [
       "        <script type=\"text/javascript\">\n",
       "        window.PlotlyConfig = {MathJaxConfig: 'local'};\n",
       "        if (window.MathJax) {MathJax.Hub.Config({SVG: {font: \"STIX-Web\"}});}\n",
       "        if (typeof require !== 'undefined') {\n",
       "        require.undef(\"plotly\");\n",
       "        requirejs.config({\n",
       "            paths: {\n",
       "                'plotly': ['https://cdn.plot.ly/plotly-latest.min']\n",
       "            }\n",
       "        });\n",
       "        require(['plotly'], function(Plotly) {\n",
       "            window._Plotly = Plotly;\n",
       "        });\n",
       "        }\n",
       "        </script>\n",
       "        "
      ]
     },
     "metadata": {},
     "output_type": "display_data"
    }
   ],
   "source": [
    "#import necessary libraries\n",
    "import numpy as np \n",
    "import pandas as pd\n",
    "\n",
    "from scipy import stats  #for some statistics\n",
    "from scipy.stats import norm, skew\n",
    "\n",
    "\n",
    "import matplotlib.pyplot as plt # for visulisation\n",
    "import seaborn as sns\n",
    "color = sns.color_palette()\n",
    "sns.set_style('whitegrid')\n",
    "%matplotlib inline\n",
    "\n",
    "import warnings \n",
    "def ignore_warn(*args, **kwargs):\n",
    "    pass\n",
    "warnings.warn = ignore_warn  #ignore warnings (from sklearn and seaborn)\n",
    "\n",
    "from plotly.offline import init_notebook_mode, iplot #for ipot visulisation\n",
    "import plotly.figure_factory as ff\n",
    "import cufflinks\n",
    "cufflinks.go_offline()\n",
    "cufflinks.set_config_file(world_readable=True, theme='pearl')\n",
    "import plotly.graph_objs as go\n",
    "import chart_studio.plotly as py\n",
    "import plotly\n",
    "from plotly.subplots import make_subplots\n",
    "import plotly.express as px\n",
    "\n",
    "from plotly.offline import init_notebook_mode,iplot,plot\n",
    "init_notebook_mode(connected=True) "
   ]
  },
  {
   "cell_type": "code",
   "execution_count": 3,
   "metadata": {},
   "outputs": [
    {
     "data": {
      "text/plain": [
       "(163065, 12)"
      ]
     },
     "execution_count": 3,
     "metadata": {},
     "output_type": "execute_result"
    }
   ],
   "source": [
    "# Now to import and put the dataset \n",
    "df = pd.read_csv(\"/Users/jiayangdu/Desktop/Columbia University /APAN 5420/inpatientCharges.csv\")\n",
    "df.shape\n",
    "# This original dataset has 163,065 rows and 12 columns"
   ]
  },
  {
   "cell_type": "code",
   "execution_count": 4,
   "metadata": {},
   "outputs": [],
   "source": [
    "#something wrong with the columns, some are not callable, so I just rename them\n",
    "df.columns= ['DRG Definition','Provider Id','Provider Name','Provider Street Address','Provider City','Provider State','Provider Zip Code','Hospital Referral Region Description','Total Discharges','Average Covered Charges($)','Average Total Payments($)','Average Medicare Payments($)']\n",
    "# convert datatype\n",
    "df['Provider Id'] = df['Provider Id'].apply(lambda x:str(x))\n",
    "df['Provider Zip Code'] = df['Provider Zip Code'].apply(lambda x:str(x))\n",
    "\n",
    "num_cols = ['Average Covered Charges($)','Average Total Payments($)','Average Medicare Payments($)']\n",
    "df[num_cols] = df[num_cols].replace({'\\$':''}, regex = True)\n",
    "df['Average Covered Charges($)'] = df['Average Covered Charges($)'].apply(lambda x:float(x))\n",
    "df['Average Total Payments($)'] = df['Average Total Payments($)'].apply(lambda x:float(x))\n",
    "df['Average Medicare Payments($)'] = df['Average Medicare Payments($)'].apply(lambda x:float(x))\n",
    "# since the DRG Definition is too long, to make everything easy, we just extract the code from each DRG Definition \n",
    "df['DRG Code'] = df['DRG Definition'].apply(lambda x:x.split('-')[0])"
   ]
  },
  {
   "cell_type": "code",
   "execution_count": 5,
   "metadata": {},
   "outputs": [
    {
     "data": {
      "text/html": [
       "<div>\n",
       "<style scoped>\n",
       "    .dataframe tbody tr th:only-of-type {\n",
       "        vertical-align: middle;\n",
       "    }\n",
       "\n",
       "    .dataframe tbody tr th {\n",
       "        vertical-align: top;\n",
       "    }\n",
       "\n",
       "    .dataframe thead th {\n",
       "        text-align: right;\n",
       "    }\n",
       "</style>\n",
       "<table border=\"1\" class=\"dataframe\">\n",
       "  <thead>\n",
       "    <tr style=\"text-align: right;\">\n",
       "      <th></th>\n",
       "      <th>DRG Definition</th>\n",
       "      <th>Provider Id</th>\n",
       "      <th>Provider Name</th>\n",
       "      <th>Provider Street Address</th>\n",
       "      <th>Provider City</th>\n",
       "      <th>Provider State</th>\n",
       "      <th>Provider Zip Code</th>\n",
       "      <th>Hospital Referral Region Description</th>\n",
       "      <th>DRG Code</th>\n",
       "    </tr>\n",
       "  </thead>\n",
       "  <tbody>\n",
       "    <tr>\n",
       "      <td>count</td>\n",
       "      <td>163065</td>\n",
       "      <td>163065</td>\n",
       "      <td>163065</td>\n",
       "      <td>163065</td>\n",
       "      <td>163065</td>\n",
       "      <td>163065</td>\n",
       "      <td>163065</td>\n",
       "      <td>163065</td>\n",
       "      <td>163065</td>\n",
       "    </tr>\n",
       "    <tr>\n",
       "      <td>unique</td>\n",
       "      <td>100</td>\n",
       "      <td>3337</td>\n",
       "      <td>3201</td>\n",
       "      <td>3326</td>\n",
       "      <td>1977</td>\n",
       "      <td>51</td>\n",
       "      <td>3053</td>\n",
       "      <td>306</td>\n",
       "      <td>100</td>\n",
       "    </tr>\n",
       "    <tr>\n",
       "      <td>top</td>\n",
       "      <td>194 - SIMPLE PNEUMONIA &amp; PLEURISY W CC</td>\n",
       "      <td>340141</td>\n",
       "      <td>GOOD SAMARITAN HOSPITAL</td>\n",
       "      <td>100 MEDICAL CENTER DRIVE</td>\n",
       "      <td>CHICAGO</td>\n",
       "      <td>CA</td>\n",
       "      <td>76104</td>\n",
       "      <td>CA - Los Angeles</td>\n",
       "      <td>194</td>\n",
       "    </tr>\n",
       "    <tr>\n",
       "      <td>freq</td>\n",
       "      <td>3023</td>\n",
       "      <td>100</td>\n",
       "      <td>633</td>\n",
       "      <td>183</td>\n",
       "      <td>1505</td>\n",
       "      <td>13064</td>\n",
       "      <td>317</td>\n",
       "      <td>3653</td>\n",
       "      <td>3023</td>\n",
       "    </tr>\n",
       "  </tbody>\n",
       "</table>\n",
       "</div>"
      ],
      "text/plain": [
       "                                DRG Definition Provider Id  \\\n",
       "count                                   163065      163065   \n",
       "unique                                     100        3337   \n",
       "top     194 - SIMPLE PNEUMONIA & PLEURISY W CC      340141   \n",
       "freq                                      3023         100   \n",
       "\n",
       "                  Provider Name   Provider Street Address Provider City  \\\n",
       "count                    163065                    163065        163065   \n",
       "unique                     3201                      3326          1977   \n",
       "top     GOOD SAMARITAN HOSPITAL  100 MEDICAL CENTER DRIVE       CHICAGO   \n",
       "freq                        633                       183          1505   \n",
       "\n",
       "       Provider State Provider Zip Code Hospital Referral Region Description  \\\n",
       "count          163065            163065                               163065   \n",
       "unique             51              3053                                  306   \n",
       "top                CA             76104                     CA - Los Angeles   \n",
       "freq            13064               317                                 3653   \n",
       "\n",
       "       DRG Code  \n",
       "count    163065  \n",
       "unique      100  \n",
       "top        194   \n",
       "freq       3023  "
      ]
     },
     "execution_count": 5,
     "metadata": {},
     "output_type": "execute_result"
    }
   ],
   "source": [
    "#Take a quick look at some basic categorical data\n",
    "df.describe(include=['O'])"
   ]
  },
  {
   "cell_type": "code",
   "execution_count": 6,
   "metadata": {},
   "outputs": [
    {
     "data": {
      "text/html": [
       "<div>\n",
       "<style scoped>\n",
       "    .dataframe tbody tr th:only-of-type {\n",
       "        vertical-align: middle;\n",
       "    }\n",
       "\n",
       "    .dataframe tbody tr th {\n",
       "        vertical-align: top;\n",
       "    }\n",
       "\n",
       "    .dataframe thead th {\n",
       "        text-align: right;\n",
       "    }\n",
       "</style>\n",
       "<table border=\"1\" class=\"dataframe\">\n",
       "  <thead>\n",
       "    <tr style=\"text-align: right;\">\n",
       "      <th></th>\n",
       "      <th>Total Discharges</th>\n",
       "      <th>Average Covered Charges($)</th>\n",
       "      <th>Average Total Payments($)</th>\n",
       "      <th>Average Medicare Payments($)</th>\n",
       "    </tr>\n",
       "  </thead>\n",
       "  <tbody>\n",
       "    <tr>\n",
       "      <td>count</td>\n",
       "      <td>163065.000000</td>\n",
       "      <td>163065.000000</td>\n",
       "      <td>163065.000000</td>\n",
       "      <td>163065.000000</td>\n",
       "    </tr>\n",
       "    <tr>\n",
       "      <td>mean</td>\n",
       "      <td>42.776304</td>\n",
       "      <td>36133.954224</td>\n",
       "      <td>9707.473804</td>\n",
       "      <td>8494.490964</td>\n",
       "    </tr>\n",
       "    <tr>\n",
       "      <td>std</td>\n",
       "      <td>51.104042</td>\n",
       "      <td>35065.365931</td>\n",
       "      <td>7664.642598</td>\n",
       "      <td>7309.467261</td>\n",
       "    </tr>\n",
       "    <tr>\n",
       "      <td>min</td>\n",
       "      <td>11.000000</td>\n",
       "      <td>2459.400000</td>\n",
       "      <td>2673.000000</td>\n",
       "      <td>1148.900000</td>\n",
       "    </tr>\n",
       "    <tr>\n",
       "      <td>25%</td>\n",
       "      <td>17.000000</td>\n",
       "      <td>15947.160000</td>\n",
       "      <td>5234.500000</td>\n",
       "      <td>4192.350000</td>\n",
       "    </tr>\n",
       "    <tr>\n",
       "      <td>50%</td>\n",
       "      <td>27.000000</td>\n",
       "      <td>25245.820000</td>\n",
       "      <td>7214.100000</td>\n",
       "      <td>6158.460000</td>\n",
       "    </tr>\n",
       "    <tr>\n",
       "      <td>75%</td>\n",
       "      <td>49.000000</td>\n",
       "      <td>43232.590000</td>\n",
       "      <td>11286.400000</td>\n",
       "      <td>10056.880000</td>\n",
       "    </tr>\n",
       "    <tr>\n",
       "      <td>max</td>\n",
       "      <td>3383.000000</td>\n",
       "      <td>929118.900000</td>\n",
       "      <td>156158.180000</td>\n",
       "      <td>154620.810000</td>\n",
       "    </tr>\n",
       "  </tbody>\n",
       "</table>\n",
       "</div>"
      ],
      "text/plain": [
       "       Total Discharges  Average Covered Charges($)  \\\n",
       "count     163065.000000               163065.000000   \n",
       "mean          42.776304                36133.954224   \n",
       "std           51.104042                35065.365931   \n",
       "min           11.000000                 2459.400000   \n",
       "25%           17.000000                15947.160000   \n",
       "50%           27.000000                25245.820000   \n",
       "75%           49.000000                43232.590000   \n",
       "max         3383.000000               929118.900000   \n",
       "\n",
       "       Average Total Payments($)  Average Medicare Payments($)  \n",
       "count              163065.000000                 163065.000000  \n",
       "mean                 9707.473804                   8494.490964  \n",
       "std                  7664.642598                   7309.467261  \n",
       "min                  2673.000000                   1148.900000  \n",
       "25%                  5234.500000                   4192.350000  \n",
       "50%                  7214.100000                   6158.460000  \n",
       "75%                 11286.400000                  10056.880000  \n",
       "max                156158.180000                 154620.810000  "
      ]
     },
     "execution_count": 6,
     "metadata": {},
     "output_type": "execute_result"
    }
   ],
   "source": [
    "df.describe()"
   ]
  },
  {
   "cell_type": "code",
   "execution_count": 7,
   "metadata": {},
   "outputs": [
    {
     "data": {
      "image/png": "[encoded data removed]",
      "text/plain": [
       "<Figure size 432x288 with 1 Axes>"
      ]
     },
     "metadata": {
      "needs_background": "light"
     },
     "output_type": "display_data"
    }
   ],
   "source": [
    "## have a general look at the outliers\n",
    "plt.scatter(range(df.shape[0]), np.sort(df['Total Discharges'].values))\n",
    "plt.xlabel('index')\n",
    "plt.ylabel('Total Discharges')\n",
    "plt.title(\"Total Discharges distribution\")\n",
    "sns.despine()"
   ]
  },
  {
   "cell_type": "code",
   "execution_count": 8,
   "metadata": {},
   "outputs": [
    {
     "data": {
      "image/png": "[encoded data removed]",
      "text/plain": [
       "<Figure size 432x288 with 1 Axes>"
      ]
     },
     "metadata": {
      "needs_background": "light"
     },
     "output_type": "display_data"
    }
   ],
   "source": [
    "sns.distplot(df['Total Discharges'])\n",
    "plt.title(\"Distribution of Total Discharges\")\n",
    "sns.despine()"
   ]
  },
  {
   "cell_type": "code",
   "execution_count": 9,
   "metadata": {},
   "outputs": [
    {
     "name": "stdout",
     "output_type": "stream",
     "text": [
      "Skewness: 7.667880\n",
      "Kurtosis: 188.453464\n"
     ]
    }
   ],
   "source": [
    "print(\"Skewness: %f\" % df['Total Discharges'].skew())\n",
    "print(\"Kurtosis: %f\" % df['Total Discharges'].kurt())"
   ]
  },
  {
   "cell_type": "markdown",
   "metadata": {},
   "source": [
    "The healthcare’s total discharge distribution is far from a normal distribution, and it has a positive long thin tail, the mass of the distribution is concentrated on the left of the figure. And the tail total_discharge distribution far exceeds the tails of the normal distribution. There are one region where the data has low probability to appear which is on the right side of the distribution."
   ]
  },
  {
   "cell_type": "code",
   "execution_count": 10,
   "metadata": {},
   "outputs": [
    {
     "data": {
      "image/png": "[encoded data removed]",
      "text/plain": [
       "<Figure size 432x288 with 1 Axes>"
      ]
     },
     "metadata": {
      "needs_background": "light"
     },
     "output_type": "display_data"
    }
   ],
   "source": [
    "plt.scatter(range(df.shape[0]), np.sort(df['Average Total Payments($)'].values))\n",
    "plt.xlabel('index')\n",
    "plt.ylabel('Average Total Payments($)')\n",
    "plt.title(\"Average Total Payments distribution\")\n",
    "sns.despine()"
   ]
  },
  {
   "cell_type": "code",
   "execution_count": 11,
   "metadata": {},
   "outputs": [
    {
     "data": {
      "image/png": "[encoded data removed]",
      "text/plain": [
       "<Figure size 432x288 with 1 Axes>"
      ]
     },
     "metadata": {
      "needs_background": "light"
     },
     "output_type": "display_data"
    }
   ],
   "source": [
    "sns.distplot(df['Average Total Payments($)'])\n",
    "plt.title(\"Distribution of Average Total Payments\")\n",
    "sns.despine()"
   ]
  },
  {
   "cell_type": "code",
   "execution_count": 12,
   "metadata": {},
   "outputs": [
    {
     "name": "stdout",
     "output_type": "stream",
     "text": [
      "Skewness: 3.328746\n",
      "Kurtosis: 17.309320\n"
     ]
    }
   ],
   "source": [
    "print(\"Skewness: %f\" % df['Average Total Payments($)'].skew())\n",
    "print(\"Kurtosis: %f\" % df['Average Total Payments($)'].kurt())"
   ]
  },
  {
   "cell_type": "markdown",
   "metadata": {},
   "source": [
    "Average Total Payments($) has the similar distribution with total discharges, positively skewed. "
   ]
  },
  {
   "cell_type": "code",
   "execution_count": 13,
   "metadata": {},
   "outputs": [
    {
     "data": {
      "image/png": "[encoded data removed]",
      "text/plain": [
       "<Figure size 432x288 with 1 Axes>"
      ]
     },
     "metadata": {
      "needs_background": "light"
     },
     "output_type": "display_data"
    }
   ],
   "source": [
    "sns.regplot(x=\"Total Discharges\", y='Average Total Payments($)', data=df)\n",
    "sns.despine();\n",
    "# we can clearly see there are some outliers "
   ]
  },
  {
   "cell_type": "markdown",
   "metadata": {},
   "source": [
    " From the above correlation chart, we can see that some of the data points are obvious outliers such as extreme low and extreme high values"
   ]
  },
  {
   "cell_type": "markdown",
   "metadata": {},
   "source": [
    "#### Feature engineering"
   ]
  },
  {
   "cell_type": "markdown",
   "metadata": {},
   "source": [
    "Here, I will still use the features created last week and add one more benchmark 'median', since mean value is largely influenced by the outliers). here i still group each charges by DRG, State & city respectively\n",
    "\n",
    "Therefore, the features will include median ratio of mean_ratio_TotalDischarges, mean_ratio_AverageTotalPayments,mean_ratio_AverageMedicarePayments, median_ratio__TotalDischarges, median_ratio__AverageTotalPayments, median_ratio__AverageMedicarePayments, then i will binning these numerical variables."
   ]
  },
  {
   "cell_type": "code",
   "execution_count": 14,
   "metadata": {},
   "outputs": [],
   "source": [
    "#benchmark for Average Medicare Payments($) named as 'Mean - Total Discharges'\n",
    "table1 = df.groupby(['DRG Code','Provider State','Provider City'])['Total Discharges'].apply(lambda x : x.astype(float).mean())\n",
    "df1 = table1.to_frame()\n",
    "df1.reset_index(inplace=True)\n",
    "df1 = df1.rename(columns={'Total Discharges': 'Mean - Total Discharges'})"
   ]
  },
  {
   "cell_type": "code",
   "execution_count": 15,
   "metadata": {},
   "outputs": [],
   "source": [
    "#benchmark for Average Total Payments($) named as 'Mean - Average Total Payments($)'\n",
    "table2 = df.groupby(['DRG Code','Provider State','Provider City'])['Average Total Payments($)'].apply(lambda x : x.astype(float).mean())\n",
    "df2 = table2.to_frame()\n",
    "df2.reset_index(inplace=True)\n",
    "df2 = df2.rename(columns={'Average Total Payments($)': 'Mean - Average Total Payments($)'})"
   ]
  },
  {
   "cell_type": "code",
   "execution_count": 16,
   "metadata": {},
   "outputs": [],
   "source": [
    "#benchmark for Average Medicare Payments($) named as 'Mean - Average Medicare Payments($)'\n",
    "table3 = df.groupby(['DRG Code','Provider State','Provider City'])['Average Medicare Payments($)'].apply(lambda x : x.astype(float).mean())\n",
    "df3 = table3.to_frame()\n",
    "df3.reset_index(inplace=True)\n",
    "df3 = df3.rename(columns={'Average Medicare Payments($)': 'Mean - Average Medicare Payments($)'})"
   ]
  },
  {
   "cell_type": "code",
   "execution_count": 17,
   "metadata": {},
   "outputs": [],
   "source": [
    "#benchmark for Average Medicare Payments($) named as 'Mean - Total Discharges'\n",
    "table4 = df.groupby(['DRG Code','Provider State','Provider City'])['Total Discharges'].apply(lambda x : x.astype(float).median())\n",
    "df4 = table4.to_frame()\n",
    "df4.reset_index(inplace=True)\n",
    "df4 = df4.rename(columns={'Total Discharges': 'Median - Total Discharges'})"
   ]
  },
  {
   "cell_type": "code",
   "execution_count": 18,
   "metadata": {},
   "outputs": [],
   "source": [
    "#benchmark for Average Total Payments($) named as 'Median - Average Total Payments($)'\n",
    "table5 = df.groupby(['DRG Code','Provider State','Provider City'])['Average Total Payments($)'].apply(lambda x : x.astype(float).median())\n",
    "df5 = table5.to_frame()\n",
    "df5.reset_index(inplace=True)\n",
    "df5 = df5.rename(columns={'Average Total Payments($)': 'Median - Average Total Payments($)'})"
   ]
  },
  {
   "cell_type": "code",
   "execution_count": 19,
   "metadata": {},
   "outputs": [],
   "source": [
    "#benchmark for Average Medicare Payments($) named as 'Median - Average Medicare Payments($)'\n",
    "table6 = df.groupby(['DRG Code','Provider State','Provider City'])['Average Medicare Payments($)'].apply(lambda x : x.astype(float).median())\n",
    "df6 = table6.to_frame()\n",
    "df6.reset_index(inplace=True)\n",
    "df6 = df6.rename(columns={'Average Medicare Payments($)': 'Median - Average Medicare Payments($)'})"
   ]
  },
  {
   "cell_type": "code",
   "execution_count": 20,
   "metadata": {},
   "outputs": [],
   "source": [
    "# merge benchmarks into the original dataset\n",
    "df = pd.merge(df, df1, on=['DRG Code','Provider State','Provider City'], how='left')\n",
    "df = pd.merge(df, df2, on=['DRG Code','Provider State','Provider City'], how='left')\n",
    "df = pd.merge(df, df3, on=['DRG Code','Provider State','Provider City'], how='left')\n",
    "df = pd.merge(df, df4, on=['DRG Code','Provider State','Provider City'], how='left')\n",
    "df = pd.merge(df, df5, on=['DRG Code','Provider State','Provider City'], how='left')\n",
    "df = pd.merge(df, df6, on=['DRG Code','Provider State','Provider City'], how='left')"
   ]
  },
  {
   "cell_type": "code",
   "execution_count": 21,
   "metadata": {},
   "outputs": [],
   "source": [
    "#create new columns to derive the ratios\n",
    "df['mean_ratio_AverageTotalPayments'] = df['Average Total Payments($)']/df['Mean - Average Total Payments($)']\n",
    "df['mean_ratio_AverageMedicarePayments'] = df['Average Medicare Payments($)']/df['Mean - Average Medicare Payments($)']\n",
    "df['mean_ratio_TotalDischarges'] = df['Total Discharges']/df['Mean - Total Discharges']\n",
    "df['median_ratio__AverageTotalPayments'] = df['Average Total Payments($)']/df['Median - Average Total Payments($)']\n",
    "df['median_ratio__AverageMedicarePayments'] = df['Average Medicare Payments($)']/df['Median - Average Medicare Payments($)']\n",
    "df['median_ratio_TotalDischarges'] = df['Total Discharges']/df['Median - Total Discharges']"
   ]
  },
  {
   "cell_type": "code",
   "execution_count": 22,
   "metadata": {},
   "outputs": [],
   "source": [
    "#extract columns we need for modeling to form a new dataset 'dfm'\n",
    "columns =['mean_ratio_AverageTotalPayments','mean_ratio_AverageMedicarePayments','mean_ratio_TotalDischarges','median_ratio__AverageTotalPayments','median_ratio__AverageMedicarePayments','median_ratio_TotalDischarges']\n",
    "dfm = df[columns]"
   ]
  },
  {
   "cell_type": "code",
   "execution_count": 23,
   "metadata": {},
   "outputs": [],
   "source": [
    "##binning numeric variables\n",
    "#binning: encoding each numerical features into 10 subgroups (0,10,20,30,40,50,60,70,80,90)\n",
    "for col in columns:\n",
    "    dfm[col] = pd.qcut(dfm[col], 10, duplicates='drop', labels=False)"
   ]
  },
  {
   "cell_type": "code",
   "execution_count": 24,
   "metadata": {},
   "outputs": [
    {
     "data": {
      "image/png": "[encoded data removed]",
      "text/plain": [
       "<Figure size 432x288 with 1 Axes>"
      ]
     },
     "metadata": {
      "needs_background": "light"
     },
     "output_type": "display_data"
    }
   ],
   "source": [
    "sns.regplot(x=\"mean_ratio_TotalDischarges\", y='mean_ratio_AverageTotalPayments', data=df)\n",
    "sns.despine();\n",
    "# we can clearly see there are some outliers "
   ]
  },
  {
   "cell_type": "markdown",
   "metadata": {},
   "source": [
    "From the above figure, we can clearly isnpect some points with unusually higher-than-average total payments but unusually lower-than-average total discharges (these points has been grouped by drg and state, so there is no bias caused by different charging standard due to different treatments or region). These points should be mainly focused as outliers. "
   ]
  },
  {
   "cell_type": "markdown",
   "metadata": {},
   "source": [
    "#### Model for Anomaly Detection"
   ]
  },
  {
   "cell_type": "markdown",
   "metadata": {},
   "source": [
    "##### Model 1: KNN"
   ]
  },
  {
   "cell_type": "markdown",
   "metadata": {},
   "source": [
    "In technical word, KNN is a supervised machine learning algorithm that can be used to solve both classification and regression problems. It works by finding the distances between a query and all the examples in the data, selecting the specified number examples (K) closest to the query, then votes for the most frequent label (in the case of classification) or averages the labels (in the case of regression).The K-Nearest neighbors determines whether or not a point lies in a sparse region of the feature space by computing the sum of the distances to the knearest neighbors of the point. We refer to this quantity as the kNN score for a point. Intuitively, the points in dense regions will have many points near them and will have a small kNN score. If the size of k exceeds the frequency of any given attack type in the data set and the images of the attack elements are far from the images of the normal elements, then the kNN score is useful for detecting these attacks.\n",
    "\n",
    "KNN is used for not only value predection but also anomaly detection. As k-NN uses underlying patterns in the data to make predictions, any errors in these predictions are thus telltale signs of data points which do not conform to overall trends. In this case, we can examine misclassifications generated from k-NN analysis to identify anomalies. For instance, it seems that healthcare provider is more likely to commit frauds when total discharges or cost of treatment tend to be higher-than-usual."
   ]
  },
  {
   "cell_type": "markdown",
   "metadata": {},
   "source": [
    "##### Task 1.\n",
    "Apply KNN on the dataset, find out the best k using grid search"
   ]
  },
  {
   "cell_type": "markdown",
   "metadata": {},
   "source": [
    "##### Task 2.\n",
    "Report the value of performance and give out the business insights"
   ]
  },
  {
   "cell_type": "markdown",
   "metadata": {},
   "source": [
    "###### For a data point, its distance to its kth nearest neighbor could be viewed as the outlier score."
   ]
  },
  {
   "cell_type": "markdown",
   "metadata": {},
   "source": [
    "###### Here, I claim 10% are fraud"
   ]
  },
  {
   "cell_type": "markdown",
   "metadata": {},
   "source": [
    "##### reference:\n",
    "https://towardsdatascience.com/machine-learning-basics-with-the-k-nearest-neighbors-algorithm-6a6e71d01761 \n",
    "\n",
    "https://www.listendata.com/2017/12/k-nearest-neighbor-step-by-step-tutorial.html \n",
    "\n",
    "https://algobeans.com/2016/09/14/k-nearest-neighbors-anomaly-detection-tutorial/\n",
    "\n",
    "https://medium.com/analytics-vidhya/introduction-to-anomaly-detection-using-machine-learning-with-a-case-study-part-two-f78243f74d2f\n",
    "\n",
    "https://towardsdatascience.com/anomaly-detection-for-dummies-15f148e559c1"
   ]
  },
  {
   "cell_type": "code",
   "execution_count": 25,
   "metadata": {},
   "outputs": [],
   "source": [
    "# first to scale the variables \n",
    "#StandardSclaer transforms the data to where there is a mean of 0 and a standard deviation of 1\n",
    "#which means standardizing the data into a normal distribution.\n",
    "from sklearn.preprocessing import StandardScaler\n",
    "scale = StandardScaler()\n",
    "dfm = scale.fit_transform(dfm)\n",
    "dfm = pd.DataFrame(dfm)"
   ]
  },
  {
   "cell_type": "code",
   "execution_count": 26,
   "metadata": {},
   "outputs": [],
   "source": [
    "# split the data into train test\n",
    "#from sklearn.model_selection import train_test_split \n",
    "#X = dfm\n",
    "#X_train, X_test = train_test_split(X, test_size = 0.3 , random_state=42 )"
   ]
  },
  {
   "cell_type": "code",
   "execution_count": 27,
   "metadata": {},
   "outputs": [],
   "source": [
    "# dfm is the dataset used for modelling which only contains important features (refer to last part)\n",
    "X=dfm\n",
    "#since there is no label in this dataset, just for the purpose of anomaly detaction, \n",
    "#i decide not to split the train test set"
   ]
  },
  {
   "cell_type": "code",
   "execution_count": 28,
   "metadata": {},
   "outputs": [
    {
     "data": {
      "text/plain": [
       "KNN(algorithm='auto', contamination=0.1, leaf_size=30, method='largest',\n",
       "  metric='minkowski', metric_params=None, n_jobs=-1, n_neighbors=5, p=2,\n",
       "  radius=1.0)"
      ]
     },
     "execution_count": 28,
     "metadata": {},
     "output_type": "execute_result"
    }
   ],
   "source": [
    "# use pyod\n",
    "# create the KNN model\n",
    "from pyod.models.knn import KNN \n",
    "# train kNN detector\n",
    "clf_name = 'kNN'\n",
    "# Initialize detector CLF\n",
    "clf = KNN(contamination=0.1, n_neighbors = 5,n_jobs=-1) # set 10% as percentage of outliers and try the default k value 5\n",
    "# Use X_train to train detector CLF\n",
    "clf.fit(X) "
   ]
  },
  {
   "cell_type": "code",
   "execution_count": 29,
   "metadata": {},
   "outputs": [],
   "source": [
    "# Get the prediction labels of the training data \n",
    "y_pred = clf.labels_ # binary labels (0: inliers, 1: outliers) \n",
    "# Outlier scores \n",
    "y_scores = clf.decision_scores_ #(larger scores mean more outliers)"
   ]
  },
  {
   "cell_type": "code",
   "execution_count": 30,
   "metadata": {},
   "outputs": [],
   "source": [
    "#Using trained CLF to predict outliers in unknown data\n",
    "#y_test_pred = clf.predict(X_test)  # binary labels (0: inliers, 1: outliers) \n",
    "#y_test_scores = clf.decision_function(X_test)  #  Returns outliers on unknown data (larger scores mean more outliers)"
   ]
  },
  {
   "cell_type": "code",
   "execution_count": 31,
   "metadata": {},
   "outputs": [
    {
     "data": {
      "text/plain": [
       "{0: 161083, 1: 1982}"
      ]
     },
     "execution_count": 31,
     "metadata": {},
     "output_type": "execute_result"
    }
   ],
   "source": [
    "#count the number of anomalies\n",
    "unique, counts = np.unique(y_pred, return_counts=True)\n",
    "dict(zip(unique, counts))\n",
    "# as shown below, the percentage of anomalies is far smaller than 10%"
   ]
  },
  {
   "cell_type": "code",
   "execution_count": 33,
   "metadata": {},
   "outputs": [
    {
     "data": {
      "image/png": "[encoded data removed]",
      "text/plain": [
       "<Figure size 432x288 with 1 Axes>"
      ]
     },
     "metadata": {
      "needs_background": "light"
     },
     "output_type": "display_data"
    }
   ],
   "source": [
    "#Determine a reasonable boundary\n",
    "plt.hist(y_scores, bins='auto')\n",
    "plt.title(\"Histogram with 'auto' bins\")\n",
    "plt.show()"
   ]
  },
  {
   "cell_type": "code",
   "execution_count": 36,
   "metadata": {},
   "outputs": [
    {
     "data": {
      "text/html": [
       "<div>\n",
       "<style scoped>\n",
       "    .dataframe tbody tr th:only-of-type {\n",
       "        vertical-align: middle;\n",
       "    }\n",
       "\n",
       "    .dataframe tbody tr th {\n",
       "        vertical-align: top;\n",
       "    }\n",
       "\n",
       "    .dataframe thead th {\n",
       "        text-align: right;\n",
       "    }\n",
       "</style>\n",
       "<table border=\"1\" class=\"dataframe\">\n",
       "  <thead>\n",
       "    <tr style=\"text-align: right;\">\n",
       "      <th></th>\n",
       "      <th>0</th>\n",
       "      <th>1</th>\n",
       "      <th>2</th>\n",
       "      <th>3</th>\n",
       "      <th>4</th>\n",
       "      <th>5</th>\n",
       "      <th>score</th>\n",
       "    </tr>\n",
       "    <tr>\n",
       "      <th>cluster</th>\n",
       "      <th></th>\n",
       "      <th></th>\n",
       "      <th></th>\n",
       "      <th></th>\n",
       "      <th></th>\n",
       "      <th></th>\n",
       "      <th></th>\n",
       "    </tr>\n",
       "  </thead>\n",
       "  <tbody>\n",
       "    <tr>\n",
       "      <td>0</td>\n",
       "      <td>-0.000424</td>\n",
       "      <td>0.000802</td>\n",
       "      <td>0.000079</td>\n",
       "      <td>-0.008162</td>\n",
       "      <td>-0.007207</td>\n",
       "      <td>-0.007412</td>\n",
       "      <td>0.000000</td>\n",
       "    </tr>\n",
       "    <tr>\n",
       "      <td>1</td>\n",
       "      <td>0.034457</td>\n",
       "      <td>-0.065151</td>\n",
       "      <td>-0.006454</td>\n",
       "      <td>0.663364</td>\n",
       "      <td>0.585760</td>\n",
       "      <td>0.602364</td>\n",
       "      <td>1.062786</td>\n",
       "    </tr>\n",
       "  </tbody>\n",
       "</table>\n",
       "</div>"
      ],
      "text/plain": [
       "                0         1         2         3         4         5     score\n",
       "cluster                                                                      \n",
       "0       -0.000424  0.000802  0.000079 -0.008162 -0.007207 -0.007412  0.000000\n",
       "1        0.034457 -0.065151 -0.006454  0.663364  0.585760  0.602364  1.062786"
      ]
     },
     "execution_count": 36,
     "metadata": {},
     "output_type": "execute_result"
    }
   ],
   "source": [
    "#Step 3: Present the summary statistics of the normal and abnormal clusters\n",
    "# Let's see how many '0's and '1's. We get 161083 '0's and 1982 '1's.\n",
    "#from the above figure, we set the boundary at 0\n",
    "dfm['score'] = y_scores\n",
    "dfm['cluster'] = np.where(dfm['score']>0, 1, 0)\n",
    "dfm['cluster'].value_counts()\n",
    "# Now let's show the summary statistics:\n",
    "dfm.groupby('cluster').mean()"
   ]
  },
  {
   "cell_type": "markdown",
   "metadata": {},
   "source": [
    "###### K value\n",
    "To optimize our model, we need to adjust the parameters.In KNN, the value of k is a key, but finding the value of k is not easy. A small value of k means that noise will have a higher influence on the result and a large value make it computationally expensive.Data scientists usually choose as an odd number if the number of classes is 2.\n",
    "\n",
    "reference:\n",
    "https://towardsdatascience.com/a-simple-introduction-to-k-nearest-neighbors-algorithm-b3519ed98e\n",
    "\n",
    "https://towardsdatascience.com/how-to-find-the-optimal-value-of-k-in-knn-35d936e554eb"
   ]
  },
  {
   "cell_type": "markdown",
   "metadata": {},
   "source": [
    "Since this is unsupervised learning case, no label, so it is hard to select K value by checking a minimum error rate or maximum accuracy. I tried many k values and find out the best outcome when k = sqrt(N) where N stands for the number of samples in your training dataset Therefore, in this case I will ignore set k = sqrt(N). (in the anomaly detection case)"
   ]
  },
  {
   "cell_type": "code",
   "execution_count": 39,
   "metadata": {},
   "outputs": [
    {
     "data": {
      "text/plain": [
       "KNN(algorithm='auto', contamination=0.1, leaf_size=30, method='largest',\n",
       "  metric='minkowski', metric_params=None, n_jobs=1, n_neighbors=403, p=2,\n",
       "  radius=1.0)"
      ]
     },
     "execution_count": 39,
     "metadata": {},
     "output_type": "execute_result"
    }
   ],
   "source": [
    "import math \n",
    "# Initialize detector CLF\n",
    "clf2 = KNN(contamination=0.1, n_neighbors = int(math.sqrt(len(X)))) # set 10% as percentage of outliers and try the default k value 5\n",
    "# Use X_train to train detector CLF\n",
    "clf2.fit(X) "
   ]
  },
  {
   "cell_type": "code",
   "execution_count": 40,
   "metadata": {},
   "outputs": [],
   "source": [
    "# Get the prediction labels of the training data \n",
    "y_pred2 = clf2.labels_ # binary labels (0: inliers, 1: outliers) \n",
    "# Outlier scores \n",
    "y_scores2 = clf2.decision_scores_ #(larger scores mean more outliers)"
   ]
  },
  {
   "cell_type": "code",
   "execution_count": 41,
   "metadata": {},
   "outputs": [
    {
     "data": {
      "text/plain": [
       "{0: 148778, 1: 14287}"
      ]
     },
     "execution_count": 41,
     "metadata": {},
     "output_type": "execute_result"
    }
   ],
   "source": [
    "#count the number of anomalies\n",
    "unique, counts = np.unique(y_pred2, return_counts=True)\n",
    "dict(zip(unique, counts))\n",
    "# the outliers almost accounts for 10%"
   ]
  },
  {
   "cell_type": "code",
   "execution_count": 46,
   "metadata": {},
   "outputs": [
    {
     "data": {
      "image/png": "[encoded data removed]",
      "text/plain": [
       "<Figure size 432x288 with 1 Axes>"
      ]
     },
     "metadata": {
      "needs_background": "light"
     },
     "output_type": "display_data"
    }
   ],
   "source": [
    "#Determine a reasonable boundary\n",
    "plt.hist(y_scores2, bins='auto')\n",
    "plt.title(\"Histogram with 'auto' bins\")\n",
    "plt.show()"
   ]
  },
  {
   "cell_type": "code",
   "execution_count": 123,
   "metadata": {},
   "outputs": [
    {
     "data": {
      "text/html": [
       "<div>\n",
       "<style scoped>\n",
       "    .dataframe tbody tr th:only-of-type {\n",
       "        vertical-align: middle;\n",
       "    }\n",
       "\n",
       "    .dataframe tbody tr th {\n",
       "        vertical-align: top;\n",
       "    }\n",
       "\n",
       "    .dataframe thead th {\n",
       "        text-align: right;\n",
       "    }\n",
       "</style>\n",
       "<table border=\"1\" class=\"dataframe\">\n",
       "  <thead>\n",
       "    <tr style=\"text-align: right;\">\n",
       "      <th></th>\n",
       "      <th>0</th>\n",
       "      <th>1</th>\n",
       "      <th>2</th>\n",
       "      <th>3</th>\n",
       "      <th>4</th>\n",
       "      <th>5</th>\n",
       "      <th>score</th>\n",
       "    </tr>\n",
       "    <tr>\n",
       "      <th>cluster</th>\n",
       "      <th></th>\n",
       "      <th></th>\n",
       "      <th></th>\n",
       "      <th></th>\n",
       "      <th></th>\n",
       "      <th></th>\n",
       "      <th></th>\n",
       "    </tr>\n",
       "  </thead>\n",
       "  <tbody>\n",
       "    <tr>\n",
       "      <td>0</td>\n",
       "      <td>0.061245</td>\n",
       "      <td>0.055126</td>\n",
       "      <td>0.004651</td>\n",
       "      <td>-0.048245</td>\n",
       "      <td>-0.052503</td>\n",
       "      <td>-0.090126</td>\n",
       "      <td>0.000000</td>\n",
       "    </tr>\n",
       "    <tr>\n",
       "      <td>1</td>\n",
       "      <td>-0.232211</td>\n",
       "      <td>-0.209013</td>\n",
       "      <td>-0.017636</td>\n",
       "      <td>0.182921</td>\n",
       "      <td>0.199068</td>\n",
       "      <td>0.341715</td>\n",
       "      <td>1.322379</td>\n",
       "    </tr>\n",
       "  </tbody>\n",
       "</table>\n",
       "</div>"
      ],
      "text/plain": [
       "                0         1         2         3         4         5     score\n",
       "cluster                                                                      \n",
       "0        0.061245  0.055126  0.004651 -0.048245 -0.052503 -0.090126  0.000000\n",
       "1       -0.232211 -0.209013 -0.017636  0.182921  0.199068  0.341715  1.322379"
      ]
     },
     "execution_count": 123,
     "metadata": {},
     "output_type": "execute_result"
    }
   ],
   "source": [
    "#Step 3: Present the summary statistics of the normal and abnormal clusters\n",
    "# Let's see how many '0's and '1's. We get 148778 '0's and 14287 '1's.\n",
    "#from the above figure, we still set the boundary at 0 (larger than 1 is outlier)\n",
    "dfm['score'] = y_scores2\n",
    "dfm['cluster'] = np.where(dfm['score']<1, 0, 1)\n",
    "dfm['cluster'].value_counts()\n",
    "# Now let's show the summary statistics:\n",
    "dfm.groupby('cluster').mean()"
   ]
  },
  {
   "cell_type": "markdown",
   "metadata": {},
   "source": [
    "The average anomaly score in Cluster 1 is much higher than that of Cluster 0. The summary statistics also show dramatic differences between the two clusters. We thus believe the data points in Cluster 1 could be anomalous and deserve further inspection."
   ]
  },
  {
   "cell_type": "code",
   "execution_count": 43,
   "metadata": {},
   "outputs": [
    {
     "data": {
      "text/plain": [
       "KNN(algorithm='auto', contamination=0.1, leaf_size=30, method='largest',\n",
       "  metric='minkowski', metric_params=None, n_jobs=1, n_neighbors=50, p=2,\n",
       "  radius=1.0)"
      ]
     },
     "execution_count": 43,
     "metadata": {},
     "output_type": "execute_result"
    }
   ],
   "source": [
    "################## try other k values\n",
    "##try k =50\n",
    "clf3 = KNN(contamination=0.1, n_neighbors = 50) # set 10% as percentage of outliers and try the default k value 5\n",
    "# Use X_train to train detector CLF\n",
    "clf3.fit(X) "
   ]
  },
  {
   "cell_type": "code",
   "execution_count": 44,
   "metadata": {},
   "outputs": [],
   "source": [
    "# Get the prediction labels of the training data \n",
    "y_pred3 = clf3.labels_ # binary labels (0: inliers, 1: outliers) \n",
    "# Outlier scores \n",
    "y_scores3 = clf3.decision_scores_ #(larger scores mean more outliers)"
   ]
  },
  {
   "cell_type": "code",
   "execution_count": 45,
   "metadata": {},
   "outputs": [
    {
     "data": {
      "text/plain": [
       "{0: 152168, 1: 10897}"
      ]
     },
     "execution_count": 45,
     "metadata": {},
     "output_type": "execute_result"
    }
   ],
   "source": [
    "unique, counts = np.unique(y_pred3, return_counts=True)\n",
    "dict(zip(unique, counts))\n",
    "# no better than the above k = sqrt(n)"
   ]
  },
  {
   "cell_type": "code",
   "execution_count": 49,
   "metadata": {},
   "outputs": [
    {
     "data": {
      "text/plain": [
       "{0: 162567, 1: 498}"
      ]
     },
     "execution_count": 49,
     "metadata": {},
     "output_type": "execute_result"
    }
   ],
   "source": [
    "##################\n",
    "##try k =1\n",
    "clf4 = KNN(contamination=0.1, n_neighbors = 1) # set 10% as percentage of outliers and try the default k value 5\n",
    "# Use X_train to train detector CLF\n",
    "clf4.fit(X) \n",
    "\n",
    "# Get the prediction labels of the training data \n",
    "y_pred4 = clf4.labels_ # binary labels (0: inliers, 1: outliers) \n",
    "# Outlier scores \n",
    "y_scores4 = clf4.decision_scores_ #(larger scores mean more outliers)\n",
    "\n",
    "unique, counts = np.unique(y_pred4, return_counts=True)\n",
    "dict(zip(unique, counts))\n",
    "# not better "
   ]
  },
  {
   "cell_type": "code",
   "execution_count": 124,
   "metadata": {},
   "outputs": [],
   "source": [
    "################\n",
    "#use the outcome produced by k=sqrt(n)\n",
    "df1 = df.copy()\n",
    "df1['outlier'] = y_pred2.tolist()"
   ]
  },
  {
   "cell_type": "code",
   "execution_count": 125,
   "metadata": {},
   "outputs": [
    {
     "data": {
      "text/html": [
       "<div>\n",
       "<style scoped>\n",
       "    .dataframe tbody tr th:only-of-type {\n",
       "        vertical-align: middle;\n",
       "    }\n",
       "\n",
       "    .dataframe tbody tr th {\n",
       "        vertical-align: top;\n",
       "    }\n",
       "\n",
       "    .dataframe thead th {\n",
       "        text-align: right;\n",
       "    }\n",
       "</style>\n",
       "<table border=\"1\" class=\"dataframe\">\n",
       "  <thead>\n",
       "    <tr style=\"text-align: right;\">\n",
       "      <th></th>\n",
       "      <th>DRG Definition</th>\n",
       "      <th>Provider Id</th>\n",
       "      <th>Provider Name</th>\n",
       "      <th>Provider Street Address</th>\n",
       "      <th>Provider City</th>\n",
       "      <th>Provider State</th>\n",
       "      <th>Provider Zip Code</th>\n",
       "      <th>Hospital Referral Region Description</th>\n",
       "      <th>Total Discharges</th>\n",
       "      <th>Average Covered Charges($)</th>\n",
       "      <th>...</th>\n",
       "      <th>Median - Total Discharges</th>\n",
       "      <th>Median - Average Total Payments($)</th>\n",
       "      <th>Median - Average Medicare Payments($)</th>\n",
       "      <th>mean_ratio_AverageTotalPayments</th>\n",
       "      <th>mean_ratio_AverageMedicarePayments</th>\n",
       "      <th>mean_ratio_TotalDischarges</th>\n",
       "      <th>median_ratio__AverageTotalPayments</th>\n",
       "      <th>median_ratio__AverageMedicarePayments</th>\n",
       "      <th>median_ratio_TotalDischarges</th>\n",
       "      <th>outlier</th>\n",
       "    </tr>\n",
       "  </thead>\n",
       "  <tbody>\n",
       "    <tr>\n",
       "      <td>162995</td>\n",
       "      <td>948 - SIGNS &amp; SYMPTOMS W/O MCC</td>\n",
       "      <td>500139</td>\n",
       "      <td>CAPITAL MEDICAL CENTER</td>\n",
       "      <td>3900 CAPITAL MALL DR SW</td>\n",
       "      <td>OLYMPIA</td>\n",
       "      <td>WA</td>\n",
       "      <td>98502</td>\n",
       "      <td>WA - Olympia</td>\n",
       "      <td>13</td>\n",
       "      <td>18580.92</td>\n",
       "      <td>...</td>\n",
       "      <td>12.5</td>\n",
       "      <td>5163.470</td>\n",
       "      <td>3240.29</td>\n",
       "      <td>0.849353</td>\n",
       "      <td>1.139997</td>\n",
       "      <td>1.040000</td>\n",
       "      <td>0.849353</td>\n",
       "      <td>1.139997</td>\n",
       "      <td>1.040000</td>\n",
       "      <td>1</td>\n",
       "    </tr>\n",
       "    <tr>\n",
       "      <td>163017</td>\n",
       "      <td>948 - SIGNS &amp; SYMPTOMS W/O MCC</td>\n",
       "      <td>520004</td>\n",
       "      <td>MAYO CLINIC HLTH SYSTEM- FRANCISCAN MED CTR, INC</td>\n",
       "      <td>700 WEST AVE S</td>\n",
       "      <td>LA CROSSE</td>\n",
       "      <td>WI</td>\n",
       "      <td>54601</td>\n",
       "      <td>WI - La Crosse</td>\n",
       "      <td>15</td>\n",
       "      <td>14579.06</td>\n",
       "      <td>...</td>\n",
       "      <td>18.5</td>\n",
       "      <td>5263.345</td>\n",
       "      <td>3658.76</td>\n",
       "      <td>0.861543</td>\n",
       "      <td>1.054909</td>\n",
       "      <td>0.810811</td>\n",
       "      <td>0.861543</td>\n",
       "      <td>1.054909</td>\n",
       "      <td>0.810811</td>\n",
       "      <td>1</td>\n",
       "    </tr>\n",
       "    <tr>\n",
       "      <td>163038</td>\n",
       "      <td>948 - SIGNS &amp; SYMPTOMS W/O MCC</td>\n",
       "      <td>520087</td>\n",
       "      <td>GUNDERSEN LUTH MED CTR</td>\n",
       "      <td>1910 SOUTH AVE</td>\n",
       "      <td>LA CROSSE</td>\n",
       "      <td>WI</td>\n",
       "      <td>54601</td>\n",
       "      <td>WI - La Crosse</td>\n",
       "      <td>22</td>\n",
       "      <td>16546.36</td>\n",
       "      <td>...</td>\n",
       "      <td>18.5</td>\n",
       "      <td>5263.345</td>\n",
       "      <td>3658.76</td>\n",
       "      <td>1.138457</td>\n",
       "      <td>0.945091</td>\n",
       "      <td>1.189189</td>\n",
       "      <td>1.138457</td>\n",
       "      <td>0.945091</td>\n",
       "      <td>1.189189</td>\n",
       "      <td>1</td>\n",
       "    </tr>\n",
       "    <tr>\n",
       "      <td>163049</td>\n",
       "      <td>948 - SIGNS &amp; SYMPTOMS W/O MCC</td>\n",
       "      <td>520136</td>\n",
       "      <td>WHEATON FRANCISCAN, INC- ST JOSEPH</td>\n",
       "      <td>5000 W CHAMBERS ST</td>\n",
       "      <td>MILWAUKEE</td>\n",
       "      <td>WI</td>\n",
       "      <td>53210</td>\n",
       "      <td>WI - Milwaukee</td>\n",
       "      <td>14</td>\n",
       "      <td>10514.28</td>\n",
       "      <td>...</td>\n",
       "      <td>24.0</td>\n",
       "      <td>5562.500</td>\n",
       "      <td>4269.08</td>\n",
       "      <td>1.017869</td>\n",
       "      <td>1.009557</td>\n",
       "      <td>0.370370</td>\n",
       "      <td>1.000000</td>\n",
       "      <td>1.059427</td>\n",
       "      <td>0.583333</td>\n",
       "      <td>1</td>\n",
       "    </tr>\n",
       "    <tr>\n",
       "      <td>163055</td>\n",
       "      <td>948 - SIGNS &amp; SYMPTOMS W/O MCC</td>\n",
       "      <td>520189</td>\n",
       "      <td>AURORA MED CTR KENOSHA</td>\n",
       "      <td>10400 75TH ST</td>\n",
       "      <td>KENOSHA</td>\n",
       "      <td>WI</td>\n",
       "      <td>53142</td>\n",
       "      <td>WI - Milwaukee</td>\n",
       "      <td>28</td>\n",
       "      <td>18099.85</td>\n",
       "      <td>...</td>\n",
       "      <td>52.0</td>\n",
       "      <td>4503.565</td>\n",
       "      <td>3360.72</td>\n",
       "      <td>1.089175</td>\n",
       "      <td>1.012834</td>\n",
       "      <td>0.538462</td>\n",
       "      <td>1.089175</td>\n",
       "      <td>1.012834</td>\n",
       "      <td>0.538462</td>\n",
       "      <td>1</td>\n",
       "    </tr>\n",
       "  </tbody>\n",
       "</table>\n",
       "<p>5 rows × 26 columns</p>\n",
       "</div>"
      ],
      "text/plain": [
       "                        DRG Definition Provider Id  \\\n",
       "162995  948 - SIGNS & SYMPTOMS W/O MCC      500139   \n",
       "163017  948 - SIGNS & SYMPTOMS W/O MCC      520004   \n",
       "163038  948 - SIGNS & SYMPTOMS W/O MCC      520087   \n",
       "163049  948 - SIGNS & SYMPTOMS W/O MCC      520136   \n",
       "163055  948 - SIGNS & SYMPTOMS W/O MCC      520189   \n",
       "\n",
       "                                           Provider Name  \\\n",
       "162995                            CAPITAL MEDICAL CENTER   \n",
       "163017  MAYO CLINIC HLTH SYSTEM- FRANCISCAN MED CTR, INC   \n",
       "163038                            GUNDERSEN LUTH MED CTR   \n",
       "163049                WHEATON FRANCISCAN, INC- ST JOSEPH   \n",
       "163055                            AURORA MED CTR KENOSHA   \n",
       "\n",
       "        Provider Street Address Provider City Provider State  \\\n",
       "162995  3900 CAPITAL MALL DR SW       OLYMPIA             WA   \n",
       "163017           700 WEST AVE S     LA CROSSE             WI   \n",
       "163038           1910 SOUTH AVE     LA CROSSE             WI   \n",
       "163049       5000 W CHAMBERS ST     MILWAUKEE             WI   \n",
       "163055            10400 75TH ST       KENOSHA             WI   \n",
       "\n",
       "       Provider Zip Code Hospital Referral Region Description  \\\n",
       "162995             98502                         WA - Olympia   \n",
       "163017             54601                       WI - La Crosse   \n",
       "163038             54601                       WI - La Crosse   \n",
       "163049             53210                       WI - Milwaukee   \n",
       "163055             53142                       WI - Milwaukee   \n",
       "\n",
       "        Total Discharges  Average Covered Charges($)  ...  \\\n",
       "162995                13                    18580.92  ...   \n",
       "163017                15                    14579.06  ...   \n",
       "163038                22                    16546.36  ...   \n",
       "163049                14                    10514.28  ...   \n",
       "163055                28                    18099.85  ...   \n",
       "\n",
       "        Median - Total Discharges  Median - Average Total Payments($)  \\\n",
       "162995                       12.5                            5163.470   \n",
       "163017                       18.5                            5263.345   \n",
       "163038                       18.5                            5263.345   \n",
       "163049                       24.0                            5562.500   \n",
       "163055                       52.0                            4503.565   \n",
       "\n",
       "       Median - Average Medicare Payments($)  mean_ratio_AverageTotalPayments  \\\n",
       "162995                               3240.29                         0.849353   \n",
       "163017                               3658.76                         0.861543   \n",
       "163038                               3658.76                         1.138457   \n",
       "163049                               4269.08                         1.017869   \n",
       "163055                               3360.72                         1.089175   \n",
       "\n",
       "        mean_ratio_AverageMedicarePayments  mean_ratio_TotalDischarges  \\\n",
       "162995                            1.139997                    1.040000   \n",
       "163017                            1.054909                    0.810811   \n",
       "163038                            0.945091                    1.189189   \n",
       "163049                            1.009557                    0.370370   \n",
       "163055                            1.012834                    0.538462   \n",
       "\n",
       "        median_ratio__AverageTotalPayments  \\\n",
       "162995                            0.849353   \n",
       "163017                            0.861543   \n",
       "163038                            1.138457   \n",
       "163049                            1.000000   \n",
       "163055                            1.089175   \n",
       "\n",
       "        median_ratio__AverageMedicarePayments  median_ratio_TotalDischarges  \\\n",
       "162995                               1.139997                      1.040000   \n",
       "163017                               1.054909                      0.810811   \n",
       "163038                               0.945091                      1.189189   \n",
       "163049                               1.059427                      0.583333   \n",
       "163055                               1.012834                      0.538462   \n",
       "\n",
       "        outlier  \n",
       "162995        1  \n",
       "163017        1  \n",
       "163038        1  \n",
       "163049        1  \n",
       "163055        1  \n",
       "\n",
       "[5 rows x 26 columns]"
      ]
     },
     "execution_count": 125,
     "metadata": {},
     "output_type": "execute_result"
    }
   ],
   "source": [
    "df1.loc[df1['outlier'] == 1].tail(5)"
   ]
  },
  {
   "cell_type": "markdown",
   "metadata": {},
   "source": [
    "Lets's look in details for a couple of outliers that determined by KNN, and try to understand what make them anomalies."
   ]
  },
  {
   "cell_type": "code",
   "execution_count": 60,
   "metadata": {},
   "outputs": [
    {
     "data": {
      "text/plain": [
       "DRG Definition                               948 - SIGNS & SYMPTOMS W/O MCC\n",
       "Provider Id                                                          520136\n",
       "Provider Name                            WHEATON FRANCISCAN, INC- ST JOSEPH\n",
       "Provider Street Address                                  5000 W CHAMBERS ST\n",
       "Provider City                                                     MILWAUKEE\n",
       "Provider State                                                           WI\n",
       "Provider Zip Code                                                     53210\n",
       "Hospital Referral Region Description                         WI - Milwaukee\n",
       "Total Discharges                                                         14\n",
       "Average Covered Charges($)                                          10514.3\n",
       "Average Total Payments($)                                            5562.5\n",
       "Average Medicare Payments($)                                        4522.78\n",
       "DRG Code                                                               948 \n",
       "Mean - Total Discharges                                                37.8\n",
       "Mean - Average Total Payments($)                                    5464.85\n",
       "Mean - Average Medicare Payments($)                                 4479.97\n",
       "Median - Total Discharges                                                24\n",
       "Median - Average Total Payments($)                                   5562.5\n",
       "Median - Average Medicare Payments($)                               4269.08\n",
       "mean_ratio_AverageTotalPayments                                     1.01787\n",
       "mean_ratio_AverageMedicarePayments                                  1.00956\n",
       "mean_ratio_TotalDischarges                                          0.37037\n",
       "median_ratio__AverageTotalPayments                                        1\n",
       "median_ratio__AverageMedicarePayments                               1.05943\n",
       "median_ratio_TotalDischarges                                       0.583333\n",
       "Name: 163049, dtype: object"
      ]
     },
     "execution_count": 60,
     "metadata": {},
     "output_type": "execute_result"
    }
   ],
   "source": [
    "df.iloc[163049]"
   ]
  },
  {
   "cell_type": "markdown",
   "metadata": {},
   "source": [
    "For this particular provider, it had a total of 14 discharges with toal payments of $5562.5, but we should notice in MILWAUKEE city in WI state, the cost of treatment for 948 - SIGNS & SYMPTOMS W/O MCC should be cheaper (mean is 5464.85/37.8), so this provider is more likely to commit 'steal a little, all the time'. This provider charges more for 948 treatment."
   ]
  },
  {
   "cell_type": "code",
   "execution_count": 64,
   "metadata": {},
   "outputs": [],
   "source": [
    "# to form a datasets containing all outliers to explore more with outliers (remember: in this project i set outliers boundary at 10%)\n",
    "df_outliers = df1.loc[df1['outlier'] == 1]"
   ]
  },
  {
   "cell_type": "code",
   "execution_count": 65,
   "metadata": {},
   "outputs": [
    {
     "data": {
      "text/html": [
       "<div>\n",
       "<style scoped>\n",
       "    .dataframe tbody tr th:only-of-type {\n",
       "        vertical-align: middle;\n",
       "    }\n",
       "\n",
       "    .dataframe tbody tr th {\n",
       "        vertical-align: top;\n",
       "    }\n",
       "\n",
       "    .dataframe thead th {\n",
       "        text-align: right;\n",
       "    }\n",
       "</style>\n",
       "<table border=\"1\" class=\"dataframe\">\n",
       "  <thead>\n",
       "    <tr style=\"text-align: right;\">\n",
       "      <th></th>\n",
       "      <th>DRG Definition</th>\n",
       "      <th>Provider Id</th>\n",
       "      <th>Provider Name</th>\n",
       "      <th>Provider Street Address</th>\n",
       "      <th>Provider City</th>\n",
       "      <th>Provider State</th>\n",
       "      <th>Provider Zip Code</th>\n",
       "      <th>Hospital Referral Region Description</th>\n",
       "      <th>DRG Code</th>\n",
       "    </tr>\n",
       "  </thead>\n",
       "  <tbody>\n",
       "    <tr>\n",
       "      <td>count</td>\n",
       "      <td>14287</td>\n",
       "      <td>14287</td>\n",
       "      <td>14287</td>\n",
       "      <td>14287</td>\n",
       "      <td>14287</td>\n",
       "      <td>14287</td>\n",
       "      <td>14287</td>\n",
       "      <td>14287</td>\n",
       "      <td>14287</td>\n",
       "    </tr>\n",
       "    <tr>\n",
       "      <td>unique</td>\n",
       "      <td>100</td>\n",
       "      <td>1035</td>\n",
       "      <td>992</td>\n",
       "      <td>1035</td>\n",
       "      <td>329</td>\n",
       "      <td>49</td>\n",
       "      <td>863</td>\n",
       "      <td>230</td>\n",
       "      <td>100</td>\n",
       "    </tr>\n",
       "    <tr>\n",
       "      <td>top</td>\n",
       "      <td>470 - MAJOR JOINT REPLACEMENT OR REATTACHMENT ...</td>\n",
       "      <td>180088</td>\n",
       "      <td>GOOD SAMARITAN HOSPITAL</td>\n",
       "      <td>200 EAST CHESTNUT STREET</td>\n",
       "      <td>CHICAGO</td>\n",
       "      <td>TX</td>\n",
       "      <td>77030</td>\n",
       "      <td>TX - Houston</td>\n",
       "      <td>470</td>\n",
       "    </tr>\n",
       "    <tr>\n",
       "      <td>freq</td>\n",
       "      <td>289</td>\n",
       "      <td>83</td>\n",
       "      <td>102</td>\n",
       "      <td>83</td>\n",
       "      <td>409</td>\n",
       "      <td>1765</td>\n",
       "      <td>166</td>\n",
       "      <td>469</td>\n",
       "      <td>289</td>\n",
       "    </tr>\n",
       "  </tbody>\n",
       "</table>\n",
       "</div>"
      ],
      "text/plain": [
       "                                           DRG Definition Provider Id  \\\n",
       "count                                               14287       14287   \n",
       "unique                                                100        1035   \n",
       "top     470 - MAJOR JOINT REPLACEMENT OR REATTACHMENT ...      180088   \n",
       "freq                                                  289          83   \n",
       "\n",
       "                  Provider Name   Provider Street Address Provider City  \\\n",
       "count                     14287                     14287         14287   \n",
       "unique                      992                      1035           329   \n",
       "top     GOOD SAMARITAN HOSPITAL  200 EAST CHESTNUT STREET       CHICAGO   \n",
       "freq                        102                        83           409   \n",
       "\n",
       "       Provider State Provider Zip Code Hospital Referral Region Description  \\\n",
       "count           14287             14287                                14287   \n",
       "unique             49               863                                  230   \n",
       "top                TX             77030                         TX - Houston   \n",
       "freq             1765               166                                  469   \n",
       "\n",
       "       DRG Code  \n",
       "count     14287  \n",
       "unique      100  \n",
       "top        470   \n",
       "freq        289  "
      ]
     },
     "execution_count": 65,
     "metadata": {},
     "output_type": "execute_result"
    }
   ],
   "source": [
    "df_outliers.describe(include=['O'])"
   ]
  },
  {
   "cell_type": "markdown",
   "metadata": {},
   "source": [
    "From the above statistics, we could get some insights:\n",
    "\n",
    "a) 470 - MAJOR JOINT REPLACEMENT OR REATTACHMENT is the most common DRG misused by suspicously fraud providers\n",
    "\n",
    "b) we should inspect provider GOOD SAMARITAN HOSPITAL which often commits fruads.\n",
    "\n",
    "c) TX state has high fraud rate"
   ]
  },
  {
   "cell_type": "markdown",
   "metadata": {},
   "source": [
    "###### visulisation"
   ]
  },
  {
   "cell_type": "code",
   "execution_count": 137,
   "metadata": {},
   "outputs": [
    {
     "name": "stdout",
     "output_type": "stream",
     "text": [
      "OUTLIERS:  14287 INLIERS:  148778\n"
     ]
    },
    {
     "data": {
      "image/png": "[encoded data removed]",
      "text/plain": [
       "<Figure size 360x360 with 1 Axes>"
      ]
     },
     "metadata": {
      "needs_background": "light"
     },
     "output_type": "display_data"
    }
   ],
   "source": [
    "from numpy import percentile\n",
    "import matplotlib\n",
    "\n",
    "outliers_fraction=0.1\n",
    "n_inliers = len(y_pred2) - np.count_nonzero(y_pred2)\n",
    "n_outliers = np.count_nonzero(y_pred2 == 1)\n",
    "plt.figure(figsize=(5, 5))\n",
    "# Total Discharges - inlier feature 1,  Average Total Payments($) - inlier feature 2\n",
    "inliers_TotalDischarges = df1['Total Discharges'][df1['outlier'] == 0]\n",
    "inliers_AverageTotalPayments = df1['Average Total Payments($)'][df1['outlier'] == 0]    \n",
    "# Total Discharges - outlier feature 1, Average Total Payments($) - outlier feature 2\n",
    "outliers_TotalDischarges = df1['Total Discharges'][df1['outlier'] == 1]\n",
    "outliers_AverageTotalPayments = df1['Average Total Payments($)'][df1['outlier'] == 1]\n",
    "\n",
    "print('OUTLIERS: ',n_outliers,'INLIERS: ',n_inliers)\n",
    "b= plt.scatter(inliers_TotalDischarges , inliers_AverageTotalPayments, c='white',s=20, edgecolor='k')\n",
    "c= plt.scatter(outliers_TotalDischarges, outliers_AverageTotalPayments, c='black',s=20, edgecolor='k')\n",
    "       \n",
    "plt.axis('tight')  \n",
    "   \n",
    "plt.legend([b,c], ['inliers','outliers'],\n",
    "           prop=matplotlib.font_manager.FontProperties(size=20),loc='higher right')         \n",
    "\n",
    "plt.title('K Nearest Neighbors (KNN)')\n",
    "plt.show();"
   ]
  },
  {
   "cell_type": "markdown",
   "metadata": {},
   "source": [
    "##### Model 2: PCA"
   ]
  },
  {
   "cell_type": "markdown",
   "metadata": {},
   "source": [
    "PCA works by analyzing data that contains multiple variables. It looks for correlations among the variables and determines the combination of values that best captures differences in outcomes. These combined feature values are used to create a more compact feature space called the principal components.\n",
    "\n",
    "For anomaly detection, each new input is analyzed, and the anomaly detection algorithm computes its projection on the eigenvectors, together with a normalized reconstruction error. The normalized error is used as the anomaly score. The higher the error, the more anomalous the instance is."
   ]
  },
  {
   "cell_type": "markdown",
   "metadata": {},
   "source": [
    "###### reference:\n",
    "\n",
    "https://towardsdatascience.com/fraud-detection-unsupervised-anomaly-detection-df43d81fce67\n",
    "\n",
    "https://towardsdatascience.com/machine-learning-for-anomaly-detection-and-condition-monitoring-d4614e7de770\n",
    "\n",
    "https://docs.microsoft.com/en-us/azure/machine-learning/studio-module-reference/pca-based-anomaly-detection"
   ]
  },
  {
   "cell_type": "code",
   "execution_count": 154,
   "metadata": {},
   "outputs": [],
   "source": [
    "# create new dataset for pca model\n",
    "columns =['mean_ratio_AverageTotalPayments','mean_ratio_AverageMedicarePayments','mean_ratio_TotalDischarges','median_ratio__AverageTotalPayments','median_ratio__AverageMedicarePayments','median_ratio_TotalDischarges']\n",
    "dfpca = df[columns]"
   ]
  },
  {
   "cell_type": "code",
   "execution_count": 155,
   "metadata": {},
   "outputs": [],
   "source": [
    "# before setting up the models, we need to define train/test data. (7:3)\n",
    "from sklearn.model_selection import train_test_split \n",
    "dfpca_train, dfpca_test = train_test_split(dfpca, test_size = 0.3 , random_state=42 )"
   ]
  },
  {
   "cell_type": "code",
   "execution_count": 156,
   "metadata": {},
   "outputs": [],
   "source": [
    "# Normalize data (scale the input variables of the model)\n",
    "#The “MinMaxScaler” simply re-scales the data to be in the range [0,1]\n",
    "from sklearn import preprocessing\n",
    "from sklearn.preprocessing import MinMaxScaler\n",
    "scaler = preprocessing.MinMaxScaler()\n",
    "X_train = pd.DataFrame(scaler.fit_transform(dfpca_train), \n",
    "                              columns=dfpca_train.columns, \n",
    "                              index=dfpca_train.index)\n",
    "# Random shuffle training data\n",
    "X_train.sample(frac=1)\n",
    "X_test = pd.DataFrame(scaler.transform(dfpca_test), \n",
    "                             columns=dfpca_test.columns, \n",
    "                             index=dfpca_test.index)"
   ]
  },
  {
   "cell_type": "code",
   "execution_count": 160,
   "metadata": {},
   "outputs": [],
   "source": [
    "#compress down to two main principal components\n",
    "from sklearn.decomposition import PCA\n",
    "pca = PCA(n_components=2, svd_solver= 'full')\n",
    "X_train_PCA = pca.fit_transform(X_train)\n",
    "X_train_PCA = pd.DataFrame(X_train_PCA)\n",
    "X_train_PCA.index = X_train.index\n",
    "\n",
    "X_test_PCA = pca.transform(X_test)\n",
    "X_test_PCA = pd.DataFrame(X_test_PCA)\n",
    "X_test_PCA.index = X_test.index"
   ]
  },
  {
   "cell_type": "markdown",
   "metadata": {},
   "source": [
    "The Mahalanobis distance metric: In this case, we just want to classify “normal” vs “anomaly”, we use training data that only contains normal operating conditions to calculate the covariance matrix. Then, given a test sample, we compute the Mahalanobis distance to the “normal” class, and classifies the test point as an “anomaly” if the distance is above a certain threshold. (The Mahalanobis distance is a measure of the distance between a point P and a distribution D, measuring how many standard deviations away P is from the mean of D. This distance is zero if P is at the mean of D, and grows as P moves away from the mean along each principal component axis)"
   ]
  },
  {
   "cell_type": "code",
   "execution_count": 167,
   "metadata": {},
   "outputs": [],
   "source": [
    "# create a set of functions used in a PCA model:\n",
    "# Calculate the covariance matrix:\n",
    "def cov_matrix(data, verbose=False):\n",
    "    covariance_matrix = np.cov(data, rowvar=False)\n",
    "    if is_pos_def(covariance_matrix):\n",
    "        inv_covariance_matrix = np.linalg.inv(covariance_matrix)\n",
    "        if is_pos_def(inv_covariance_matrix):\n",
    "            return covariance_matrix, inv_covariance_matrix\n",
    "        else:\n",
    "            print(\"Error: Inverse of Covariance Matrix is not positive definite!\")\n",
    "    else:\n",
    "        print(\"Error: Covariance Matrix is not positive definite!\")\n",
    "#Calculate the Mahalanobis distance:\n",
    "def MahalanobisDist(inv_cov_matrix, mean_distr, data, verbose=False):\n",
    "    inv_covariance_matrix = inv_cov_matrix\n",
    "    vars_mean = mean_distr\n",
    "    diff = data - vars_mean\n",
    "    md = []\n",
    "    for i in range(len(diff)):\n",
    "        md.append(np.sqrt(diff[i].dot(inv_covariance_matrix).dot(diff[i])))\n",
    "    return md\n",
    "#detecting outliers:\n",
    "def MD_detectOutliers(dist, extreme=False, verbose=False):\n",
    "    k = 3. if extreme else 2.\n",
    "    threshold = np.mean(dist) * k\n",
    "    outliers = []\n",
    "    for i in range(len(dist)):\n",
    "        if dist[i] >= threshold:\n",
    "            outliers.append(i)  # index of the outlier\n",
    "    return np.array(outliers)\n",
    "#Calculate threshold value for classifying datapoint as anomaly:\n",
    "def MD_threshold(dist, extreme=False, verbose=False):\n",
    "    k = 3. if extreme else 2.    #(defined as 3 standard deviations from the center of the distribution)\n",
    "    threshold = np.mean(dist) * k\n",
    "    return threshold\n",
    "#Check if matrix is positive definite:\n",
    "def is_pos_def(A):\n",
    "    if np.allclose(A, A.T):\n",
    "        try:\n",
    "            np.linalg.cholesky(A)\n",
    "            return True\n",
    "        except np.linalg.LinAlgError:\n",
    "            return False\n",
    "    else:\n",
    "        return False"
   ]
  },
  {
   "cell_type": "code",
   "execution_count": 168,
   "metadata": {},
   "outputs": [],
   "source": [
    "# PCA model\n",
    "#Define train/test set from the two main principal components:\n",
    "dfpca_train = np.array(X_train_PCA.values)\n",
    "dfpca_test = np.array(X_test_PCA.values)"
   ]
  },
  {
   "cell_type": "code",
   "execution_count": 169,
   "metadata": {},
   "outputs": [],
   "source": [
    "#Calculate the covariance matrix and its inverse, based on data in the training set:\n",
    "cov_matrix, inv_cov_matrix  = cov_matrix(dfpca_train)\n",
    "#calculate the mean value for the input variables in the training set, \n",
    "#as this is used later to calculate the Mahalanobis distance to datapoints in the test set\n",
    "mean_distr = dfpca_train.mean(axis=0)\n",
    "#Using the covariance matrix and its inverse, we can calculate the Mahalanobis distance for the training data defining “normal conditions”, \n",
    "#and find the threshold value to flag datapoints as an anomaly. \n",
    "#One can then calculate the Mahalanobis distance for the datapoints in the test set\n",
    "#and compare that with the anomaly threshold.\n",
    "dist_test = MahalanobisDist(inv_cov_matrix, mean_distr, dfpca_test, verbose=False)\n",
    "dist_train = MahalanobisDist(inv_cov_matrix, mean_distr,dfpca_train, verbose=False)\n",
    "threshold = MD_threshold(dist_train, extreme = True)"
   ]
  },
  {
   "cell_type": "code",
   "execution_count": 175,
   "metadata": {},
   "outputs": [
    {
     "data": {
      "image/png": "[encoded data removed]",
      "text/plain": [
       "<Figure size 432x288 with 1 Axes>"
      ]
     },
     "metadata": {
      "needs_background": "light"
     },
     "output_type": "display_data"
    }
   ],
   "source": [
    "#set threshold value for flagging an anomaly:\n",
    "#Assumption: The square of the Mahalanobis distance to the centroid of the distribution should follow a χ2 distribution if the assumption of normal distributed input variables is fulfilled.\n",
    "# visualizing the square of the Mahalanobis distance(which should then ideally follow a χ2 distribution)\n",
    "plt.figure()\n",
    "sns.distplot(np.square(dist_train),\n",
    "             bins = 10, \n",
    "             kde= False);"
   ]
  },
  {
   "cell_type": "code",
   "execution_count": 176,
   "metadata": {},
   "outputs": [
    {
     "data": {
      "text/plain": [
       "Text(0.5, 0, 'Mahalanobis dist')"
      ]
     },
     "execution_count": 176,
     "metadata": {},
     "output_type": "execute_result"
    },
    {
     "data": {
      "image/png": "[encoded data removed]",
      "text/plain": [
       "<Figure size 432x288 with 1 Axes>"
      ]
     },
     "metadata": {
      "needs_background": "light"
     },
     "output_type": "display_data"
    }
   ],
   "source": [
    "#visualize the Mahalanobis distance\n",
    "plt.figure()\n",
    "sns.distplot(dist_train,\n",
    "             bins = 10, \n",
    "             kde= True, \n",
    "            color = 'green');\n",
    "plt.xlabel('Mahalanobis dist')"
   ]
  },
  {
   "cell_type": "markdown",
   "metadata": {},
   "source": [
    "From the above distributions, the calculated threshold value of 2.25 for flagging an anomaly seems reasonable(defined as 3 standard deviations from the center of the distribution)"
   ]
  },
  {
   "cell_type": "code",
   "execution_count": 177,
   "metadata": {},
   "outputs": [
    {
     "data": {
      "text/html": [
       "<div>\n",
       "<style scoped>\n",
       "    .dataframe tbody tr th:only-of-type {\n",
       "        vertical-align: middle;\n",
       "    }\n",
       "\n",
       "    .dataframe tbody tr th {\n",
       "        vertical-align: top;\n",
       "    }\n",
       "\n",
       "    .dataframe thead th {\n",
       "        text-align: right;\n",
       "    }\n",
       "</style>\n",
       "<table border=\"1\" class=\"dataframe\">\n",
       "  <thead>\n",
       "    <tr style=\"text-align: right;\">\n",
       "      <th></th>\n",
       "      <th>Mob dist</th>\n",
       "      <th>Thresh</th>\n",
       "      <th>Anomaly</th>\n",
       "    </tr>\n",
       "  </thead>\n",
       "  <tbody>\n",
       "    <tr>\n",
       "      <td>136351</td>\n",
       "      <td>2.334260</td>\n",
       "      <td>2.250858</td>\n",
       "      <td>True</td>\n",
       "    </tr>\n",
       "    <tr>\n",
       "      <td>89009</td>\n",
       "      <td>2.539348</td>\n",
       "      <td>2.250858</td>\n",
       "      <td>True</td>\n",
       "    </tr>\n",
       "    <tr>\n",
       "      <td>123343</td>\n",
       "      <td>0.032846</td>\n",
       "      <td>2.250858</td>\n",
       "      <td>False</td>\n",
       "    </tr>\n",
       "    <tr>\n",
       "      <td>24542</td>\n",
       "      <td>0.660366</td>\n",
       "      <td>2.250858</td>\n",
       "      <td>False</td>\n",
       "    </tr>\n",
       "    <tr>\n",
       "      <td>65814</td>\n",
       "      <td>0.453929</td>\n",
       "      <td>2.250858</td>\n",
       "      <td>False</td>\n",
       "    </tr>\n",
       "  </tbody>\n",
       "</table>\n",
       "</div>"
      ],
      "text/plain": [
       "        Mob dist    Thresh  Anomaly\n",
       "136351  2.334260  2.250858     True\n",
       "89009   2.539348  2.250858     True\n",
       "123343  0.032846  2.250858    False\n",
       "24542   0.660366  2.250858    False\n",
       "65814   0.453929  2.250858    False"
      ]
     },
     "execution_count": 177,
     "metadata": {},
     "output_type": "execute_result"
    }
   ],
   "source": [
    "# According to Mahalanobis distance and the threshold we set, we could identify outtliers\n",
    "anomaly_train = pd.DataFrame()\n",
    "anomaly_train['Mob dist']= dist_train\n",
    "anomaly_train['Thresh'] = threshold\n",
    "# If Mob dist above threshold: Flag as anomaly\n",
    "anomaly_train['Anomaly'] = anomaly_train['Mob dist'] > anomaly_train['Thresh']\n",
    "anomaly_train.index = X_train_PCA.index\n",
    "anomaly = pd.DataFrame()\n",
    "anomaly['Mob dist']= dist_test\n",
    "anomaly['Thresh'] = threshold\n",
    "# If Mob dist above threshold: Flag as anomaly\n",
    "anomaly['Anomaly'] = anomaly['Mob dist'] > anomaly['Thresh']\n",
    "anomaly.index = X_test_PCA.index\n",
    "anomaly.head()"
   ]
  },
  {
   "cell_type": "code",
   "execution_count": 178,
   "metadata": {},
   "outputs": [],
   "source": [
    "anomaly_alldata = pd.concat([anomaly_train, anomaly])"
   ]
  },
  {
   "cell_type": "code",
   "execution_count": 179,
   "metadata": {},
   "outputs": [
    {
     "data": {
      "text/html": [
       "<div>\n",
       "<style scoped>\n",
       "    .dataframe tbody tr th:only-of-type {\n",
       "        vertical-align: middle;\n",
       "    }\n",
       "\n",
       "    .dataframe tbody tr th {\n",
       "        vertical-align: top;\n",
       "    }\n",
       "\n",
       "    .dataframe thead th {\n",
       "        text-align: right;\n",
       "    }\n",
       "</style>\n",
       "<table border=\"1\" class=\"dataframe\">\n",
       "  <thead>\n",
       "    <tr style=\"text-align: right;\">\n",
       "      <th></th>\n",
       "      <th>Mob dist</th>\n",
       "      <th>Thresh</th>\n",
       "      <th>Anomaly</th>\n",
       "    </tr>\n",
       "  </thead>\n",
       "  <tbody>\n",
       "    <tr>\n",
       "      <td>26935</td>\n",
       "      <td>2.342006</td>\n",
       "      <td>2.250858</td>\n",
       "      <td>True</td>\n",
       "    </tr>\n",
       "    <tr>\n",
       "      <td>3332</td>\n",
       "      <td>0.032846</td>\n",
       "      <td>2.250858</td>\n",
       "      <td>False</td>\n",
       "    </tr>\n",
       "    <tr>\n",
       "      <td>44167</td>\n",
       "      <td>0.032846</td>\n",
       "      <td>2.250858</td>\n",
       "      <td>False</td>\n",
       "    </tr>\n",
       "    <tr>\n",
       "      <td>45554</td>\n",
       "      <td>0.324413</td>\n",
       "      <td>2.250858</td>\n",
       "      <td>False</td>\n",
       "    </tr>\n",
       "    <tr>\n",
       "      <td>70056</td>\n",
       "      <td>3.902433</td>\n",
       "      <td>2.250858</td>\n",
       "      <td>True</td>\n",
       "    </tr>\n",
       "    <tr>\n",
       "      <td>...</td>\n",
       "      <td>...</td>\n",
       "      <td>...</td>\n",
       "      <td>...</td>\n",
       "    </tr>\n",
       "    <tr>\n",
       "      <td>107182</td>\n",
       "      <td>0.227775</td>\n",
       "      <td>2.250858</td>\n",
       "      <td>False</td>\n",
       "    </tr>\n",
       "    <tr>\n",
       "      <td>97730</td>\n",
       "      <td>0.553020</td>\n",
       "      <td>2.250858</td>\n",
       "      <td>False</td>\n",
       "    </tr>\n",
       "    <tr>\n",
       "      <td>13401</td>\n",
       "      <td>2.047302</td>\n",
       "      <td>2.250858</td>\n",
       "      <td>False</td>\n",
       "    </tr>\n",
       "    <tr>\n",
       "      <td>108383</td>\n",
       "      <td>0.032846</td>\n",
       "      <td>2.250858</td>\n",
       "      <td>False</td>\n",
       "    </tr>\n",
       "    <tr>\n",
       "      <td>62755</td>\n",
       "      <td>0.032846</td>\n",
       "      <td>2.250858</td>\n",
       "      <td>False</td>\n",
       "    </tr>\n",
       "  </tbody>\n",
       "</table>\n",
       "<p>163065 rows × 3 columns</p>\n",
       "</div>"
      ],
      "text/plain": [
       "        Mob dist    Thresh  Anomaly\n",
       "26935   2.342006  2.250858     True\n",
       "3332    0.032846  2.250858    False\n",
       "44167   0.032846  2.250858    False\n",
       "45554   0.324413  2.250858    False\n",
       "70056   3.902433  2.250858     True\n",
       "...          ...       ...      ...\n",
       "107182  0.227775  2.250858    False\n",
       "97730   0.553020  2.250858    False\n",
       "13401   2.047302  2.250858    False\n",
       "108383  0.032846  2.250858    False\n",
       "62755   0.032846  2.250858    False\n",
       "\n",
       "[163065 rows x 3 columns]"
      ]
     },
     "execution_count": 179,
     "metadata": {},
     "output_type": "execute_result"
    }
   ],
   "source": [
    "anomaly_alldata"
   ]
  },
  {
   "cell_type": "code",
   "execution_count": 210,
   "metadata": {},
   "outputs": [],
   "source": [
    "#copy a new clean dataset containing tall of the original feattures\n",
    "dfpca2=df.drop('outlier',axis=1)"
   ]
  },
  {
   "cell_type": "code",
   "execution_count": 211,
   "metadata": {},
   "outputs": [],
   "source": [
    "#put the outlier column into he dataset \n",
    "dfpca2['outlier'] = anomaly_alldata['Anomaly'].tolist()"
   ]
  },
  {
   "cell_type": "code",
   "execution_count": 212,
   "metadata": {},
   "outputs": [],
   "source": [
    "# Converting boolean to integer \n",
    "dfpca2['outlier']=dfpca2['outlier'].apply(lambda x:np.multiply(x, 1))"
   ]
  },
  {
   "cell_type": "code",
   "execution_count": 214,
   "metadata": {},
   "outputs": [],
   "source": [
    "# to form a datasets containing all outliers to explore more with outliers (remember: in this project i set outliers boundary at 10%)\n",
    "dfpca_outliers = dfpca2.loc[dfpca['outlier'] == 1]"
   ]
  },
  {
   "cell_type": "markdown",
   "metadata": {},
   "source": [
    "Lets's look in details for a couple of outliers that determined by KNN, and try to understand what make them anomalies."
   ]
  },
  {
   "cell_type": "code",
   "execution_count": 221,
   "metadata": {},
   "outputs": [
    {
     "data": {
      "text/plain": [
       "DRG Definition                           948 - SIGNS & SYMPTOMS W/O MCC\n",
       "Provider Id                                                      520013\n",
       "Provider Name                                        SACRED HEART HSPTL\n",
       "Provider Street Address                            900 W CLAIREMONT AVE\n",
       "Provider City                                                EAU CLAIRE\n",
       "Provider State                                                       WI\n",
       "Provider Zip Code                                                 54701\n",
       "Hospital Referral Region Description                   MN - Minneapolis\n",
       "Total Discharges                                                     17\n",
       "Average Covered Charges($)                                      11501.7\n",
       "Average Total Payments($)                                       4880.11\n",
       "Average Medicare Payments($)                                    3268.88\n",
       "DRG Code                                                           948 \n",
       "Mean - Total Discharges                                            21.5\n",
       "Mean - Average Total Payments($)                                4614.61\n",
       "Mean - Average Medicare Payments($)                             3047.23\n",
       "Median - Total Discharges                                          21.5\n",
       "Median - Average Total Payments($)                              4614.61\n",
       "Median - Average Medicare Payments($)                           3047.23\n",
       "mean_ratio_AverageTotalPayments                                 1.05753\n",
       "mean_ratio_AverageMedicarePayments                              1.07274\n",
       "mean_ratio_TotalDischarges                                     0.790698\n",
       "median_ratio__AverageTotalPayments                              1.05753\n",
       "median_ratio__AverageMedicarePayments                           1.07274\n",
       "median_ratio_TotalDischarges                                   0.790698\n",
       "outlier                                                               1\n",
       "Name: 163019, dtype: object"
      ]
     },
     "execution_count": 221,
     "metadata": {},
     "output_type": "execute_result"
    }
   ],
   "source": [
    "dfpca_outliers.loc[163019]"
   ]
  },
  {
   "cell_type": "markdown",
   "metadata": {},
   "source": [
    "For this particular provider, it had a total of 17 discharges with toal payments of $4880.11, but we should notice in EAU CLAIRE City in WI state, the cost of treatment for 948 - SIGNS & SYMPTOMS W/O MCC should be cheaper (mean is 4614.61/21.5), so this provider is suspcious. "
   ]
  },
  {
   "cell_type": "code",
   "execution_count": 215,
   "metadata": {},
   "outputs": [
    {
     "data": {
      "text/html": [
       "<div>\n",
       "<style scoped>\n",
       "    .dataframe tbody tr th:only-of-type {\n",
       "        vertical-align: middle;\n",
       "    }\n",
       "\n",
       "    .dataframe tbody tr th {\n",
       "        vertical-align: top;\n",
       "    }\n",
       "\n",
       "    .dataframe thead th {\n",
       "        text-align: right;\n",
       "    }\n",
       "</style>\n",
       "<table border=\"1\" class=\"dataframe\">\n",
       "  <thead>\n",
       "    <tr style=\"text-align: right;\">\n",
       "      <th></th>\n",
       "      <th>DRG Definition</th>\n",
       "      <th>Provider Id</th>\n",
       "      <th>Provider Name</th>\n",
       "      <th>Provider Street Address</th>\n",
       "      <th>Provider City</th>\n",
       "      <th>Provider State</th>\n",
       "      <th>Provider Zip Code</th>\n",
       "      <th>Hospital Referral Region Description</th>\n",
       "      <th>DRG Code</th>\n",
       "    </tr>\n",
       "  </thead>\n",
       "  <tbody>\n",
       "    <tr>\n",
       "      <td>count</td>\n",
       "      <td>18225</td>\n",
       "      <td>18225</td>\n",
       "      <td>18225</td>\n",
       "      <td>18225</td>\n",
       "      <td>18225</td>\n",
       "      <td>18225</td>\n",
       "      <td>18225</td>\n",
       "      <td>18225</td>\n",
       "      <td>18225</td>\n",
       "    </tr>\n",
       "    <tr>\n",
       "      <td>unique</td>\n",
       "      <td>100</td>\n",
       "      <td>2982</td>\n",
       "      <td>2860</td>\n",
       "      <td>2972</td>\n",
       "      <td>1834</td>\n",
       "      <td>51</td>\n",
       "      <td>2782</td>\n",
       "      <td>306</td>\n",
       "      <td>100</td>\n",
       "    </tr>\n",
       "    <tr>\n",
       "      <td>top</td>\n",
       "      <td>392 - ESOPHAGITIS, GASTROENT &amp; MISC DIGEST DIS...</td>\n",
       "      <td>260104</td>\n",
       "      <td>GOOD SAMARITAN HOSPITAL</td>\n",
       "      <td>12303 DEPAUL DRIVE</td>\n",
       "      <td>CHICAGO</td>\n",
       "      <td>CA</td>\n",
       "      <td>76104</td>\n",
       "      <td>CA - Los Angeles</td>\n",
       "      <td>392</td>\n",
       "    </tr>\n",
       "    <tr>\n",
       "      <td>freq</td>\n",
       "      <td>356</td>\n",
       "      <td>22</td>\n",
       "      <td>74</td>\n",
       "      <td>22</td>\n",
       "      <td>184</td>\n",
       "      <td>1431</td>\n",
       "      <td>38</td>\n",
       "      <td>391</td>\n",
       "      <td>356</td>\n",
       "    </tr>\n",
       "  </tbody>\n",
       "</table>\n",
       "</div>"
      ],
      "text/plain": [
       "                                           DRG Definition Provider Id  \\\n",
       "count                                               18225       18225   \n",
       "unique                                                100        2982   \n",
       "top     392 - ESOPHAGITIS, GASTROENT & MISC DIGEST DIS...      260104   \n",
       "freq                                                  356          22   \n",
       "\n",
       "                  Provider Name Provider Street Address Provider City  \\\n",
       "count                     18225                   18225         18225   \n",
       "unique                     2860                    2972          1834   \n",
       "top     GOOD SAMARITAN HOSPITAL      12303 DEPAUL DRIVE       CHICAGO   \n",
       "freq                         74                      22           184   \n",
       "\n",
       "       Provider State Provider Zip Code Hospital Referral Region Description  \\\n",
       "count           18225             18225                                18225   \n",
       "unique             51              2782                                  306   \n",
       "top                CA             76104                     CA - Los Angeles   \n",
       "freq             1431                38                                  391   \n",
       "\n",
       "       DRG Code  \n",
       "count     18225  \n",
       "unique      100  \n",
       "top        392   \n",
       "freq        356  "
      ]
     },
     "execution_count": 215,
     "metadata": {},
     "output_type": "execute_result"
    }
   ],
   "source": [
    "dfpca_outliers.describe(include=['O'])"
   ]
  },
  {
   "cell_type": "markdown",
   "metadata": {},
   "source": [
    "From the above statistics produced by PCA, we could get the following insights (we could find we get some same conculusion from KNN):\n",
    "a) 392 - ESOPHAGITIS, GASTROENT & MISC DIGEST DIS is often used by suspicious providers\n",
    "b) GOOD SAMARITAN HOSPITAL should be given more attention, we should take more care of its transactions, since it has been detected as anomoly \n",
    "c) CA is a state where providers are more likely to commit frauds."
   ]
  },
  {
   "cell_type": "code",
   "execution_count": 217,
   "metadata": {},
   "outputs": [
    {
     "name": "stdout",
     "output_type": "stream",
     "text": [
      "OUTLIERS:  18225 INLIERS:  144840\n"
     ]
    },
    {
     "data": {
      "image/png": "[encoded data removed]",
      "text/plain": [
       "<Figure size 360x360 with 1 Axes>"
      ]
     },
     "metadata": {
      "needs_background": "light"
     },
     "output_type": "display_data"
    }
   ],
   "source": [
    "#visulization\n",
    "from numpy import percentile\n",
    "import matplotlib\n",
    "\n",
    "outliers_fraction=0.1\n",
    "n_inliers = len(dfpca2) - len(dfpca_outliers)\n",
    "n_outliers = len(dfpca_outliers)\n",
    "plt.figure(figsize=(5, 5))\n",
    "# Total Discharges - inlier feature 1,  Average Total Payments($) - inlier feature 2\n",
    "inliers_TotalDischarges = dfpca2['Total Discharges'][dfpca2['outlier'] == 0]\n",
    "inliers_AverageTotalPayments = dfpca2['Average Total Payments($)'][dfpca2['outlier'] == 0]    \n",
    "# Total Discharges - outlier feature 1, Average Total Payments($) - outlier feature 2\n",
    "outliers_TotalDischarges = dfpca2['Total Discharges'][dfpca2['outlier'] == 1]\n",
    "outliers_AverageTotalPayments = dfpca2['Average Total Payments($)'][dfpca2['outlier'] == 1]\n",
    "\n",
    "print('OUTLIERS: ',n_outliers,'INLIERS: ',n_inliers)\n",
    "b= plt.scatter(inliers_TotalDischarges , inliers_AverageTotalPayments, c='white',s=20, edgecolor='k')\n",
    "c= plt.scatter(outliers_TotalDischarges, outliers_AverageTotalPayments, c='black',s=20, edgecolor='k')\n",
    "       \n",
    "plt.axis('tight')  \n",
    "   \n",
    "plt.legend([c,b], ['inliers','outliers'],\n",
    "           prop=matplotlib.font_manager.FontProperties(size=20),loc='higher right')         \n",
    "\n",
    "plt.title('PCA')\n",
    "plt.show();"
   ]
  },
  {
   "cell_type": "code",
   "execution_count": null,
   "metadata": {},
   "outputs": [],
   "source": []
  }
 ],
 "metadata": {
  "kernelspec": {
   "display_name": "Python 3",
   "language": "python",
   "name": "python3"
  },
  "language_info": {
   "codemirror_mode": {
    "name": "ipython",
    "version": 3
   },
   "file_extension": ".py",
   "mimetype": "text/x-python",
   "name": "python",
   "nbconvert_exporter": "python",
   "pygments_lexer": "ipython3",
   "version": "3.8.2"
  }
 },
 "nbformat": 4,
 "nbformat_minor": 2
}
