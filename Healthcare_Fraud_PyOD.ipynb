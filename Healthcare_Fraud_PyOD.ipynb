{
 "cells": [
  {
   "cell_type": "markdown",
   "metadata": {},
   "source": [
    "### Assignment 7 - Unsupervised Machine Learning Techniques Assignment II"
   ]
  },
  {
   "cell_type": "markdown",
   "metadata": {},
   "source": [
    "### Author: jd3631 Chloe Du"
   ]
  },
  {
   "cell_type": "markdown",
   "metadata": {},
   "source": [
    "This week, I will continue exploring 'Inpatient Charges' dataset. As shown in previous projects, this dataset is tidy and we have created enough features, so this week I will mainly focus on trying anther two algorithms in PyOD (Autoencoder and iForest), then I will inspect the summary statistics to extract some insights about the anomalies."
   ]
  },
  {
   "cell_type": "markdown",
   "metadata": {},
   "source": [
    "#### Remember:\n",
    "To detect the anomolies, we mainly focus on finding out the unusually high total discharges or cost of treatments to see if there are abuse or wastes."
   ]
  },
  {
   "cell_type": "markdown",
   "metadata": {},
   "source": [
    "#### Review the Healthcare dataset\n",
    "This part is the same as the previous"
   ]
  },
  {
   "cell_type": "code",
   "execution_count": 248,
   "metadata": {},
   "outputs": [],
   "source": [
    "#import necessary libraries\n",
    "import numpy as np \n",
    "import pandas as pd\n",
    "\n",
    "from scipy import stats  #for some statistics\n",
    "from scipy.stats import norm, skew\n",
    "\n",
    "\n",
    "import matplotlib.pyplot as plt # for visulisation\n",
    "import seaborn as sns\n",
    "color = sns.color_palette()\n",
    "sns.set_style('whitegrid')\n",
    "%matplotlib inline\n",
    "\n",
    "import warnings \n",
    "def ignore_warn(*args, **kwargs):\n",
    "    pass\n",
    "warnings.warn = ignore_warn  #ignore warnings (from sklearn and seaborn)"
   ]
  },
  {
   "cell_type": "code",
   "execution_count": 249,
   "metadata": {},
   "outputs": [
    {
     "data": {
      "text/plain": [
       "(163065, 12)"
      ]
     },
     "execution_count": 249,
     "metadata": {},
     "output_type": "execute_result"
    }
   ],
   "source": [
    "# Now to import and put the dataset \n",
    "df = pd.read_csv(\"/Users/jiayangdu/Desktop/Columbia University /APAN 5420/inpatientCharges.csv\")\n",
    "df.shape\n",
    "# This original dataset has 163,065 rows and 12 columns"
   ]
  },
  {
   "cell_type": "code",
   "execution_count": 250,
   "metadata": {},
   "outputs": [],
   "source": [
    "#something wrong with the columns, some are not callable, so I just rename them\n",
    "df.columns= ['DRG Definition','Provider Id','Provider Name','Provider Street Address','Provider City','Provider State','Provider Zip Code','Hospital Referral Region Description','Total Discharges','Average Covered Charges($)','Average Total Payments($)','Average Medicare Payments($)']\n",
    "# convert datatype\n",
    "df['Provider Id'] = df['Provider Id'].apply(lambda x:str(x))\n",
    "df['Provider Zip Code'] = df['Provider Zip Code'].apply(lambda x:str(x))\n",
    "\n",
    "num_cols = ['Average Covered Charges($)','Average Total Payments($)','Average Medicare Payments($)']\n",
    "df[num_cols] = df[num_cols].replace({'\\$':''}, regex = True)\n",
    "df['Average Covered Charges($)'] = df['Average Covered Charges($)'].apply(lambda x:float(x))\n",
    "df['Average Total Payments($)'] = df['Average Total Payments($)'].apply(lambda x:float(x))\n",
    "df['Average Medicare Payments($)'] = df['Average Medicare Payments($)'].apply(lambda x:float(x))\n",
    "# since the DRG Definition is too long, to make everything easy, we just extract the code from each DRG Definition \n",
    "df['DRG Code'] = df['DRG Definition'].apply(lambda x:x.split('-')[0])"
   ]
  },
  {
   "cell_type": "code",
   "execution_count": 251,
   "metadata": {},
   "outputs": [
    {
     "data": {
      "text/html": [
       "<div>\n",
       "<style scoped>\n",
       "    .dataframe tbody tr th:only-of-type {\n",
       "        vertical-align: middle;\n",
       "    }\n",
       "\n",
       "    .dataframe tbody tr th {\n",
       "        vertical-align: top;\n",
       "    }\n",
       "\n",
       "    .dataframe thead th {\n",
       "        text-align: right;\n",
       "    }\n",
       "</style>\n",
       "<table border=\"1\" class=\"dataframe\">\n",
       "  <thead>\n",
       "    <tr style=\"text-align: right;\">\n",
       "      <th></th>\n",
       "      <th>DRG Definition</th>\n",
       "      <th>Provider Id</th>\n",
       "      <th>Provider Name</th>\n",
       "      <th>Provider Street Address</th>\n",
       "      <th>Provider City</th>\n",
       "      <th>Provider State</th>\n",
       "      <th>Provider Zip Code</th>\n",
       "      <th>Hospital Referral Region Description</th>\n",
       "      <th>DRG Code</th>\n",
       "    </tr>\n",
       "  </thead>\n",
       "  <tbody>\n",
       "    <tr>\n",
       "      <td>count</td>\n",
       "      <td>163065</td>\n",
       "      <td>163065</td>\n",
       "      <td>163065</td>\n",
       "      <td>163065</td>\n",
       "      <td>163065</td>\n",
       "      <td>163065</td>\n",
       "      <td>163065</td>\n",
       "      <td>163065</td>\n",
       "      <td>163065</td>\n",
       "    </tr>\n",
       "    <tr>\n",
       "      <td>unique</td>\n",
       "      <td>100</td>\n",
       "      <td>3337</td>\n",
       "      <td>3201</td>\n",
       "      <td>3326</td>\n",
       "      <td>1977</td>\n",
       "      <td>51</td>\n",
       "      <td>3053</td>\n",
       "      <td>306</td>\n",
       "      <td>100</td>\n",
       "    </tr>\n",
       "    <tr>\n",
       "      <td>top</td>\n",
       "      <td>194 - SIMPLE PNEUMONIA &amp; PLEURISY W CC</td>\n",
       "      <td>100220</td>\n",
       "      <td>GOOD SAMARITAN HOSPITAL</td>\n",
       "      <td>100 MEDICAL CENTER DRIVE</td>\n",
       "      <td>CHICAGO</td>\n",
       "      <td>CA</td>\n",
       "      <td>76104</td>\n",
       "      <td>CA - Los Angeles</td>\n",
       "      <td>194</td>\n",
       "    </tr>\n",
       "    <tr>\n",
       "      <td>freq</td>\n",
       "      <td>3023</td>\n",
       "      <td>100</td>\n",
       "      <td>633</td>\n",
       "      <td>183</td>\n",
       "      <td>1505</td>\n",
       "      <td>13064</td>\n",
       "      <td>317</td>\n",
       "      <td>3653</td>\n",
       "      <td>3023</td>\n",
       "    </tr>\n",
       "  </tbody>\n",
       "</table>\n",
       "</div>"
      ],
      "text/plain": [
       "                                DRG Definition Provider Id  \\\n",
       "count                                   163065      163065   \n",
       "unique                                     100        3337   \n",
       "top     194 - SIMPLE PNEUMONIA & PLEURISY W CC      100220   \n",
       "freq                                      3023         100   \n",
       "\n",
       "                  Provider Name   Provider Street Address Provider City  \\\n",
       "count                    163065                    163065        163065   \n",
       "unique                     3201                      3326          1977   \n",
       "top     GOOD SAMARITAN HOSPITAL  100 MEDICAL CENTER DRIVE       CHICAGO   \n",
       "freq                        633                       183          1505   \n",
       "\n",
       "       Provider State Provider Zip Code Hospital Referral Region Description  \\\n",
       "count          163065            163065                               163065   \n",
       "unique             51              3053                                  306   \n",
       "top                CA             76104                     CA - Los Angeles   \n",
       "freq            13064               317                                 3653   \n",
       "\n",
       "       DRG Code  \n",
       "count    163065  \n",
       "unique      100  \n",
       "top        194   \n",
       "freq       3023  "
      ]
     },
     "execution_count": 251,
     "metadata": {},
     "output_type": "execute_result"
    }
   ],
   "source": [
    "#Take a quick look at some basic categorical data\n",
    "df.describe(include=['O'])"
   ]
  },
  {
   "cell_type": "code",
   "execution_count": 252,
   "metadata": {},
   "outputs": [
    {
     "data": {
      "text/html": [
       "<div>\n",
       "<style scoped>\n",
       "    .dataframe tbody tr th:only-of-type {\n",
       "        vertical-align: middle;\n",
       "    }\n",
       "\n",
       "    .dataframe tbody tr th {\n",
       "        vertical-align: top;\n",
       "    }\n",
       "\n",
       "    .dataframe thead th {\n",
       "        text-align: right;\n",
       "    }\n",
       "</style>\n",
       "<table border=\"1\" class=\"dataframe\">\n",
       "  <thead>\n",
       "    <tr style=\"text-align: right;\">\n",
       "      <th></th>\n",
       "      <th>Total Discharges</th>\n",
       "      <th>Average Covered Charges($)</th>\n",
       "      <th>Average Total Payments($)</th>\n",
       "      <th>Average Medicare Payments($)</th>\n",
       "    </tr>\n",
       "  </thead>\n",
       "  <tbody>\n",
       "    <tr>\n",
       "      <td>count</td>\n",
       "      <td>163065.000000</td>\n",
       "      <td>163065.000000</td>\n",
       "      <td>163065.000000</td>\n",
       "      <td>163065.000000</td>\n",
       "    </tr>\n",
       "    <tr>\n",
       "      <td>mean</td>\n",
       "      <td>42.776304</td>\n",
       "      <td>36133.954224</td>\n",
       "      <td>9707.473804</td>\n",
       "      <td>8494.490964</td>\n",
       "    </tr>\n",
       "    <tr>\n",
       "      <td>std</td>\n",
       "      <td>51.104042</td>\n",
       "      <td>35065.365931</td>\n",
       "      <td>7664.642598</td>\n",
       "      <td>7309.467261</td>\n",
       "    </tr>\n",
       "    <tr>\n",
       "      <td>min</td>\n",
       "      <td>11.000000</td>\n",
       "      <td>2459.400000</td>\n",
       "      <td>2673.000000</td>\n",
       "      <td>1148.900000</td>\n",
       "    </tr>\n",
       "    <tr>\n",
       "      <td>25%</td>\n",
       "      <td>17.000000</td>\n",
       "      <td>15947.160000</td>\n",
       "      <td>5234.500000</td>\n",
       "      <td>4192.350000</td>\n",
       "    </tr>\n",
       "    <tr>\n",
       "      <td>50%</td>\n",
       "      <td>27.000000</td>\n",
       "      <td>25245.820000</td>\n",
       "      <td>7214.100000</td>\n",
       "      <td>6158.460000</td>\n",
       "    </tr>\n",
       "    <tr>\n",
       "      <td>75%</td>\n",
       "      <td>49.000000</td>\n",
       "      <td>43232.590000</td>\n",
       "      <td>11286.400000</td>\n",
       "      <td>10056.880000</td>\n",
       "    </tr>\n",
       "    <tr>\n",
       "      <td>max</td>\n",
       "      <td>3383.000000</td>\n",
       "      <td>929118.900000</td>\n",
       "      <td>156158.180000</td>\n",
       "      <td>154620.810000</td>\n",
       "    </tr>\n",
       "  </tbody>\n",
       "</table>\n",
       "</div>"
      ],
      "text/plain": [
       "       Total Discharges  Average Covered Charges($)  \\\n",
       "count     163065.000000               163065.000000   \n",
       "mean          42.776304                36133.954224   \n",
       "std           51.104042                35065.365931   \n",
       "min           11.000000                 2459.400000   \n",
       "25%           17.000000                15947.160000   \n",
       "50%           27.000000                25245.820000   \n",
       "75%           49.000000                43232.590000   \n",
       "max         3383.000000               929118.900000   \n",
       "\n",
       "       Average Total Payments($)  Average Medicare Payments($)  \n",
       "count              163065.000000                 163065.000000  \n",
       "mean                 9707.473804                   8494.490964  \n",
       "std                  7664.642598                   7309.467261  \n",
       "min                  2673.000000                   1148.900000  \n",
       "25%                  5234.500000                   4192.350000  \n",
       "50%                  7214.100000                   6158.460000  \n",
       "75%                 11286.400000                  10056.880000  \n",
       "max                156158.180000                 154620.810000  "
      ]
     },
     "execution_count": 252,
     "metadata": {},
     "output_type": "execute_result"
    }
   ],
   "source": [
    "df.describe()"
   ]
  },
  {
   "cell_type": "code",
   "execution_count": 253,
   "metadata": {},
   "outputs": [
    {
     "data": {
      "image/png": "[encoded data removed]",
      "text/plain": [
       "<Figure size 432x288 with 1 Axes>"
      ]
     },
     "metadata": {
      "needs_background": "light"
     },
     "output_type": "display_data"
    }
   ],
   "source": [
    "## have a general look at the outliers\n",
    "plt.scatter(range(df.shape[0]), np.sort(df['Total Discharges'].values))\n",
    "plt.xlabel('index')\n",
    "plt.ylabel('Total Discharges')\n",
    "plt.title(\"Total Discharges distribution\")\n",
    "sns.despine()"
   ]
  },
  {
   "cell_type": "code",
   "execution_count": 254,
   "metadata": {},
   "outputs": [
    {
     "data": {
      "image/png": "[encoded data removed]",
      "text/plain": [
       "<Figure size 432x288 with 1 Axes>"
      ]
     },
     "metadata": {
      "needs_background": "light"
     },
     "output_type": "display_data"
    }
   ],
   "source": [
    "sns.distplot(df['Total Discharges'])\n",
    "plt.title(\"Distribution of Total Discharges\")\n",
    "sns.despine()"
   ]
  },
  {
   "cell_type": "code",
   "execution_count": 255,
   "metadata": {},
   "outputs": [
    {
     "data": {
      "image/png": "[encoded data removed]",
      "text/plain": [
       "<Figure size 432x288 with 1 Axes>"
      ]
     },
     "metadata": {
      "needs_background": "light"
     },
     "output_type": "display_data"
    }
   ],
   "source": [
    "plt.scatter(range(df.shape[0]), np.sort(df['Average Total Payments($)'].values))\n",
    "plt.xlabel('index')\n",
    "plt.ylabel('Average Total Payments($)')\n",
    "plt.title(\"Average Total Payments distribution\")\n",
    "sns.despine()"
   ]
  },
  {
   "cell_type": "code",
   "execution_count": 256,
   "metadata": {},
   "outputs": [
    {
     "data": {
      "image/png": "[encoded data removed]",
      "text/plain": [
       "<Figure size 432x288 with 1 Axes>"
      ]
     },
     "metadata": {
      "needs_background": "light"
     },
     "output_type": "display_data"
    }
   ],
   "source": [
    "sns.distplot(df['Average Total Payments($)'])\n",
    "plt.title(\"Distribution of Average Total Payments\")\n",
    "sns.despine()"
   ]
  },
  {
   "cell_type": "markdown",
   "metadata": {},
   "source": [
    "#### Feature engineering\n",
    "I will still use the features I created last week including mean_ratio_TotalDischarges, mean_ratio_AverageTotalPayments,mean_ratio_AverageMedicarePayments, median_ratio__TotalDischarges, median_ratio__AverageTotalPayments, median_ratio__AverageMedicarePayments (all these features have been grouped by DRG, State & city respectively) "
   ]
  },
  {
   "cell_type": "code",
   "execution_count": 257,
   "metadata": {},
   "outputs": [],
   "source": [
    "#benchmark for Average Medicare Payments($) named as 'Mean - Total Discharges'\n",
    "table1 = df.groupby(['DRG Code','Provider State','Provider City'])['Total Discharges'].apply(lambda x : x.astype(float).mean())\n",
    "df1 = table1.to_frame()\n",
    "df1.reset_index(inplace=True)\n",
    "df1 = df1.rename(columns={'Total Discharges': 'Mean - Total Discharges'})"
   ]
  },
  {
   "cell_type": "code",
   "execution_count": 258,
   "metadata": {},
   "outputs": [],
   "source": [
    "#benchmark for Average Total Payments($) named as 'Mean - Average Total Payments($)'\n",
    "table2 = df.groupby(['DRG Code','Provider State','Provider City'])['Average Total Payments($)'].apply(lambda x : x.astype(float).mean())\n",
    "df2 = table2.to_frame()\n",
    "df2.reset_index(inplace=True)\n",
    "df2 = df2.rename(columns={'Average Total Payments($)': 'Mean - Average Total Payments($)'})"
   ]
  },
  {
   "cell_type": "code",
   "execution_count": 259,
   "metadata": {},
   "outputs": [],
   "source": [
    "#benchmark for Average Medicare Payments($) named as 'Mean - Average Medicare Payments($)'\n",
    "table3 = df.groupby(['DRG Code','Provider State','Provider City'])['Average Medicare Payments($)'].apply(lambda x : x.astype(float).mean())\n",
    "df3 = table3.to_frame()\n",
    "df3.reset_index(inplace=True)\n",
    "df3 = df3.rename(columns={'Average Medicare Payments($)': 'Mean - Average Medicare Payments($)'})"
   ]
  },
  {
   "cell_type": "code",
   "execution_count": 260,
   "metadata": {},
   "outputs": [],
   "source": [
    "#benchmark for Average Medicare Payments($) named as 'Mean - Total Discharges'\n",
    "table4 = df.groupby(['DRG Code','Provider State','Provider City'])['Total Discharges'].apply(lambda x : x.astype(float).median())\n",
    "df4 = table4.to_frame()\n",
    "df4.reset_index(inplace=True)\n",
    "df4 = df4.rename(columns={'Total Discharges': 'Median - Total Discharges'})"
   ]
  },
  {
   "cell_type": "code",
   "execution_count": 261,
   "metadata": {},
   "outputs": [],
   "source": [
    "#benchmark for Average Total Payments($) named as 'Median - Average Total Payments($)'\n",
    "table5 = df.groupby(['DRG Code','Provider State','Provider City'])['Average Total Payments($)'].apply(lambda x : x.astype(float).median())\n",
    "df5 = table5.to_frame()\n",
    "df5.reset_index(inplace=True)\n",
    "df5 = df5.rename(columns={'Average Total Payments($)': 'Median - Average Total Payments($)'})"
   ]
  },
  {
   "cell_type": "code",
   "execution_count": 262,
   "metadata": {},
   "outputs": [],
   "source": [
    "#benchmark for Average Medicare Payments($) named as 'Median - Average Medicare Payments($)'\n",
    "table6 = df.groupby(['DRG Code','Provider State','Provider City'])['Average Medicare Payments($)'].apply(lambda x : x.astype(float).median())\n",
    "df6 = table6.to_frame()\n",
    "df6.reset_index(inplace=True)\n",
    "df6 = df6.rename(columns={'Average Medicare Payments($)': 'Median - Average Medicare Payments($)'})"
   ]
  },
  {
   "cell_type": "code",
   "execution_count": 263,
   "metadata": {},
   "outputs": [],
   "source": [
    "# merge benchmarks into the original dataset\n",
    "df = pd.merge(df, df1, on=['DRG Code','Provider State','Provider City'], how='left')\n",
    "df = pd.merge(df, df2, on=['DRG Code','Provider State','Provider City'], how='left')\n",
    "df = pd.merge(df, df3, on=['DRG Code','Provider State','Provider City'], how='left')\n",
    "df = pd.merge(df, df4, on=['DRG Code','Provider State','Provider City'], how='left')\n",
    "df = pd.merge(df, df5, on=['DRG Code','Provider State','Provider City'], how='left')\n",
    "df = pd.merge(df, df6, on=['DRG Code','Provider State','Provider City'], how='left')"
   ]
  },
  {
   "cell_type": "code",
   "execution_count": 264,
   "metadata": {},
   "outputs": [],
   "source": [
    "#create new columns to derive the ratios\n",
    "df['mean_ratio_AverageTotalPayments'] = df['Average Total Payments($)']/df['Mean - Average Total Payments($)']\n",
    "df['mean_ratio_AverageMedicarePayments'] = df['Average Medicare Payments($)']/df['Mean - Average Medicare Payments($)']\n",
    "df['mean_ratio_TotalDischarges'] = df['Total Discharges']/df['Mean - Total Discharges']\n",
    "df['median_ratio__AverageTotalPayments'] = df['Average Total Payments($)']/df['Median - Average Total Payments($)']\n",
    "df['median_ratio__AverageMedicarePayments'] = df['Average Medicare Payments($)']/df['Median - Average Medicare Payments($)']\n",
    "df['median_ratio_TotalDischarges'] = df['Total Discharges']/df['Median - Total Discharges']"
   ]
  },
  {
   "cell_type": "code",
   "execution_count": 265,
   "metadata": {},
   "outputs": [],
   "source": [
    "#extract columns we need for modeling \n",
    "model_columns =['mean_ratio_AverageTotalPayments','mean_ratio_AverageMedicarePayments','mean_ratio_TotalDischarges','median_ratio__AverageTotalPayments','median_ratio__AverageMedicarePayments','median_ratio_TotalDischarges']"
   ]
  },
  {
   "cell_type": "code",
   "execution_count": 266,
   "metadata": {},
   "outputs": [],
   "source": [
    "##binning numeric variables\n",
    "#binning: encoding each numerical features into 10 subgroups (0,10,20,30,40,50,60,70,80,90)\n",
    "for col in model_columns:\n",
    "    df[col] = pd.qcut(df[col], 10, duplicates='drop', labels=False)"
   ]
  },
  {
   "cell_type": "markdown",
   "metadata": {},
   "source": [
    "#### Model for Anomaly Detection"
   ]
  },
  {
   "cell_type": "markdown",
   "metadata": {},
   "source": [
    "#### Model 1: Autoencoder"
   ]
  },
  {
   "cell_type": "markdown",
   "metadata": {},
   "source": [
    "In technical term, Autoencoders are a type of unsupervised neural network that can 1) accept an input set of data 2) internally compress the data into a latent-space representation 3) reconstruct the input data from the latent representation. It uses two components an encoder and a decoder. The encoder accepts the input data and compresses it into the latent-space representation. The decoder then attempts to reconstruct the input data from the latent space. \n",
    "This is why autoencoder neural network has the same number of neurons in the output layer as the input layer, which basically means that the number inputs and outputs are the same. \n",
    "\n",
    "\n",
    "How Autoencoder can detect anomalies: after the encoder has been trained to be able to recognize and reconstruct the normal data and learn to compress it into a small element and decode it back as the input with a small error. When we give an anomaly input to the model, it will be unable to resconstruct it(mean-squared-error (MSE) between the input image and the reconstructed image from the autoencoder will be very high). Therefore, what we need to do is calculate MSE of the output compared to input and to properly differentiate the anomalies, by checking the outputs we need to set a threshold value for MSE according to our need so that it predicts with good precision and recall."
   ]
  },
  {
   "cell_type": "markdown",
   "metadata": {},
   "source": [
    "###### Reference:\n",
    "https://towardsdatascience.com/autoencoder-neural-network-for-anomaly-detection-with-unlabeled-dataset-af9051a048\n",
    "\n",
    "https://towardsdatascience.com/anomaly-detection-with-autoencoder-b4cdce4866a6"
   ]
  },
  {
   "cell_type": "code",
   "execution_count": 267,
   "metadata": {},
   "outputs": [],
   "source": [
    "##to form a new dataframe 'dfae' exclusively for modelling\n",
    "dfae = df[model_columns]"
   ]
  },
  {
   "cell_type": "code",
   "execution_count": 268,
   "metadata": {},
   "outputs": [],
   "source": [
    "## before setting up the models, we need to define train/test data. (7:3)\n",
    "from pyod.models.auto_encoder import AutoEncoder\n",
    "from sklearn.model_selection import train_test_split \n",
    "dfae_train, dfae_test = train_test_split(dfae, test_size = 0.3 , random_state=42 )"
   ]
  },
  {
   "cell_type": "code",
   "execution_count": 269,
   "metadata": {},
   "outputs": [],
   "source": [
    "# standardize data (scale the input variables of the model)\n",
    "from sklearn import preprocessing\n",
    "from sklearn.preprocessing import StandardScaler\n",
    "X_train = StandardScaler().fit_transform(dfae_train)\n",
    "X_train = pd.DataFrame(X_train)\n",
    "X_test = StandardScaler().fit_transform(dfae_test)\n",
    "X_test = pd.DataFrame(X_test)"
   ]
  },
  {
   "cell_type": "code",
   "execution_count": 270,
   "metadata": {},
   "outputs": [
    {
     "data": {
      "text/plain": [
       "(114145, 6)"
      ]
     },
     "execution_count": 270,
     "metadata": {},
     "output_type": "execute_result"
    }
   ],
   "source": [
    "X_train.shape"
   ]
  },
  {
   "cell_type": "code",
   "execution_count": 271,
   "metadata": {},
   "outputs": [
    {
     "data": {
      "text/plain": [
       "(48920, 6)"
      ]
     },
     "execution_count": 271,
     "metadata": {},
     "output_type": "execute_result"
    }
   ],
   "source": [
    "X_test.shape"
   ]
  },
  {
   "cell_type": "code",
   "execution_count": 272,
   "metadata": {},
   "outputs": [
    {
     "data": {
      "text/html": [
       "<div>\n",
       "<style scoped>\n",
       "    .dataframe tbody tr th:only-of-type {\n",
       "        vertical-align: middle;\n",
       "    }\n",
       "\n",
       "    .dataframe tbody tr th {\n",
       "        vertical-align: top;\n",
       "    }\n",
       "\n",
       "    .dataframe thead th {\n",
       "        text-align: right;\n",
       "    }\n",
       "</style>\n",
       "<table border=\"1\" class=\"dataframe\">\n",
       "  <thead>\n",
       "    <tr style=\"text-align: right;\">\n",
       "      <th></th>\n",
       "      <th>0</th>\n",
       "      <th>1</th>\n",
       "      <th>2</th>\n",
       "      <th>3</th>\n",
       "      <th>4</th>\n",
       "      <th>5</th>\n",
       "    </tr>\n",
       "  </thead>\n",
       "  <tbody>\n",
       "    <tr>\n",
       "      <td>count</td>\n",
       "      <td>1.141450e+05</td>\n",
       "      <td>1.141450e+05</td>\n",
       "      <td>1.141450e+05</td>\n",
       "      <td>1.141450e+05</td>\n",
       "      <td>1.141450e+05</td>\n",
       "      <td>1.141450e+05</td>\n",
       "    </tr>\n",
       "    <tr>\n",
       "      <td>mean</td>\n",
       "      <td>4.599900e-16</td>\n",
       "      <td>-1.817980e-15</td>\n",
       "      <td>-1.195993e-15</td>\n",
       "      <td>-7.585412e-16</td>\n",
       "      <td>-1.502857e-15</td>\n",
       "      <td>-1.966127e-15</td>\n",
       "    </tr>\n",
       "    <tr>\n",
       "      <td>std</td>\n",
       "      <td>1.000004e+00</td>\n",
       "      <td>1.000004e+00</td>\n",
       "      <td>1.000004e+00</td>\n",
       "      <td>1.000004e+00</td>\n",
       "      <td>1.000004e+00</td>\n",
       "      <td>1.000004e+00</td>\n",
       "    </tr>\n",
       "    <tr>\n",
       "      <td>min</td>\n",
       "      <td>-1.996293e+00</td>\n",
       "      <td>-1.997600e+00</td>\n",
       "      <td>-1.996595e+00</td>\n",
       "      <td>-1.594055e+00</td>\n",
       "      <td>-1.594464e+00</td>\n",
       "      <td>-1.589061e+00</td>\n",
       "    </tr>\n",
       "    <tr>\n",
       "      <td>25%</td>\n",
       "      <td>2.017439e-02</td>\n",
       "      <td>1.959852e-02</td>\n",
       "      <td>2.335028e-02</td>\n",
       "      <td>-2.461622e-01</td>\n",
       "      <td>-2.467045e-01</td>\n",
       "      <td>-2.398538e-01</td>\n",
       "    </tr>\n",
       "    <tr>\n",
       "      <td>50%</td>\n",
       "      <td>2.017439e-02</td>\n",
       "      <td>1.959852e-02</td>\n",
       "      <td>2.335028e-02</td>\n",
       "      <td>-2.461622e-01</td>\n",
       "      <td>-2.467045e-01</td>\n",
       "      <td>-2.398538e-01</td>\n",
       "    </tr>\n",
       "    <tr>\n",
       "      <td>75%</td>\n",
       "      <td>2.017439e-02</td>\n",
       "      <td>1.959852e-02</td>\n",
       "      <td>2.335028e-02</td>\n",
       "      <td>-2.461622e-01</td>\n",
       "      <td>-2.467045e-01</td>\n",
       "      <td>-2.398538e-01</td>\n",
       "    </tr>\n",
       "    <tr>\n",
       "      <td>max</td>\n",
       "      <td>2.036642e+00</td>\n",
       "      <td>2.036797e+00</td>\n",
       "      <td>2.043295e+00</td>\n",
       "      <td>2.449624e+00</td>\n",
       "      <td>2.448815e+00</td>\n",
       "      <td>2.458561e+00</td>\n",
       "    </tr>\n",
       "  </tbody>\n",
       "</table>\n",
       "</div>"
      ],
      "text/plain": [
       "                  0             1             2             3             4  \\\n",
       "count  1.141450e+05  1.141450e+05  1.141450e+05  1.141450e+05  1.141450e+05   \n",
       "mean   4.599900e-16 -1.817980e-15 -1.195993e-15 -7.585412e-16 -1.502857e-15   \n",
       "std    1.000004e+00  1.000004e+00  1.000004e+00  1.000004e+00  1.000004e+00   \n",
       "min   -1.996293e+00 -1.997600e+00 -1.996595e+00 -1.594055e+00 -1.594464e+00   \n",
       "25%    2.017439e-02  1.959852e-02  2.335028e-02 -2.461622e-01 -2.467045e-01   \n",
       "50%    2.017439e-02  1.959852e-02  2.335028e-02 -2.461622e-01 -2.467045e-01   \n",
       "75%    2.017439e-02  1.959852e-02  2.335028e-02 -2.461622e-01 -2.467045e-01   \n",
       "max    2.036642e+00  2.036797e+00  2.043295e+00  2.449624e+00  2.448815e+00   \n",
       "\n",
       "                  5  \n",
       "count  1.141450e+05  \n",
       "mean  -1.966127e-15  \n",
       "std    1.000004e+00  \n",
       "min   -1.589061e+00  \n",
       "25%   -2.398538e-01  \n",
       "50%   -2.398538e-01  \n",
       "75%   -2.398538e-01  \n",
       "max    2.458561e+00  "
      ]
     },
     "execution_count": 272,
     "metadata": {},
     "output_type": "execute_result"
    }
   ],
   "source": [
    "X_train.describe()"
   ]
  },
  {
   "cell_type": "code",
   "execution_count": 273,
   "metadata": {},
   "outputs": [
    {
     "data": {
      "text/html": [
       "<div>\n",
       "<style scoped>\n",
       "    .dataframe tbody tr th:only-of-type {\n",
       "        vertical-align: middle;\n",
       "    }\n",
       "\n",
       "    .dataframe tbody tr th {\n",
       "        vertical-align: top;\n",
       "    }\n",
       "\n",
       "    .dataframe thead th {\n",
       "        text-align: right;\n",
       "    }\n",
       "</style>\n",
       "<table border=\"1\" class=\"dataframe\">\n",
       "  <thead>\n",
       "    <tr style=\"text-align: right;\">\n",
       "      <th></th>\n",
       "      <th>PC1</th>\n",
       "      <th>PC2</th>\n",
       "      <th>PC3</th>\n",
       "    </tr>\n",
       "  </thead>\n",
       "  <tbody>\n",
       "    <tr>\n",
       "      <td>0</td>\n",
       "      <td>-3.510121</td>\n",
       "      <td>3.279146</td>\n",
       "      <td>0.131440</td>\n",
       "    </tr>\n",
       "    <tr>\n",
       "      <td>1</td>\n",
       "      <td>-0.233750</td>\n",
       "      <td>-0.158909</td>\n",
       "      <td>-0.056767</td>\n",
       "    </tr>\n",
       "    <tr>\n",
       "      <td>2</td>\n",
       "      <td>-0.233750</td>\n",
       "      <td>-0.158909</td>\n",
       "      <td>-0.056767</td>\n",
       "    </tr>\n",
       "    <tr>\n",
       "      <td>3</td>\n",
       "      <td>0.437941</td>\n",
       "      <td>-0.824759</td>\n",
       "      <td>-1.566869</td>\n",
       "    </tr>\n",
       "    <tr>\n",
       "      <td>4</td>\n",
       "      <td>4.479610</td>\n",
       "      <td>0.472834</td>\n",
       "      <td>-0.008648</td>\n",
       "    </tr>\n",
       "  </tbody>\n",
       "</table>\n",
       "</div>"
      ],
      "text/plain": [
       "        PC1       PC2       PC3\n",
       "0 -3.510121  3.279146  0.131440\n",
       "1 -0.233750 -0.158909 -0.056767\n",
       "2 -0.233750 -0.158909 -0.056767\n",
       "3  0.437941 -0.824759 -1.566869\n",
       "4  4.479610  0.472834 -0.008648"
      ]
     },
     "execution_count": 273,
     "metadata": {},
     "output_type": "execute_result"
    }
   ],
   "source": [
    "# a 3-d space, dimmension reduction\n",
    "from sklearn.decomposition import PCA\n",
    "pca = PCA(3)\n",
    "x_pca = pca.fit_transform(X_train)\n",
    "x_pca = pd.DataFrame(x_pca)\n",
    "x_pca.columns=['PC1','PC2','PC3']\n",
    "x_pca.head()"
   ]
  },
  {
   "cell_type": "markdown",
   "metadata": {},
   "source": [
    "###### Model 1"
   ]
  },
  {
   "cell_type": "code",
   "execution_count": 310,
   "metadata": {
    "scrolled": true
   },
   "outputs": [
    {
     "name": "stdout",
     "output_type": "stream",
     "text": [
      "Model: \"sequential_11\"\n",
      "_________________________________________________________________\n",
      "Layer (type)                 Output Shape              Param #   \n",
      "=================================================================\n",
      "dense_89 (Dense)             (None, 6)                 42        \n",
      "_________________________________________________________________\n",
      "dropout_78 (Dropout)         (None, 6)                 0         \n",
      "_________________________________________________________________\n",
      "dense_90 (Dense)             (None, 6)                 42        \n",
      "_________________________________________________________________\n",
      "dropout_79 (Dropout)         (None, 6)                 0         \n",
      "_________________________________________________________________\n",
      "dense_91 (Dense)             (None, 6)                 42        \n",
      "_________________________________________________________________\n",
      "dropout_80 (Dropout)         (None, 6)                 0         \n",
      "_________________________________________________________________\n",
      "dense_92 (Dense)             (None, 2)                 14        \n",
      "_________________________________________________________________\n",
      "dropout_81 (Dropout)         (None, 2)                 0         \n",
      "_________________________________________________________________\n",
      "dense_93 (Dense)             (None, 2)                 6         \n",
      "_________________________________________________________________\n",
      "dropout_82 (Dropout)         (None, 2)                 0         \n",
      "_________________________________________________________________\n",
      "dense_94 (Dense)             (None, 6)                 18        \n",
      "_________________________________________________________________\n",
      "dropout_83 (Dropout)         (None, 6)                 0         \n",
      "_________________________________________________________________\n",
      "dense_95 (Dense)             (None, 6)                 42        \n",
      "=================================================================\n",
      "Total params: 206\n",
      "Trainable params: 206\n",
      "Non-trainable params: 0\n",
      "_________________________________________________________________\n",
      "None\n",
      "Epoch 1/100\n",
      "3211/3211 [==============================] - 3s 1ms/step - loss: 1.1038 - val_loss: 1.0360\n",
      "Epoch 2/100\n",
      "3211/3211 [==============================] - 3s 964us/step - loss: 1.0112 - val_loss: 1.0189\n",
      "Epoch 3/100\n",
      "3211/3211 [==============================] - 3s 986us/step - loss: 1.0017 - val_loss: 1.0151\n",
      "Epoch 4/100\n",
      "3211/3211 [==============================] - 3s 993us/step - loss: 0.9995 - val_loss: 1.0142\n",
      "Epoch 5/100\n",
      "3211/3211 [==============================] - 3s 1ms/step - loss: 0.9989 - val_loss: 1.0139\n",
      "Epoch 6/100\n",
      "3211/3211 [==============================] - 3s 1ms/step - loss: 0.9987 - val_loss: 1.0138\n",
      "Epoch 7/100\n",
      "3211/3211 [==============================] - 3s 1ms/step - loss: 0.9986 - val_loss: 1.0138\n",
      "Epoch 8/100\n",
      "3211/3211 [==============================] - 3s 912us/step - loss: 0.9986 - val_loss: 1.0138\n",
      "Epoch 9/100\n",
      "3211/3211 [==============================] - 3s 1ms/step - loss: 0.9985 - val_loss: 1.0138\n",
      "Epoch 10/100\n",
      "3211/3211 [==============================] - 3s 1ms/step - loss: 0.9985 - val_loss: 1.0138\n",
      "Epoch 11/100\n",
      "3211/3211 [==============================] - 3s 1ms/step - loss: 0.9985 - val_loss: 1.0138\n",
      "Epoch 12/100\n",
      "3211/3211 [==============================] - 4s 1ms/step - loss: 0.9985 - val_loss: 1.0137\n",
      "Epoch 13/100\n",
      "3211/3211 [==============================] - 3s 950us/step - loss: 0.9985 - val_loss: 1.0137\n",
      "Epoch 14/100\n",
      "3211/3211 [==============================] - 3s 944us/step - loss: 0.9985 - val_loss: 1.0137\n",
      "Epoch 15/100\n",
      "3211/3211 [==============================] - 3s 940us/step - loss: 0.9985 - val_loss: 1.0137\n",
      "Epoch 16/100\n",
      "3211/3211 [==============================] - 3s 968us/step - loss: 0.9985 - val_loss: 1.0137\n",
      "Epoch 17/100\n",
      "3211/3211 [==============================] - 3s 992us/step - loss: 0.9985 - val_loss: 1.0137\n",
      "Epoch 18/100\n",
      "3211/3211 [==============================] - 3s 976us/step - loss: 0.9985 - val_loss: 1.0137\n",
      "Epoch 19/100\n",
      "3211/3211 [==============================] - 3s 936us/step - loss: 0.9985 - val_loss: 1.0137\n",
      "Epoch 20/100\n",
      "3211/3211 [==============================] - 3s 934us/step - loss: 0.9985 - val_loss: 1.0137\n",
      "Epoch 21/100\n",
      "3211/3211 [==============================] - 3s 936us/step - loss: 0.9985 - val_loss: 1.0137\n",
      "Epoch 22/100\n",
      "3211/3211 [==============================] - 3s 943us/step - loss: 0.9985 - val_loss: 1.0137\n",
      "Epoch 23/100\n",
      "3211/3211 [==============================] - 3s 934us/step - loss: 0.9985 - val_loss: 1.0137\n",
      "Epoch 24/100\n",
      "3211/3211 [==============================] - 3s 937us/step - loss: 0.9985 - val_loss: 1.0137\n",
      "Epoch 25/100\n",
      "3211/3211 [==============================] - 3s 941us/step - loss: 0.9985 - val_loss: 1.0137\n",
      "Epoch 26/100\n",
      "3211/3211 [==============================] - 3s 939us/step - loss: 0.9985 - val_loss: 1.0137\n",
      "Epoch 27/100\n",
      "3211/3211 [==============================] - 3s 938us/step - loss: 0.9985 - val_loss: 1.0137\n",
      "Epoch 28/100\n",
      "3211/3211 [==============================] - 3s 934us/step - loss: 0.9985 - val_loss: 1.0137\n",
      "Epoch 29/100\n",
      "3211/3211 [==============================] - 3s 935us/step - loss: 0.9985 - val_loss: 1.0137\n",
      "Epoch 30/100\n",
      "3211/3211 [==============================] - 3s 930us/step - loss: 0.9985 - val_loss: 1.0137\n",
      "Epoch 31/100\n",
      "3211/3211 [==============================] - 3s 931us/step - loss: 0.9985 - val_loss: 1.0137\n",
      "Epoch 32/100\n",
      "3211/3211 [==============================] - 3s 931us/step - loss: 0.9985 - val_loss: 1.0137\n",
      "Epoch 33/100\n",
      "3211/3211 [==============================] - 3s 935us/step - loss: 0.9985 - val_loss: 1.0137\n",
      "Epoch 34/100\n",
      "3211/3211 [==============================] - 3s 936us/step - loss: 0.9985 - val_loss: 1.0137\n",
      "Epoch 35/100\n",
      "3211/3211 [==============================] - 3s 932us/step - loss: 0.9985 - val_loss: 1.0137\n",
      "Epoch 36/100\n",
      "3211/3211 [==============================] - 3s 934us/step - loss: 0.9985 - val_loss: 1.0137\n",
      "Epoch 37/100\n",
      "3211/3211 [==============================] - 3s 929us/step - loss: 0.9985 - val_loss: 1.0138\n",
      "Epoch 38/100\n",
      "3211/3211 [==============================] - 3s 930us/step - loss: 0.9985 - val_loss: 1.0138\n",
      "Epoch 39/100\n",
      "3211/3211 [==============================] - 3s 938us/step - loss: 0.9985 - val_loss: 1.0137\n",
      "Epoch 40/100\n",
      "3211/3211 [==============================] - 3s 935us/step - loss: 0.9985 - val_loss: 1.0137\n",
      "Epoch 41/100\n",
      "3211/3211 [==============================] - 3s 936us/step - loss: 0.9985 - val_loss: 1.0138\n",
      "Epoch 42/100\n",
      "3211/3211 [==============================] - 3s 930us/step - loss: 0.9985 - val_loss: 1.0138\n",
      "Epoch 43/100\n",
      "3211/3211 [==============================] - 3s 932us/step - loss: 0.9985 - val_loss: 1.0138\n",
      "Epoch 44/100\n",
      "3211/3211 [==============================] - 3s 938us/step - loss: 0.9985 - val_loss: 1.0138\n",
      "Epoch 45/100\n",
      "3211/3211 [==============================] - 3s 969us/step - loss: 0.9985 - val_loss: 1.0138\n",
      "Epoch 46/100\n",
      "3211/3211 [==============================] - 3s 940us/step - loss: 0.9985 - val_loss: 1.0138\n",
      "Epoch 47/100\n",
      "3211/3211 [==============================] - 3s 944us/step - loss: 0.9985 - val_loss: 1.0138\n",
      "Epoch 48/100\n",
      "3211/3211 [==============================] - 3s 962us/step - loss: 0.9985 - val_loss: 1.0138\n",
      "Epoch 49/100\n",
      "3211/3211 [==============================] - 3s 942us/step - loss: 0.9985 - val_loss: 1.0138\n",
      "Epoch 50/100\n",
      "3211/3211 [==============================] - 3s 935us/step - loss: 0.9985 - val_loss: 1.0138\n",
      "Epoch 51/100\n",
      "3211/3211 [==============================] - 3s 934us/step - loss: 0.9985 - val_loss: 1.0138\n",
      "Epoch 52/100\n",
      "3211/3211 [==============================] - 3s 947us/step - loss: 0.9985 - val_loss: 1.0138\n",
      "Epoch 53/100\n",
      "3211/3211 [==============================] - 3s 945us/step - loss: 0.9985 - val_loss: 1.0138\n",
      "Epoch 54/100\n",
      "3211/3211 [==============================] - 3s 947us/step - loss: 0.9985 - val_loss: 1.0138\n",
      "Epoch 55/100\n",
      "3211/3211 [==============================] - 3s 947us/step - loss: 0.9985 - val_loss: 1.0138\n",
      "Epoch 56/100\n",
      "3211/3211 [==============================] - 3s 1ms/step - loss: 0.9985 - val_loss: 1.0138\n",
      "Epoch 57/100\n",
      "3211/3211 [==============================] - 3s 1ms/step - loss: 0.9985 - val_loss: 1.0138\n",
      "Epoch 58/100\n",
      "3211/3211 [==============================] - 3s 1ms/step - loss: 0.9985 - val_loss: 1.0138\n",
      "Epoch 59/100\n",
      "3211/3211 [==============================] - 3s 937us/step - loss: 0.9985 - val_loss: 1.0138\n",
      "Epoch 60/100\n",
      "3211/3211 [==============================] - 3s 1ms/step - loss: 0.9985 - val_loss: 1.0138\n",
      "Epoch 61/100\n",
      "3211/3211 [==============================] - 3s 902us/step - loss: 0.9985 - val_loss: 1.0138\n",
      "Epoch 62/100\n",
      "3211/3211 [==============================] - 3s 912us/step - loss: 0.9985 - val_loss: 1.0138\n",
      "Epoch 63/100\n",
      "3211/3211 [==============================] - 3s 904us/step - loss: 0.9985 - val_loss: 1.0138\n",
      "Epoch 64/100\n",
      "3211/3211 [==============================] - 3s 895us/step - loss: 0.9985 - val_loss: 1.0138\n",
      "Epoch 65/100\n",
      "3211/3211 [==============================] - 3s 907us/step - loss: 0.9985 - val_loss: 1.0138\n",
      "Epoch 66/100\n",
      "3211/3211 [==============================] - 3s 910us/step - loss: 0.9985 - val_loss: 1.0138\n",
      "Epoch 67/100\n",
      "3211/3211 [==============================] - 3s 908us/step - loss: 0.9985 - val_loss: 1.0138\n",
      "Epoch 68/100\n",
      "3211/3211 [==============================] - 3s 914us/step - loss: 0.9985 - val_loss: 1.0138\n",
      "Epoch 69/100\n",
      "3211/3211 [==============================] - 3s 911us/step - loss: 0.9985 - val_loss: 1.0138\n",
      "Epoch 70/100\n",
      "3211/3211 [==============================] - 3s 911us/step - loss: 0.9985 - val_loss: 1.0138\n",
      "Epoch 71/100\n",
      "3211/3211 [==============================] - 3s 896us/step - loss: 0.9985 - val_loss: 1.0138\n",
      "Epoch 72/100\n",
      "3211/3211 [==============================] - 3s 888us/step - loss: 0.9985 - val_loss: 1.0138\n",
      "Epoch 73/100\n",
      "3211/3211 [==============================] - 3s 965us/step - loss: 0.9985 - val_loss: 1.0138\n",
      "Epoch 74/100\n",
      "3211/3211 [==============================] - 3s 907us/step - loss: 0.9985 - val_loss: 1.0138\n",
      "Epoch 75/100\n",
      "3211/3211 [==============================] - 3s 903us/step - loss: 0.9985 - val_loss: 1.0138\n",
      "Epoch 76/100\n",
      "3211/3211 [==============================] - 3s 899us/step - loss: 0.9985 - val_loss: 1.0138\n",
      "Epoch 77/100\n",
      "3211/3211 [==============================] - 3s 905us/step - loss: 0.9985 - val_loss: 1.0138\n",
      "Epoch 78/100\n",
      "3211/3211 [==============================] - 3s 897us/step - loss: 0.9985 - val_loss: 1.0138\n",
      "Epoch 79/100\n",
      "3211/3211 [==============================] - 3s 913us/step - loss: 0.9985 - val_loss: 1.0138\n",
      "Epoch 80/100\n",
      "3211/3211 [==============================] - 3s 904us/step - loss: 0.9985 - val_loss: 1.0138\n",
      "Epoch 81/100\n",
      "3211/3211 [==============================] - 3s 898us/step - loss: 0.9985 - val_loss: 1.0138\n",
      "Epoch 82/100\n",
      "3211/3211 [==============================] - 3s 892us/step - loss: 0.9985 - val_loss: 1.0138\n",
      "Epoch 83/100\n",
      "3211/3211 [==============================] - 3s 900us/step - loss: 0.9985 - val_loss: 1.0138\n",
      "Epoch 84/100\n",
      "3211/3211 [==============================] - 3s 899us/step - loss: 0.9985 - val_loss: 1.0138\n",
      "Epoch 85/100\n",
      "3211/3211 [==============================] - 3s 934us/step - loss: 0.9985 - val_loss: 1.0138\n",
      "Epoch 86/100\n",
      "3211/3211 [==============================] - 3s 906us/step - loss: 0.9985 - val_loss: 1.0138\n",
      "Epoch 87/100\n",
      "3211/3211 [==============================] - 3s 893us/step - loss: 0.9985 - val_loss: 1.0138\n",
      "Epoch 88/100\n",
      "3211/3211 [==============================] - 3s 902us/step - loss: 0.9985 - val_loss: 1.0138\n",
      "Epoch 89/100\n",
      "3211/3211 [==============================] - 3s 911us/step - loss: 0.9985 - val_loss: 1.0138\n",
      "Epoch 90/100\n",
      "3211/3211 [==============================] - 3s 897us/step - loss: 0.9985 - val_loss: 1.0138\n",
      "Epoch 91/100\n",
      "3211/3211 [==============================] - 3s 897us/step - loss: 0.9985 - val_loss: 1.0138\n",
      "Epoch 92/100\n",
      "3211/3211 [==============================] - 3s 899us/step - loss: 0.9985 - val_loss: 1.0138\n",
      "Epoch 93/100\n",
      "3211/3211 [==============================] - 3s 893us/step - loss: 0.9985 - val_loss: 1.0138\n",
      "Epoch 94/100\n",
      "3211/3211 [==============================] - 3s 903us/step - loss: 0.9985 - val_loss: 1.0138\n",
      "Epoch 95/100\n",
      "3211/3211 [==============================] - 3s 903us/step - loss: 0.9985 - val_loss: 1.0138\n",
      "Epoch 96/100\n",
      "3211/3211 [==============================] - 3s 897us/step - loss: 0.9985 - val_loss: 1.0138\n",
      "Epoch 97/100\n",
      "3211/3211 [==============================] - 3s 895us/step - loss: 0.9985 - val_loss: 1.0138\n",
      "Epoch 98/100\n",
      "3211/3211 [==============================] - 3s 952us/step - loss: 0.9985 - val_loss: 1.0138\n",
      "Epoch 99/100\n",
      "3211/3211 [==============================] - 3s 904us/step - loss: 0.9985 - val_loss: 1.0138\n",
      "Epoch 100/100\n",
      "3211/3211 [==============================] - 3s 900us/step - loss: 0.9985 - val_loss: 1.0138\n"
     ]
    },
    {
     "data": {
      "text/plain": [
       "AutoEncoder(batch_size=32, contamination=0.1, dropout_rate=0.2, epochs=100,\n",
       "      hidden_activation='relu', hidden_neurons=[6, 2, 2, 6],\n",
       "      l2_regularizer=0.1,\n",
       "      loss=<function mean_squared_error at 0x12f6fdb00>, optimizer='adam',\n",
       "      output_activation='sigmoid', preprocessing=True, random_state=None,\n",
       "      validation_size=0.1, verbose=1)"
      ]
     },
     "execution_count": 310,
     "metadata": {},
     "output_type": "execute_result"
    }
   ],
   "source": [
    "#### It is unsupervised learning, so it does not require target variable\n",
    "#We will build three models: clf1, clf2, and clf3\n",
    "#clf1 has hidden_neurons = [6, 2, 2, 6]\n",
    "#clf2 has hidden_neurons = [6, 4, 2, 4, 6]\n",
    "#clf3 has hidden_neurons = [6, 4, 2, 1, 2, 4, 6])\n",
    "#The number of the hidden layers and the number of neutrons in a hidden layer: if there are too many hidden layers or too many neutrons, the model tends to overfit; otherwise the model tends to underfit.\n",
    "\n",
    "####Build model\n",
    "clf1 = AutoEncoder(hidden_neurons =[6, 2, 2, 6])\n",
    "clf1.fit(X_train)"
   ]
  },
  {
   "cell_type": "code",
   "execution_count": 313,
   "metadata": {},
   "outputs": [],
   "source": [
    "#\"decision_functions()\" predicts the outliers of a dataframe. A higher score means more abnormal.\n",
    "#The histogram below shows there are outliers. If we choose 1.0 to be the cutpoint, we can suggest those >=1.0 to be outliers\n",
    "y_train_scores = clf1.decision_scores_  # raw outlier scores\n",
    "#y_train_scores\n",
    "\n",
    "# get the prediction on the test data\n",
    "y_test_pred = clf1.predict(X_test)  # outlier labels (0 or 1)\n",
    "# clf.decision_function: Predict raw anomaly score of X using the fitted detector.\n",
    "y_test_scores = clf1.decision_function(X_test)  # outlier scores\n",
    "\n",
    "y_test_pred = pd.Series(y_test_pred)\n",
    "y_test_scores = pd.Series(y_test_scores)"
   ]
  },
  {
   "cell_type": "code",
   "execution_count": 314,
   "metadata": {},
   "outputs": [
    {
     "data": {
      "text/plain": [
       "0    44044\n",
       "1     4876\n",
       "dtype: int64"
      ]
     },
     "execution_count": 314,
     "metadata": {},
     "output_type": "execute_result"
    }
   ],
   "source": [
    "y_test_pred.value_counts()\n",
    "# there are about 5000 anamolies"
   ]
  },
  {
   "cell_type": "code",
   "execution_count": 315,
   "metadata": {},
   "outputs": [
    {
     "data": {
      "image/png": "[encoded data removed]",
      "text/plain": [
       "<Figure size 432x288 with 1 Axes>"
      ]
     },
     "metadata": {
      "needs_background": "light"
     },
     "output_type": "display_data"
    }
   ],
   "source": [
    "###step 2: Determine the Cut Point\n",
    "plt.hist(y_test_scores, bins='auto')  # arguments are passed to np.histogram\n",
    "plt.title(\"Histogram for Model Clf1 Anomaly Scores\")\n",
    "plt.show()"
   ]
  },
  {
   "cell_type": "markdown",
   "metadata": {},
   "source": [
    "I choose 1.0 to be the cut point and those >=1.0 to be outliers. Let’s assign those observations with less than 1.0 anomaly scores to Cluster 0, and to Cluster 1 for those above 1.0. This model has identified 19191 outliers."
   ]
  },
  {
   "cell_type": "code",
   "execution_count": 316,
   "metadata": {},
   "outputs": [
    {
     "data": {
      "text/plain": [
       "0    29729\n",
       "1    19191\n",
       "Name: cluster, dtype: int64"
      ]
     },
     "execution_count": 316,
     "metadata": {},
     "output_type": "execute_result"
    }
   ],
   "source": [
    "###step 3: Get the Summary Statistics by Cluster\n",
    "df_test = X_test.copy()\n",
    "df_test['score'] = y_test_scores\n",
    "df_test['cluster'] = np.where(df_test['score']<1, 0, 1)\n",
    "df_test['cluster'].value_counts()"
   ]
  },
  {
   "cell_type": "code",
   "execution_count": 317,
   "metadata": {},
   "outputs": [
    {
     "data": {
      "text/html": [
       "<div>\n",
       "<style scoped>\n",
       "    .dataframe tbody tr th:only-of-type {\n",
       "        vertical-align: middle;\n",
       "    }\n",
       "\n",
       "    .dataframe tbody tr th {\n",
       "        vertical-align: top;\n",
       "    }\n",
       "\n",
       "    .dataframe thead th {\n",
       "        text-align: right;\n",
       "    }\n",
       "</style>\n",
       "<table border=\"1\" class=\"dataframe\">\n",
       "  <thead>\n",
       "    <tr style=\"text-align: right;\">\n",
       "      <th></th>\n",
       "      <th>0</th>\n",
       "      <th>1</th>\n",
       "      <th>2</th>\n",
       "      <th>3</th>\n",
       "      <th>4</th>\n",
       "      <th>5</th>\n",
       "      <th>score</th>\n",
       "    </tr>\n",
       "    <tr>\n",
       "      <th>cluster</th>\n",
       "      <th></th>\n",
       "      <th></th>\n",
       "      <th></th>\n",
       "      <th></th>\n",
       "      <th></th>\n",
       "      <th></th>\n",
       "      <th></th>\n",
       "    </tr>\n",
       "  </thead>\n",
       "  <tbody>\n",
       "    <tr>\n",
       "      <td>0</td>\n",
       "      <td>0.016823</td>\n",
       "      <td>0.019053</td>\n",
       "      <td>0.020948</td>\n",
       "      <td>-0.24636</td>\n",
       "      <td>-0.245066</td>\n",
       "      <td>-0.242109</td>\n",
       "      <td>0.425049</td>\n",
       "    </tr>\n",
       "    <tr>\n",
       "      <td>1</td>\n",
       "      <td>-0.026060</td>\n",
       "      <td>-0.029515</td>\n",
       "      <td>-0.032451</td>\n",
       "      <td>0.38164</td>\n",
       "      <td>0.379634</td>\n",
       "      <td>0.375054</td>\n",
       "      <td>3.735681</td>\n",
       "    </tr>\n",
       "  </tbody>\n",
       "</table>\n",
       "</div>"
      ],
      "text/plain": [
       "                0         1         2        3         4         5     score\n",
       "cluster                                                                     \n",
       "0        0.016823  0.019053  0.020948 -0.24636 -0.245066 -0.242109  0.425049\n",
       "1       -0.026060 -0.029515 -0.032451  0.38164  0.379634  0.375054  3.735681"
      ]
     },
     "execution_count": 317,
     "metadata": {},
     "output_type": "execute_result"
    }
   ],
   "source": [
    "#We recommend observations in Cluster 1 to be outliers.\n",
    "#The attributes of Cluster 1 are shown below.\n",
    "\n",
    "df_test.groupby('cluster').mean()"
   ]
  },
  {
   "cell_type": "markdown",
   "metadata": {},
   "source": [
    "The size of anomalous cases: 19191 in count and 37.8% in %"
   ]
  },
  {
   "cell_type": "markdown",
   "metadata": {},
   "source": [
    "###### model 2"
   ]
  },
  {
   "cell_type": "code",
   "execution_count": 321,
   "metadata": {
    "scrolled": true
   },
   "outputs": [
    {
     "name": "stdout",
     "output_type": "stream",
     "text": [
      "Model: \"sequential_12\"\n",
      "_________________________________________________________________\n",
      "Layer (type)                 Output Shape              Param #   \n",
      "=================================================================\n",
      "dense_96 (Dense)             (None, 6)                 42        \n",
      "_________________________________________________________________\n",
      "dropout_84 (Dropout)         (None, 6)                 0         \n",
      "_________________________________________________________________\n",
      "dense_97 (Dense)             (None, 6)                 42        \n",
      "_________________________________________________________________\n",
      "dropout_85 (Dropout)         (None, 6)                 0         \n",
      "_________________________________________________________________\n",
      "dense_98 (Dense)             (None, 6)                 42        \n",
      "_________________________________________________________________\n",
      "dropout_86 (Dropout)         (None, 6)                 0         \n",
      "_________________________________________________________________\n",
      "dense_99 (Dense)             (None, 4)                 28        \n",
      "_________________________________________________________________\n",
      "dropout_87 (Dropout)         (None, 4)                 0         \n",
      "_________________________________________________________________\n",
      "dense_100 (Dense)            (None, 2)                 10        \n",
      "_________________________________________________________________\n",
      "dropout_88 (Dropout)         (None, 2)                 0         \n",
      "_________________________________________________________________\n",
      "dense_101 (Dense)            (None, 4)                 12        \n",
      "_________________________________________________________________\n",
      "dropout_89 (Dropout)         (None, 4)                 0         \n",
      "_________________________________________________________________\n",
      "dense_102 (Dense)            (None, 6)                 30        \n",
      "_________________________________________________________________\n",
      "dropout_90 (Dropout)         (None, 6)                 0         \n",
      "_________________________________________________________________\n",
      "dense_103 (Dense)            (None, 6)                 42        \n",
      "=================================================================\n",
      "Total params: 248\n",
      "Trainable params: 248\n",
      "Non-trainable params: 0\n",
      "_________________________________________________________________\n",
      "None\n",
      "Epoch 1/100\n",
      "3211/3211 [==============================] - 3s 1ms/step - loss: 1.1441 - val_loss: 1.0132\n",
      "Epoch 2/100\n",
      "3211/3211 [==============================] - 3s 956us/step - loss: 1.0137 - val_loss: 0.9968\n",
      "Epoch 3/100\n",
      "3211/3211 [==============================] - 3s 964us/step - loss: 1.0043 - val_loss: 0.9929\n",
      "Epoch 4/100\n",
      "3211/3211 [==============================] - 3s 960us/step - loss: 1.0021 - val_loss: 0.9919\n",
      "Epoch 5/100\n",
      "3211/3211 [==============================] - 3s 953us/step - loss: 1.0015 - val_loss: 0.9916\n",
      "Epoch 6/100\n",
      "3211/3211 [==============================] - 3s 1ms/step - loss: 1.0012 - val_loss: 0.9915\n",
      "Epoch 7/100\n",
      "3211/3211 [==============================] - 3s 1ms/step - loss: 1.0011 - val_loss: 0.9914\n",
      "Epoch 8/100\n",
      "3211/3211 [==============================] - 3s 997us/step - loss: 1.0011 - val_loss: 0.9914\n",
      "Epoch 9/100\n",
      "3211/3211 [==============================] - 3s 1ms/step - loss: 1.0010 - val_loss: 0.9914\n",
      "Epoch 10/100\n",
      "3211/3211 [==============================] - 3s 1ms/step - loss: 1.0010 - val_loss: 0.9914\n",
      "Epoch 11/100\n",
      "3211/3211 [==============================] - 3s 991us/step - loss: 1.0010 - val_loss: 0.9914\n",
      "Epoch 12/100\n",
      "3211/3211 [==============================] - 3s 943us/step - loss: 1.0010 - val_loss: 0.9914\n",
      "Epoch 13/100\n",
      "3211/3211 [==============================] - 3s 1ms/step - loss: 1.0010 - val_loss: 0.9914\n",
      "Epoch 14/100\n",
      "3211/3211 [==============================] - 3s 1ms/step - loss: 1.0010 - val_loss: 0.9913\n",
      "Epoch 15/100\n",
      "3211/3211 [==============================] - 3s 1ms/step - loss: 1.0010 - val_loss: 0.9913\n",
      "Epoch 16/100\n",
      "3211/3211 [==============================] - 3s 966us/step - loss: 1.0010 - val_loss: 0.9913\n",
      "Epoch 17/100\n",
      "3211/3211 [==============================] - 3s 974us/step - loss: 1.0010 - val_loss: 0.9913\n",
      "Epoch 18/100\n",
      "3211/3211 [==============================] - 3s 974us/step - loss: 1.0010 - val_loss: 0.9913\n",
      "Epoch 19/100\n",
      "3211/3211 [==============================] - 3s 968us/step - loss: 1.0010 - val_loss: 0.9913\n",
      "Epoch 20/100\n",
      "3211/3211 [==============================] - 3s 964us/step - loss: 1.0010 - val_loss: 0.9913\n",
      "Epoch 21/100\n",
      "3211/3211 [==============================] - 3s 971us/step - loss: 1.0010 - val_loss: 0.9913\n",
      "Epoch 22/100\n",
      "3211/3211 [==============================] - 3s 975us/step - loss: 1.0010 - val_loss: 0.9913\n",
      "Epoch 23/100\n",
      "3211/3211 [==============================] - 3s 978us/step - loss: 1.0010 - val_loss: 0.9913\n",
      "Epoch 24/100\n",
      "3211/3211 [==============================] - 3s 963us/step - loss: 1.0010 - val_loss: 0.9913\n",
      "Epoch 25/100\n",
      "3211/3211 [==============================] - 3s 959us/step - loss: 1.0010 - val_loss: 0.9913\n",
      "Epoch 26/100\n",
      "3211/3211 [==============================] - 3s 957us/step - loss: 1.0010 - val_loss: 0.9913\n",
      "Epoch 27/100\n",
      "3211/3211 [==============================] - 3s 964us/step - loss: 1.0010 - val_loss: 0.9913\n",
      "Epoch 28/100\n",
      "3211/3211 [==============================] - 3s 968us/step - loss: 1.0010 - val_loss: 0.9913\n",
      "Epoch 29/100\n",
      "3211/3211 [==============================] - 3s 951us/step - loss: 1.0010 - val_loss: 0.9913\n",
      "Epoch 30/100\n",
      "3211/3211 [==============================] - 3s 951us/step - loss: 1.0010 - val_loss: 0.9913\n",
      "Epoch 31/100\n",
      "3211/3211 [==============================] - 3s 959us/step - loss: 1.0010 - val_loss: 0.9913\n",
      "Epoch 32/100\n",
      "3211/3211 [==============================] - 3s 977us/step - loss: 1.0010 - val_loss: 0.9913\n",
      "Epoch 33/100\n",
      "3211/3211 [==============================] - 3s 948us/step - loss: 1.0010 - val_loss: 0.9913\n",
      "Epoch 34/100\n",
      "3211/3211 [==============================] - 3s 962us/step - loss: 1.0010 - val_loss: 0.9913\n",
      "Epoch 35/100\n",
      "3211/3211 [==============================] - 3s 970us/step - loss: 1.0010 - val_loss: 0.9913\n",
      "Epoch 36/100\n",
      "3211/3211 [==============================] - 3s 974us/step - loss: 1.0010 - val_loss: 0.9913\n",
      "Epoch 37/100\n",
      "3211/3211 [==============================] - 4s 1ms/step - loss: 1.0010 - val_loss: 0.9913\n",
      "Epoch 38/100\n",
      "3211/3211 [==============================] - 3s 1ms/step - loss: 1.0010 - val_loss: 0.9913\n",
      "Epoch 39/100\n",
      "3211/3211 [==============================] - 3s 987us/step - loss: 1.0010 - val_loss: 0.9913\n",
      "Epoch 40/100\n",
      "3211/3211 [==============================] - 3s 1ms/step - loss: 1.0010 - val_loss: 0.9913\n",
      "Epoch 41/100\n",
      "3211/3211 [==============================] - 3s 975us/step - loss: 1.0010 - val_loss: 0.9913\n",
      "Epoch 42/100\n",
      "3211/3211 [==============================] - 3s 972us/step - loss: 1.0010 - val_loss: 0.9913\n",
      "Epoch 43/100\n",
      "3211/3211 [==============================] - 3s 981us/step - loss: 1.0010 - val_loss: 0.9913\n",
      "Epoch 44/100\n",
      "3211/3211 [==============================] - 3s 987us/step - loss: 1.0010 - val_loss: 0.9913\n",
      "Epoch 45/100\n",
      "3211/3211 [==============================] - 3s 995us/step - loss: 1.0010 - val_loss: 0.9913\n",
      "Epoch 46/100\n",
      "3211/3211 [==============================] - 3s 985us/step - loss: 1.0010 - val_loss: 0.9913\n",
      "Epoch 47/100\n",
      "3211/3211 [==============================] - 3s 994us/step - loss: 1.0010 - val_loss: 0.9913\n",
      "Epoch 48/100\n",
      "3211/3211 [==============================] - 3s 986us/step - loss: 1.0010 - val_loss: 0.9913\n",
      "Epoch 49/100\n",
      "3211/3211 [==============================] - 3s 1ms/step - loss: 1.0010 - val_loss: 0.9913\n",
      "Epoch 50/100\n",
      "3211/3211 [==============================] - 3s 1ms/step - loss: 1.0010 - val_loss: 0.9913\n",
      "Epoch 51/100\n",
      "3211/3211 [==============================] - 3s 1ms/step - loss: 1.0010 - val_loss: 0.9913\n",
      "Epoch 52/100\n",
      "3211/3211 [==============================] - 3s 1ms/step - loss: 1.0010 - val_loss: 0.9913\n",
      "Epoch 53/100\n",
      "3211/3211 [==============================] - 3s 993us/step - loss: 1.0010 - val_loss: 0.9913\n",
      "Epoch 54/100\n",
      "3211/3211 [==============================] - 3s 1ms/step - loss: 1.0010 - val_loss: 0.9913\n",
      "Epoch 55/100\n",
      "3211/3211 [==============================] - 3s 1ms/step - loss: 1.0010 - val_loss: 0.9913\n",
      "Epoch 56/100\n",
      "3211/3211 [==============================] - 3s 945us/step - loss: 1.0010 - val_loss: 0.9913\n",
      "Epoch 57/100\n",
      "3211/3211 [==============================] - 3s 938us/step - loss: 1.0010 - val_loss: 0.9913\n",
      "Epoch 58/100\n",
      "3211/3211 [==============================] - 3s 935us/step - loss: 1.0010 - val_loss: 0.9913\n",
      "Epoch 59/100\n",
      "3211/3211 [==============================] - 3s 933us/step - loss: 1.0010 - val_loss: 0.9913\n",
      "Epoch 60/100\n",
      "3211/3211 [==============================] - 3s 956us/step - loss: 1.0010 - val_loss: 0.9913\n",
      "Epoch 61/100\n",
      "3211/3211 [==============================] - 3s 986us/step - loss: 1.0010 - val_loss: 0.9913\n",
      "Epoch 62/100\n",
      "3211/3211 [==============================] - 3s 937us/step - loss: 1.0010 - val_loss: 0.9913\n",
      "Epoch 63/100\n",
      "3211/3211 [==============================] - 3s 928us/step - loss: 1.0010 - val_loss: 0.9913\n",
      "Epoch 64/100\n",
      "3211/3211 [==============================] - 3s 947us/step - loss: 1.0010 - val_loss: 0.9913\n",
      "Epoch 65/100\n",
      "3211/3211 [==============================] - 3s 955us/step - loss: 1.0010 - val_loss: 0.9913\n",
      "Epoch 66/100\n",
      "3211/3211 [==============================] - 3s 934us/step - loss: 1.0010 - val_loss: 0.9913\n",
      "Epoch 67/100\n",
      "3211/3211 [==============================] - 3s 920us/step - loss: 1.0010 - val_loss: 0.9913\n",
      "Epoch 68/100\n",
      "3211/3211 [==============================] - 3s 948us/step - loss: 1.0010 - val_loss: 0.9913\n",
      "Epoch 69/100\n",
      "3211/3211 [==============================] - 3s 929us/step - loss: 1.0010 - val_loss: 0.9913\n",
      "Epoch 70/100\n",
      "3211/3211 [==============================] - 3s 945us/step - loss: 1.0010 - val_loss: 0.9913\n",
      "Epoch 71/100\n",
      "3211/3211 [==============================] - 3s 930us/step - loss: 1.0010 - val_loss: 0.9913\n",
      "Epoch 72/100\n",
      "3211/3211 [==============================] - 3s 922us/step - loss: 1.0010 - val_loss: 0.9913\n",
      "Epoch 73/100\n",
      "3211/3211 [==============================] - 3s 925us/step - loss: 1.0010 - val_loss: 0.9913\n",
      "Epoch 74/100\n",
      "3211/3211 [==============================] - 3s 924us/step - loss: 1.0010 - val_loss: 0.9913\n",
      "Epoch 75/100\n",
      "3211/3211 [==============================] - 3s 931us/step - loss: 1.0010 - val_loss: 0.9913\n",
      "Epoch 76/100\n",
      "3211/3211 [==============================] - 3s 927us/step - loss: 1.0010 - val_loss: 0.9913\n",
      "Epoch 77/100\n",
      "3211/3211 [==============================] - 3s 928us/step - loss: 1.0010 - val_loss: 0.9913\n",
      "Epoch 78/100\n",
      "3211/3211 [==============================] - 3s 928us/step - loss: 1.0010 - val_loss: 0.9913\n",
      "Epoch 79/100\n",
      "3211/3211 [==============================] - 3s 926us/step - loss: 1.0010 - val_loss: 0.9913\n",
      "Epoch 80/100\n",
      "3211/3211 [==============================] - 3s 928us/step - loss: 1.0010 - val_loss: 0.9913\n",
      "Epoch 81/100\n",
      "3211/3211 [==============================] - 3s 933us/step - loss: 1.0010 - val_loss: 0.9913\n",
      "Epoch 82/100\n",
      "3211/3211 [==============================] - 3s 940us/step - loss: 1.0010 - val_loss: 0.9913\n",
      "Epoch 83/100\n",
      "3211/3211 [==============================] - 4s 1ms/step - loss: 1.0010 - val_loss: 0.9913\n",
      "Epoch 84/100\n",
      "3211/3211 [==============================] - 3s 937us/step - loss: 1.0010 - val_loss: 0.9913\n",
      "Epoch 85/100\n",
      "3211/3211 [==============================] - 3s 944us/step - loss: 1.0010 - val_loss: 0.9913\n",
      "Epoch 86/100\n",
      "3211/3211 [==============================] - 3s 939us/step - loss: 1.0010 - val_loss: 0.9913\n",
      "Epoch 87/100\n",
      "3211/3211 [==============================] - 3s 932us/step - loss: 1.0010 - val_loss: 0.9913\n",
      "Epoch 88/100\n",
      "3211/3211 [==============================] - 3s 931us/step - loss: 1.0010 - val_loss: 0.9913\n",
      "Epoch 89/100\n",
      "3211/3211 [==============================] - 3s 936us/step - loss: 1.0010 - val_loss: 0.9913\n",
      "Epoch 90/100\n",
      "3211/3211 [==============================] - 3s 933us/step - loss: 1.0010 - val_loss: 0.9913\n",
      "Epoch 91/100\n",
      "3211/3211 [==============================] - 3s 935us/step - loss: 1.0010 - val_loss: 0.9913\n",
      "Epoch 92/100\n",
      "3211/3211 [==============================] - 3s 938us/step - loss: 1.0010 - val_loss: 0.9913\n",
      "Epoch 93/100\n",
      "3211/3211 [==============================] - 3s 942us/step - loss: 1.0010 - val_loss: 0.9913\n",
      "Epoch 94/100\n",
      "3211/3211 [==============================] - 3s 938us/step - loss: 1.0010 - val_loss: 0.9913\n",
      "Epoch 95/100\n",
      "3211/3211 [==============================] - 3s 945us/step - loss: 1.0010 - val_loss: 0.9913\n",
      "Epoch 96/100\n",
      "3211/3211 [==============================] - 3s 939us/step - loss: 1.0010 - val_loss: 0.9913\n",
      "Epoch 97/100\n",
      "3211/3211 [==============================] - 3s 948us/step - loss: 1.0010 - val_loss: 0.9913\n",
      "Epoch 98/100\n",
      "3211/3211 [==============================] - 3s 942us/step - loss: 1.0010 - val_loss: 0.9913\n",
      "Epoch 99/100\n",
      "3211/3211 [==============================] - 3s 931us/step - loss: 1.0010 - val_loss: 0.9913\n",
      "Epoch 100/100\n",
      "3211/3211 [==============================] - 3s 939us/step - loss: 1.0010 - val_loss: 0.9913\n"
     ]
    }
   ],
   "source": [
    "clf2 = AutoEncoder(hidden_neurons =[6, 4, 2, 4, 6])\n",
    "clf2.fit(X_train)\n",
    "\n",
    "# clf.decision_function: Predict raw anomaly score of X using the fitted detector.\n",
    "y_test_scores2 = clf2.decision_function(X_test)  # outlier scores\n",
    "y_test_scores2 = pd.Series(y_test_scores2)"
   ]
  },
  {
   "cell_type": "code",
   "execution_count": 322,
   "metadata": {},
   "outputs": [
    {
     "data": {
      "image/png": "[encoded data removed]",
      "text/plain": [
       "<Figure size 432x288 with 1 Axes>"
      ]
     },
     "metadata": {
      "needs_background": "light"
     },
     "output_type": "display_data"
    }
   ],
   "source": [
    "# determine the cut point \n",
    "import matplotlib.pyplot as plt\n",
    "plt.hist(y_test_scores2, bins='auto')  # arguments are passed to np.histogram\n",
    "plt.title(\"Histogram for Model Clf2 Anomaly Scores\")\n",
    "plt.show()\n",
    "\n",
    "##still i use 1.0 as  cut point"
   ]
  },
  {
   "cell_type": "code",
   "execution_count": 323,
   "metadata": {},
   "outputs": [
    {
     "data": {
      "text/plain": [
       "0    29729\n",
       "1    19191\n",
       "Name: cluster2, dtype: int64"
      ]
     },
     "execution_count": 323,
     "metadata": {},
     "output_type": "execute_result"
    }
   ],
   "source": [
    "###step 3: Get the Summary Statistics by Cluster\n",
    "df_test = X_test.copy()\n",
    "df_test['score2'] = y_test_scores2\n",
    "df_test['cluster2'] = np.where(df_test['score2']<1, 0, 1)\n",
    "df_test['cluster2'].value_counts()"
   ]
  },
  {
   "cell_type": "code",
   "execution_count": 324,
   "metadata": {},
   "outputs": [
    {
     "data": {
      "text/html": [
       "<div>\n",
       "<style scoped>\n",
       "    .dataframe tbody tr th:only-of-type {\n",
       "        vertical-align: middle;\n",
       "    }\n",
       "\n",
       "    .dataframe tbody tr th {\n",
       "        vertical-align: top;\n",
       "    }\n",
       "\n",
       "    .dataframe thead th {\n",
       "        text-align: right;\n",
       "    }\n",
       "</style>\n",
       "<table border=\"1\" class=\"dataframe\">\n",
       "  <thead>\n",
       "    <tr style=\"text-align: right;\">\n",
       "      <th></th>\n",
       "      <th>0</th>\n",
       "      <th>1</th>\n",
       "      <th>2</th>\n",
       "      <th>3</th>\n",
       "      <th>4</th>\n",
       "      <th>5</th>\n",
       "      <th>score2</th>\n",
       "    </tr>\n",
       "    <tr>\n",
       "      <th>cluster2</th>\n",
       "      <th></th>\n",
       "      <th></th>\n",
       "      <th></th>\n",
       "      <th></th>\n",
       "      <th></th>\n",
       "      <th></th>\n",
       "      <th></th>\n",
       "    </tr>\n",
       "  </thead>\n",
       "  <tbody>\n",
       "    <tr>\n",
       "      <td>0</td>\n",
       "      <td>0.016823</td>\n",
       "      <td>0.019053</td>\n",
       "      <td>0.020948</td>\n",
       "      <td>-0.24636</td>\n",
       "      <td>-0.245066</td>\n",
       "      <td>-0.242109</td>\n",
       "      <td>0.425369</td>\n",
       "    </tr>\n",
       "    <tr>\n",
       "      <td>1</td>\n",
       "      <td>-0.026060</td>\n",
       "      <td>-0.029515</td>\n",
       "      <td>-0.032451</td>\n",
       "      <td>0.38164</td>\n",
       "      <td>0.379634</td>\n",
       "      <td>0.375054</td>\n",
       "      <td>3.735615</td>\n",
       "    </tr>\n",
       "  </tbody>\n",
       "</table>\n",
       "</div>"
      ],
      "text/plain": [
       "                 0         1         2        3         4         5    score2\n",
       "cluster2                                                                     \n",
       "0         0.016823  0.019053  0.020948 -0.24636 -0.245066 -0.242109  0.425369\n",
       "1        -0.026060 -0.029515 -0.032451  0.38164  0.379634  0.375054  3.735615"
      ]
     },
     "execution_count": 324,
     "metadata": {},
     "output_type": "execute_result"
    }
   ],
   "source": [
    "df_test.groupby('cluster2').mean()"
   ]
  },
  {
   "cell_type": "markdown",
   "metadata": {},
   "source": [
    "The size of anomalous cases: 19191 in count and 37.8% in %"
   ]
  },
  {
   "cell_type": "markdown",
   "metadata": {},
   "source": [
    "###### model 3"
   ]
  },
  {
   "cell_type": "code",
   "execution_count": 328,
   "metadata": {
    "scrolled": true
   },
   "outputs": [
    {
     "name": "stdout",
     "output_type": "stream",
     "text": [
      "Model: \"sequential_14\"\n",
      "_________________________________________________________________\n",
      "Layer (type)                 Output Shape              Param #   \n",
      "=================================================================\n",
      "dense_114 (Dense)            (None, 6)                 42        \n",
      "_________________________________________________________________\n",
      "dropout_100 (Dropout)        (None, 6)                 0         \n",
      "_________________________________________________________________\n",
      "dense_115 (Dense)            (None, 6)                 42        \n",
      "_________________________________________________________________\n",
      "dropout_101 (Dropout)        (None, 6)                 0         \n",
      "_________________________________________________________________\n",
      "dense_116 (Dense)            (None, 6)                 42        \n",
      "_________________________________________________________________\n",
      "dropout_102 (Dropout)        (None, 6)                 0         \n",
      "_________________________________________________________________\n",
      "dense_117 (Dense)            (None, 4)                 28        \n",
      "_________________________________________________________________\n",
      "dropout_103 (Dropout)        (None, 4)                 0         \n",
      "_________________________________________________________________\n",
      "dense_118 (Dense)            (None, 2)                 10        \n",
      "_________________________________________________________________\n",
      "dropout_104 (Dropout)        (None, 2)                 0         \n",
      "_________________________________________________________________\n",
      "dense_119 (Dense)            (None, 1)                 3         \n",
      "_________________________________________________________________\n",
      "dropout_105 (Dropout)        (None, 1)                 0         \n",
      "_________________________________________________________________\n",
      "dense_120 (Dense)            (None, 2)                 4         \n",
      "_________________________________________________________________\n",
      "dropout_106 (Dropout)        (None, 2)                 0         \n",
      "_________________________________________________________________\n",
      "dense_121 (Dense)            (None, 4)                 12        \n",
      "_________________________________________________________________\n",
      "dropout_107 (Dropout)        (None, 4)                 0         \n",
      "_________________________________________________________________\n",
      "dense_122 (Dense)            (None, 6)                 30        \n",
      "_________________________________________________________________\n",
      "dropout_108 (Dropout)        (None, 6)                 0         \n",
      "_________________________________________________________________\n",
      "dense_123 (Dense)            (None, 6)                 42        \n",
      "=================================================================\n",
      "Total params: 255\n",
      "Trainable params: 255\n",
      "Non-trainable params: 0\n",
      "_________________________________________________________________\n",
      "None\n",
      "Epoch 1/100\n",
      "3211/3211 [==============================] - 4s 1ms/step - loss: 1.1254 - val_loss: 1.0340\n",
      "Epoch 2/100\n",
      "3211/3211 [==============================] - 4s 1ms/step - loss: 1.0117 - val_loss: 1.0148\n",
      "Epoch 3/100\n",
      "3211/3211 [==============================] - 4s 1ms/step - loss: 1.0018 - val_loss: 1.0111\n",
      "Epoch 4/100\n",
      "3211/3211 [==============================] - 4s 1ms/step - loss: 0.9998 - val_loss: 1.0103\n",
      "Epoch 5/100\n",
      "3211/3211 [==============================] - 4s 1ms/step - loss: 0.9993 - val_loss: 1.0100\n",
      "Epoch 6/100\n",
      "3211/3211 [==============================] - 4s 1ms/step - loss: 0.9991 - val_loss: 1.0099\n",
      "Epoch 7/100\n",
      "3211/3211 [==============================] - 4s 1ms/step - loss: 0.9990 - val_loss: 1.0099\n",
      "Epoch 8/100\n",
      "3211/3211 [==============================] - 4s 1ms/step - loss: 0.9990 - val_loss: 1.0099\n",
      "Epoch 9/100\n",
      "3211/3211 [==============================] - 4s 1ms/step - loss: 0.9990 - val_loss: 1.0098\n",
      "Epoch 10/100\n",
      "3211/3211 [==============================] - 4s 1ms/step - loss: 0.9990 - val_loss: 1.0098\n",
      "Epoch 11/100\n",
      "3211/3211 [==============================] - 4s 1ms/step - loss: 0.9989 - val_loss: 1.0098\n",
      "Epoch 12/100\n",
      "3211/3211 [==============================] - 4s 1ms/step - loss: 0.9989 - val_loss: 1.0098\n",
      "Epoch 13/100\n",
      "3211/3211 [==============================] - 4s 1ms/step - loss: 0.9989 - val_loss: 1.0098\n",
      "Epoch 14/100\n",
      "3211/3211 [==============================] - 4s 1ms/step - loss: 0.9989 - val_loss: 1.0098\n",
      "Epoch 15/100\n",
      "3211/3211 [==============================] - 4s 1ms/step - loss: 0.9989 - val_loss: 1.0098\n",
      "Epoch 16/100\n",
      "3211/3211 [==============================] - 4s 1ms/step - loss: 0.9989 - val_loss: 1.0098\n",
      "Epoch 17/100\n",
      "3211/3211 [==============================] - 4s 1ms/step - loss: 0.9989 - val_loss: 1.0098\n",
      "Epoch 18/100\n",
      "3211/3211 [==============================] - 4s 1ms/step - loss: 0.9989 - val_loss: 1.0098\n",
      "Epoch 19/100\n",
      "3211/3211 [==============================] - 4s 1ms/step - loss: 0.9989 - val_loss: 1.0098\n",
      "Epoch 20/100\n",
      "3211/3211 [==============================] - 4s 1ms/step - loss: 0.9989 - val_loss: 1.0098\n",
      "Epoch 21/100\n",
      "3211/3211 [==============================] - 4s 1ms/step - loss: 0.9989 - val_loss: 1.0098\n",
      "Epoch 22/100\n",
      "3211/3211 [==============================] - 4s 1ms/step - loss: 0.9989 - val_loss: 1.0098\n",
      "Epoch 23/100\n",
      "3211/3211 [==============================] - 4s 1ms/step - loss: 0.9989 - val_loss: 1.0098\n",
      "Epoch 24/100\n",
      "3211/3211 [==============================] - 4s 1ms/step - loss: 0.9989 - val_loss: 1.0098\n",
      "Epoch 25/100\n",
      "3211/3211 [==============================] - 4s 1ms/step - loss: 0.9989 - val_loss: 1.0098\n",
      "Epoch 26/100\n",
      "3211/3211 [==============================] - 4s 1ms/step - loss: 0.9989 - val_loss: 1.0098\n",
      "Epoch 27/100\n",
      "3211/3211 [==============================] - 4s 1ms/step - loss: 0.9989 - val_loss: 1.0098\n",
      "Epoch 28/100\n",
      "3211/3211 [==============================] - 4s 1ms/step - loss: 0.9989 - val_loss: 1.0098\n",
      "Epoch 29/100\n",
      "3211/3211 [==============================] - 4s 1ms/step - loss: 0.9989 - val_loss: 1.0098\n",
      "Epoch 30/100\n",
      "3211/3211 [==============================] - 4s 1ms/step - loss: 0.9989 - val_loss: 1.0098\n",
      "Epoch 31/100\n",
      "3211/3211 [==============================] - 4s 1ms/step - loss: 0.9989 - val_loss: 1.0098\n",
      "Epoch 32/100\n",
      "3211/3211 [==============================] - 4s 1ms/step - loss: 0.9989 - val_loss: 1.0098\n",
      "Epoch 33/100\n",
      "3211/3211 [==============================] - 4s 1ms/step - loss: 0.9989 - val_loss: 1.0098\n",
      "Epoch 34/100\n",
      "3211/3211 [==============================] - 4s 1ms/step - loss: 0.9989 - val_loss: 1.0098\n",
      "Epoch 35/100\n",
      "3211/3211 [==============================] - 4s 1ms/step - loss: 0.9989 - val_loss: 1.0098\n",
      "Epoch 36/100\n",
      "3211/3211 [==============================] - 4s 1ms/step - loss: 0.9989 - val_loss: 1.0098\n",
      "Epoch 37/100\n",
      "3211/3211 [==============================] - 4s 1ms/step - loss: 0.9989 - val_loss: 1.0098\n",
      "Epoch 38/100\n",
      "3211/3211 [==============================] - 4s 1ms/step - loss: 0.9989 - val_loss: 1.0098\n",
      "Epoch 39/100\n",
      "3211/3211 [==============================] - 4s 1ms/step - loss: 0.9989 - val_loss: 1.0098\n",
      "Epoch 40/100\n",
      "3211/3211 [==============================] - 4s 1ms/step - loss: 0.9989 - val_loss: 1.0098\n",
      "Epoch 41/100\n",
      "3211/3211 [==============================] - 4s 1ms/step - loss: 0.9989 - val_loss: 1.0098\n",
      "Epoch 42/100\n",
      "3211/3211 [==============================] - 4s 1ms/step - loss: 0.9989 - val_loss: 1.0098\n",
      "Epoch 43/100\n",
      "3211/3211 [==============================] - 4s 1ms/step - loss: 0.9989 - val_loss: 1.0098\n",
      "Epoch 44/100\n",
      "3211/3211 [==============================] - 4s 1ms/step - loss: 0.9989 - val_loss: 1.0098\n",
      "Epoch 45/100\n",
      "3211/3211 [==============================] - 4s 1ms/step - loss: 0.9989 - val_loss: 1.0098\n",
      "Epoch 46/100\n",
      "3211/3211 [==============================] - 4s 1ms/step - loss: 0.9989 - val_loss: 1.0098\n",
      "Epoch 47/100\n",
      "3211/3211 [==============================] - 4s 1ms/step - loss: 0.9989 - val_loss: 1.0098\n",
      "Epoch 48/100\n",
      "3211/3211 [==============================] - 4s 1ms/step - loss: 0.9989 - val_loss: 1.0098\n",
      "Epoch 49/100\n",
      "3211/3211 [==============================] - 4s 1ms/step - loss: 0.9989 - val_loss: 1.0098\n",
      "Epoch 50/100\n",
      "3211/3211 [==============================] - 4s 1ms/step - loss: 0.9989 - val_loss: 1.0098\n",
      "Epoch 51/100\n",
      "3211/3211 [==============================] - 4s 1ms/step - loss: 0.9989 - val_loss: 1.0098\n",
      "Epoch 52/100\n",
      "3211/3211 [==============================] - 4s 1ms/step - loss: 0.9989 - val_loss: 1.0098\n",
      "Epoch 53/100\n",
      "3211/3211 [==============================] - 4s 1ms/step - loss: 0.9989 - val_loss: 1.0098\n",
      "Epoch 54/100\n",
      "3211/3211 [==============================] - 3s 1ms/step - loss: 0.9989 - val_loss: 1.0098\n",
      "Epoch 55/100\n",
      "3211/3211 [==============================] - 3s 1ms/step - loss: 0.9989 - val_loss: 1.0098\n",
      "Epoch 56/100\n",
      "3211/3211 [==============================] - 3s 1ms/step - loss: 0.9989 - val_loss: 1.0098\n",
      "Epoch 57/100\n",
      "3211/3211 [==============================] - 3s 1ms/step - loss: 0.9989 - val_loss: 1.0098\n",
      "Epoch 58/100\n",
      "3211/3211 [==============================] - 3s 1ms/step - loss: 0.9989 - val_loss: 1.0098\n",
      "Epoch 59/100\n",
      "3211/3211 [==============================] - 3s 1ms/step - loss: 0.9989 - val_loss: 1.0098\n",
      "Epoch 60/100\n",
      "3211/3211 [==============================] - 3s 1ms/step - loss: 0.9989 - val_loss: 1.0098\n",
      "Epoch 61/100\n",
      "3211/3211 [==============================] - 3s 1ms/step - loss: 0.9989 - val_loss: 1.0098\n",
      "Epoch 62/100\n",
      "3211/3211 [==============================] - 3s 1ms/step - loss: 0.9989 - val_loss: 1.0098\n",
      "Epoch 63/100\n",
      "3211/3211 [==============================] - 3s 1ms/step - loss: 0.9989 - val_loss: 1.0098\n",
      "Epoch 64/100\n",
      "3211/3211 [==============================] - 3s 1ms/step - loss: 0.9989 - val_loss: 1.0098\n",
      "Epoch 65/100\n",
      "3211/3211 [==============================] - 3s 1ms/step - loss: 0.9989 - val_loss: 1.0098\n",
      "Epoch 66/100\n",
      "3211/3211 [==============================] - 3s 1ms/step - loss: 0.9989 - val_loss: 1.0098\n",
      "Epoch 67/100\n",
      "3211/3211 [==============================] - 3s 1ms/step - loss: 0.9989 - val_loss: 1.0098\n",
      "Epoch 68/100\n",
      "3211/3211 [==============================] - 3s 1ms/step - loss: 0.9989 - val_loss: 1.0098\n",
      "Epoch 69/100\n",
      "3211/3211 [==============================] - 3s 1ms/step - loss: 0.9989 - val_loss: 1.0098\n",
      "Epoch 70/100\n",
      "3211/3211 [==============================] - 3s 1ms/step - loss: 0.9989 - val_loss: 1.0098\n",
      "Epoch 71/100\n",
      "3211/3211 [==============================] - 3s 1ms/step - loss: 0.9989 - val_loss: 1.0098\n",
      "Epoch 72/100\n",
      "3211/3211 [==============================] - 3s 1ms/step - loss: 0.9989 - val_loss: 1.0098\n",
      "Epoch 73/100\n",
      "3211/3211 [==============================] - 3s 1ms/step - loss: 0.9989 - val_loss: 1.0098\n",
      "Epoch 74/100\n",
      "3211/3211 [==============================] - 3s 1ms/step - loss: 0.9989 - val_loss: 1.0098\n",
      "Epoch 75/100\n",
      "3211/3211 [==============================] - 3s 1ms/step - loss: 0.9989 - val_loss: 1.0098\n",
      "Epoch 76/100\n",
      "3211/3211 [==============================] - 3s 1ms/step - loss: 0.9989 - val_loss: 1.0098\n",
      "Epoch 77/100\n",
      "3211/3211 [==============================] - 3s 1ms/step - loss: 0.9989 - val_loss: 1.0098\n",
      "Epoch 78/100\n",
      "3211/3211 [==============================] - 3s 1ms/step - loss: 0.9989 - val_loss: 1.0098\n",
      "Epoch 79/100\n",
      "3211/3211 [==============================] - 3s 1ms/step - loss: 0.9989 - val_loss: 1.0098\n",
      "Epoch 80/100\n",
      "3211/3211 [==============================] - 3s 1ms/step - loss: 0.9989 - val_loss: 1.0098\n",
      "Epoch 81/100\n",
      "3211/3211 [==============================] - 3s 1ms/step - loss: 0.9989 - val_loss: 1.0098\n",
      "Epoch 82/100\n",
      "3211/3211 [==============================] - 3s 1ms/step - loss: 0.9989 - val_loss: 1.0098\n",
      "Epoch 83/100\n",
      "3211/3211 [==============================] - 3s 1ms/step - loss: 0.9989 - val_loss: 1.0098\n",
      "Epoch 84/100\n",
      "3211/3211 [==============================] - 3s 1ms/step - loss: 0.9989 - val_loss: 1.0098\n",
      "Epoch 85/100\n",
      "3211/3211 [==============================] - 3s 1ms/step - loss: 0.9989 - val_loss: 1.0098\n",
      "Epoch 86/100\n",
      "3211/3211 [==============================] - 3s 1ms/step - loss: 0.9989 - val_loss: 1.0098\n",
      "Epoch 87/100\n",
      "3211/3211 [==============================] - 3s 1ms/step - loss: 0.9989 - val_loss: 1.0098\n",
      "Epoch 88/100\n",
      "3211/3211 [==============================] - 3s 1ms/step - loss: 0.9989 - val_loss: 1.0098\n",
      "Epoch 89/100\n",
      "3211/3211 [==============================] - 3s 1ms/step - loss: 0.9989 - val_loss: 1.0098\n",
      "Epoch 90/100\n",
      "3211/3211 [==============================] - 3s 1ms/step - loss: 0.9989 - val_loss: 1.0098\n",
      "Epoch 91/100\n",
      "3211/3211 [==============================] - 3s 1ms/step - loss: 0.9989 - val_loss: 1.0098\n",
      "Epoch 92/100\n",
      "3211/3211 [==============================] - 3s 1ms/step - loss: 0.9989 - val_loss: 1.0098\n",
      "Epoch 93/100\n",
      "3211/3211 [==============================] - 3s 1ms/step - loss: 0.9989 - val_loss: 1.0098\n",
      "Epoch 94/100\n",
      "3211/3211 [==============================] - 3s 1ms/step - loss: 0.9989 - val_loss: 1.0098\n",
      "Epoch 95/100\n",
      "3211/3211 [==============================] - 3s 1ms/step - loss: 0.9989 - val_loss: 1.0098\n",
      "Epoch 96/100\n",
      "3211/3211 [==============================] - 3s 1ms/step - loss: 0.9989 - val_loss: 1.0098\n",
      "Epoch 97/100\n",
      "3211/3211 [==============================] - 3s 1ms/step - loss: 0.9989 - val_loss: 1.0098\n",
      "Epoch 98/100\n",
      "3211/3211 [==============================] - 3s 1ms/step - loss: 0.9989 - val_loss: 1.0098\n",
      "Epoch 99/100\n",
      "3211/3211 [==============================] - 3s 1ms/step - loss: 0.9989 - val_loss: 1.0098\n",
      "Epoch 100/100\n",
      "3211/3211 [==============================] - 3s 1ms/step - loss: 0.9989 - val_loss: 1.0098\n"
     ]
    }
   ],
   "source": [
    "clf3 = AutoEncoder(hidden_neurons =[6, 4, 2, 1, 2, 4, 6])\n",
    "clf3.fit(X_train)\n",
    "\n",
    "# clf.decision_function: Predict raw anomaly score of X using the fitted detector.\n",
    "y_test_scores3 = clf3.decision_function(X_test)  # outlier scores\n",
    "y_test_scores3 = pd.Series(y_test_scores3)"
   ]
  },
  {
   "cell_type": "code",
   "execution_count": 329,
   "metadata": {},
   "outputs": [
    {
     "data": {
      "image/png": "[encoded data removed]",
      "text/plain": [
       "<Figure size 432x288 with 1 Axes>"
      ]
     },
     "metadata": {
      "needs_background": "light"
     },
     "output_type": "display_data"
    }
   ],
   "source": [
    "#determine the cut point\n",
    "import matplotlib.pyplot as plt\n",
    "plt.hist(y_test_scores3, bins='auto')  \n",
    "plt.title(\"Histogram with Model Clf3 Anomaly Scores\")\n",
    "plt.show()"
   ]
  },
  {
   "cell_type": "code",
   "execution_count": 330,
   "metadata": {},
   "outputs": [
    {
     "data": {
      "text/plain": [
       "0    29729\n",
       "1    19191\n",
       "Name: cluster3, dtype: int64"
      ]
     },
     "execution_count": 330,
     "metadata": {},
     "output_type": "execute_result"
    }
   ],
   "source": [
    "#step 3: Get the Summary Statistics by Cluster\n",
    "df_test = X_test.copy()\n",
    "df_test['score3'] = y_test_scores3\n",
    "df_test['cluster3'] = np.where(df_test['score3']<1, 0, 1)\n",
    "df_test['cluster3'].value_counts()"
   ]
  },
  {
   "cell_type": "code",
   "execution_count": 331,
   "metadata": {},
   "outputs": [
    {
     "data": {
      "text/html": [
       "<div>\n",
       "<style scoped>\n",
       "    .dataframe tbody tr th:only-of-type {\n",
       "        vertical-align: middle;\n",
       "    }\n",
       "\n",
       "    .dataframe tbody tr th {\n",
       "        vertical-align: top;\n",
       "    }\n",
       "\n",
       "    .dataframe thead th {\n",
       "        text-align: right;\n",
       "    }\n",
       "</style>\n",
       "<table border=\"1\" class=\"dataframe\">\n",
       "  <thead>\n",
       "    <tr style=\"text-align: right;\">\n",
       "      <th></th>\n",
       "      <th>0</th>\n",
       "      <th>1</th>\n",
       "      <th>2</th>\n",
       "      <th>3</th>\n",
       "      <th>4</th>\n",
       "      <th>5</th>\n",
       "      <th>score3</th>\n",
       "    </tr>\n",
       "    <tr>\n",
       "      <th>cluster3</th>\n",
       "      <th></th>\n",
       "      <th></th>\n",
       "      <th></th>\n",
       "      <th></th>\n",
       "      <th></th>\n",
       "      <th></th>\n",
       "      <th></th>\n",
       "    </tr>\n",
       "  </thead>\n",
       "  <tbody>\n",
       "    <tr>\n",
       "      <td>0</td>\n",
       "      <td>0.016823</td>\n",
       "      <td>0.019053</td>\n",
       "      <td>0.020948</td>\n",
       "      <td>-0.24636</td>\n",
       "      <td>-0.245066</td>\n",
       "      <td>-0.242109</td>\n",
       "      <td>0.425152</td>\n",
       "    </tr>\n",
       "    <tr>\n",
       "      <td>1</td>\n",
       "      <td>-0.026060</td>\n",
       "      <td>-0.029515</td>\n",
       "      <td>-0.032451</td>\n",
       "      <td>0.38164</td>\n",
       "      <td>0.379634</td>\n",
       "      <td>0.375054</td>\n",
       "      <td>3.735648</td>\n",
       "    </tr>\n",
       "  </tbody>\n",
       "</table>\n",
       "</div>"
      ],
      "text/plain": [
       "                 0         1         2        3         4         5    score3\n",
       "cluster3                                                                     \n",
       "0         0.016823  0.019053  0.020948 -0.24636 -0.245066 -0.242109  0.425152\n",
       "1        -0.026060 -0.029515 -0.032451  0.38164  0.379634  0.375054  3.735648"
      ]
     },
     "execution_count": 331,
     "metadata": {},
     "output_type": "execute_result"
    }
   ],
   "source": [
    "df_test.groupby('cluster3').mean()"
   ]
  },
  {
   "cell_type": "markdown",
   "metadata": {},
   "source": [
    "The size of anomalous cases: 19191 in count and 37.8% in %"
   ]
  },
  {
   "cell_type": "markdown",
   "metadata": {},
   "source": [
    "##### Aggregate to Achieve Model Stability"
   ]
  },
  {
   "cell_type": "markdown",
   "metadata": {},
   "source": [
    "In order to eliminate overfitting and unstable results, we need to train multiple models and then aggregate the scores. In the following steps, we will use four methods as below.\n",
    "- Average: average scores of all detectors.\n",
    "- Maximum of Maximum (MOM)"
   ]
  },
  {
   "cell_type": "code",
   "execution_count": 332,
   "metadata": {},
   "outputs": [],
   "source": [
    "# put all the predictions of the above three models in a data frame.\n",
    "from pyod.models.combination import aom, moa, average, maximization\n",
    "\n",
    "train_scores = pd.DataFrame({'clf1': clf1.decision_scores_,\n",
    "                             'clf2': clf2.decision_scores_,\n",
    "                             'clf3': clf3.decision_scores_\n",
    "                            })\n",
    "\n",
    "test_scores  = pd.DataFrame({'clf1': clf1.decision_function(X_test),\n",
    "                             'clf2': clf2.decision_function(X_test),\n",
    "                             'clf3': clf3.decision_function(X_test) \n",
    "                            })"
   ]
  },
  {
   "cell_type": "code",
   "execution_count": 333,
   "metadata": {},
   "outputs": [
    {
     "data": {
      "text/html": [
       "<div>\n",
       "<style scoped>\n",
       "    .dataframe tbody tr th:only-of-type {\n",
       "        vertical-align: middle;\n",
       "    }\n",
       "\n",
       "    .dataframe tbody tr th {\n",
       "        vertical-align: top;\n",
       "    }\n",
       "\n",
       "    .dataframe thead th {\n",
       "        text-align: right;\n",
       "    }\n",
       "</style>\n",
       "<table border=\"1\" class=\"dataframe\">\n",
       "  <thead>\n",
       "    <tr style=\"text-align: right;\">\n",
       "      <th></th>\n",
       "      <th>clf1</th>\n",
       "      <th>clf2</th>\n",
       "      <th>clf3</th>\n",
       "    </tr>\n",
       "  </thead>\n",
       "  <tbody>\n",
       "    <tr>\n",
       "      <td>0</td>\n",
       "      <td>4.825422</td>\n",
       "      <td>4.825173</td>\n",
       "      <td>4.824685</td>\n",
       "    </tr>\n",
       "    <tr>\n",
       "      <td>1</td>\n",
       "      <td>0.424895</td>\n",
       "      <td>0.425218</td>\n",
       "      <td>0.424996</td>\n",
       "    </tr>\n",
       "    <tr>\n",
       "      <td>2</td>\n",
       "      <td>0.424895</td>\n",
       "      <td>0.425218</td>\n",
       "      <td>0.424996</td>\n",
       "    </tr>\n",
       "    <tr>\n",
       "      <td>3</td>\n",
       "      <td>2.083759</td>\n",
       "      <td>2.083550</td>\n",
       "      <td>2.083858</td>\n",
       "    </tr>\n",
       "    <tr>\n",
       "      <td>4</td>\n",
       "      <td>4.627225</td>\n",
       "      <td>4.627323</td>\n",
       "      <td>4.627584</td>\n",
       "    </tr>\n",
       "  </tbody>\n",
       "</table>\n",
       "</div>"
      ],
      "text/plain": [
       "       clf1      clf2      clf3\n",
       "0  4.825422  4.825173  4.824685\n",
       "1  0.424895  0.425218  0.424996\n",
       "2  0.424895  0.425218  0.424996\n",
       "3  2.083759  2.083550  2.083858\n",
       "4  4.627225  4.627323  4.627584"
      ]
     },
     "execution_count": 333,
     "metadata": {},
     "output_type": "execute_result"
    }
   ],
   "source": [
    "train_scores.head()"
   ]
  },
  {
   "cell_type": "code",
   "execution_count": 334,
   "metadata": {},
   "outputs": [
    {
     "data": {
      "text/html": [
       "<div>\n",
       "<style scoped>\n",
       "    .dataframe tbody tr th:only-of-type {\n",
       "        vertical-align: middle;\n",
       "    }\n",
       "\n",
       "    .dataframe tbody tr th {\n",
       "        vertical-align: top;\n",
       "    }\n",
       "\n",
       "    .dataframe thead th {\n",
       "        text-align: right;\n",
       "    }\n",
       "</style>\n",
       "<table border=\"1\" class=\"dataframe\">\n",
       "  <thead>\n",
       "    <tr style=\"text-align: right;\">\n",
       "      <th></th>\n",
       "      <th>clf1</th>\n",
       "      <th>clf2</th>\n",
       "      <th>clf3</th>\n",
       "    </tr>\n",
       "  </thead>\n",
       "  <tbody>\n",
       "    <tr>\n",
       "      <td>0</td>\n",
       "      <td>4.848196</td>\n",
       "      <td>4.847946</td>\n",
       "      <td>4.847458</td>\n",
       "    </tr>\n",
       "    <tr>\n",
       "      <td>1</td>\n",
       "      <td>3.773997</td>\n",
       "      <td>3.773935</td>\n",
       "      <td>3.774076</td>\n",
       "    </tr>\n",
       "    <tr>\n",
       "      <td>2</td>\n",
       "      <td>0.425049</td>\n",
       "      <td>0.425369</td>\n",
       "      <td>0.425152</td>\n",
       "    </tr>\n",
       "    <tr>\n",
       "      <td>3</td>\n",
       "      <td>2.377104</td>\n",
       "      <td>2.376804</td>\n",
       "      <td>2.376632</td>\n",
       "    </tr>\n",
       "    <tr>\n",
       "      <td>4</td>\n",
       "      <td>2.377104</td>\n",
       "      <td>2.376804</td>\n",
       "      <td>2.376632</td>\n",
       "    </tr>\n",
       "  </tbody>\n",
       "</table>\n",
       "</div>"
      ],
      "text/plain": [
       "       clf1      clf2      clf3\n",
       "0  4.848196  4.847946  4.847458\n",
       "1  3.773997  3.773935  3.774076\n",
       "2  0.425049  0.425369  0.425152\n",
       "3  2.377104  2.376804  2.376632\n",
       "4  2.377104  2.376804  2.376632"
      ]
     },
     "execution_count": 334,
     "metadata": {},
     "output_type": "execute_result"
    }
   ],
   "source": [
    "test_scores.head()"
   ]
  },
  {
   "cell_type": "code",
   "execution_count": 335,
   "metadata": {},
   "outputs": [],
   "source": [
    "#standardize the scores ( output scores) from different models \n",
    "# Although we did standardization before, it was for the variables.\n",
    "# Now we do the standardization for the decision scores\n",
    "from sklearn.preprocessing import StandardScaler\n",
    "train_scores_norm = StandardScaler().fit_transform(train_scores)\n",
    "train_scores_norm = pd.DataFrame(train_scores_norm)\n",
    "test_scores_norm = StandardScaler().fit_transform(test_scores)\n",
    "test_scores_norm = pd.DataFrame(test_scores_norm)"
   ]
  },
  {
   "cell_type": "code",
   "execution_count": 336,
   "metadata": {},
   "outputs": [
    {
     "data": {
      "text/plain": [
       "(114145, 3)"
      ]
     },
     "execution_count": 336,
     "metadata": {},
     "output_type": "execute_result"
    }
   ],
   "source": [
    "train_scores_norm.shape"
   ]
  },
  {
   "cell_type": "markdown",
   "metadata": {},
   "source": [
    "###### Average Method\n",
    "\n",
    "The average() function computes the average of the outlier scores from multiple models."
   ]
  },
  {
   "cell_type": "code",
   "execution_count": 337,
   "metadata": {},
   "outputs": [
    {
     "data": {
      "image/png": "[encoded data removed]",
      "text/plain": [
       "<Figure size 432x288 with 1 Axes>"
      ]
     },
     "metadata": {
      "needs_background": "light"
     },
     "output_type": "display_data"
    }
   ],
   "source": [
    "#Determine the cut point\n",
    "# Combination by average\n",
    "y_by_average = average(test_scores_norm)\n",
    "             \n",
    "import matplotlib.pyplot as plt\n",
    "plt.hist(y_by_average, bins='auto')  # arguments are passed to np.histogram\n",
    "plt.title(\"Combination by average\")\n",
    "plt.show()"
   ]
  },
  {
   "cell_type": "markdown",
   "metadata": {},
   "source": [
    "It appears we can identify those >= -0.5 as the outliers. Our example identifies 19191 outliers (not shown)."
   ]
  },
  {
   "cell_type": "code",
   "execution_count": 338,
   "metadata": {},
   "outputs": [
    {
     "data": {
      "text/plain": [
       "0    29729\n",
       "1    19191\n",
       "Name: y_by_average_cluster, dtype: int64"
      ]
     },
     "execution_count": 338,
     "metadata": {},
     "output_type": "execute_result"
    }
   ],
   "source": [
    "df_test = pd.DataFrame(X_test)\n",
    "df_test['y_by_average_score'] = y_by_average\n",
    "df_test['y_by_average_cluster'] = np.where(df_test['y_by_average_score']<-0.5, 0, 1)\n",
    "df_test['y_by_average_cluster'].value_counts()"
   ]
  },
  {
   "cell_type": "code",
   "execution_count": 339,
   "metadata": {},
   "outputs": [
    {
     "data": {
      "text/html": [
       "<div>\n",
       "<style scoped>\n",
       "    .dataframe tbody tr th:only-of-type {\n",
       "        vertical-align: middle;\n",
       "    }\n",
       "\n",
       "    .dataframe tbody tr th {\n",
       "        vertical-align: top;\n",
       "    }\n",
       "\n",
       "    .dataframe thead th {\n",
       "        text-align: right;\n",
       "    }\n",
       "</style>\n",
       "<table border=\"1\" class=\"dataframe\">\n",
       "  <thead>\n",
       "    <tr style=\"text-align: right;\">\n",
       "      <th></th>\n",
       "      <th>0</th>\n",
       "      <th>1</th>\n",
       "      <th>2</th>\n",
       "      <th>3</th>\n",
       "      <th>4</th>\n",
       "      <th>5</th>\n",
       "      <th>y_by_average_score</th>\n",
       "    </tr>\n",
       "    <tr>\n",
       "      <th>y_by_average_cluster</th>\n",
       "      <th></th>\n",
       "      <th></th>\n",
       "      <th></th>\n",
       "      <th></th>\n",
       "      <th></th>\n",
       "      <th></th>\n",
       "      <th></th>\n",
       "    </tr>\n",
       "  </thead>\n",
       "  <tbody>\n",
       "    <tr>\n",
       "      <td>0</td>\n",
       "      <td>0.016823</td>\n",
       "      <td>0.019053</td>\n",
       "      <td>0.020948</td>\n",
       "      <td>-0.24636</td>\n",
       "      <td>-0.245066</td>\n",
       "      <td>-0.242109</td>\n",
       "      <td>-0.746276</td>\n",
       "    </tr>\n",
       "    <tr>\n",
       "      <td>1</td>\n",
       "      <td>-0.026060</td>\n",
       "      <td>-0.029515</td>\n",
       "      <td>-0.032451</td>\n",
       "      <td>0.38164</td>\n",
       "      <td>0.379634</td>\n",
       "      <td>0.375054</td>\n",
       "      <td>1.156065</td>\n",
       "    </tr>\n",
       "  </tbody>\n",
       "</table>\n",
       "</div>"
      ],
      "text/plain": [
       "                             0         1         2        3         4  \\\n",
       "y_by_average_cluster                                                    \n",
       "0                     0.016823  0.019053  0.020948 -0.24636 -0.245066   \n",
       "1                    -0.026060 -0.029515 -0.032451  0.38164  0.379634   \n",
       "\n",
       "                             5  y_by_average_score  \n",
       "y_by_average_cluster                                \n",
       "0                    -0.242109           -0.746276  \n",
       "1                     0.375054            1.156065  "
      ]
     },
     "execution_count": 339,
     "metadata": {},
     "output_type": "execute_result"
    }
   ],
   "source": [
    "#Get the Summary Statistics by Cluster\n",
    "df_test.groupby('y_by_average_cluster').mean()"
   ]
  },
  {
   "cell_type": "markdown",
   "metadata": {},
   "source": [
    "The above code and results show the summary statistics of Cluster ‘1’ (the abnormal cluster) is different from those of Cluster ‘0’ (the normal cluster). The observations in Cluster 1 are outliers."
   ]
  },
  {
   "cell_type": "markdown",
   "metadata": {},
   "source": [
    "The size of anomalous cases: 19191 in count and 39.2% in % "
   ]
  },
  {
   "cell_type": "markdown",
   "metadata": {},
   "source": [
    "###### Maximum of Maximum Method （MOM)\n",
    "Highest score for all detectors"
   ]
  },
  {
   "cell_type": "code",
   "execution_count": 340,
   "metadata": {},
   "outputs": [
    {
     "data": {
      "image/png": "[encoded data removed]",
      "text/plain": [
       "<Figure size 432x288 with 1 Axes>"
      ]
     },
     "metadata": {
      "needs_background": "light"
     },
     "output_type": "display_data"
    }
   ],
   "source": [
    "#determine the cut point\n",
    "# Combination by max\n",
    "y_by_maximization = maximization(test_scores_norm)\n",
    "             \n",
    "import matplotlib.pyplot as plt\n",
    "plt.hist(y_by_maximization, bins='auto')  # arguments are passed to np.histogram\n",
    "plt.title(\"Combination by max\")\n",
    "plt.show()"
   ]
  },
  {
   "cell_type": "code",
   "execution_count": 341,
   "metadata": {},
   "outputs": [
    {
     "data": {
      "text/plain": [
       "0    29729\n",
       "1    19191\n",
       "Name: y_by_maximization_cluster, dtype: int64"
      ]
     },
     "execution_count": 341,
     "metadata": {},
     "output_type": "execute_result"
    }
   ],
   "source": [
    "df_test = pd.DataFrame(X_test)\n",
    "df_test['y_by_maximization_score'] = y_by_maximization\n",
    "df_test['y_by_maximization_cluster'] = np.where(df_test['y_by_maximization_score']<-0.5, 0, 1)\n",
    "df_test['y_by_maximization_cluster'].value_counts()"
   ]
  },
  {
   "cell_type": "code",
   "execution_count": 342,
   "metadata": {},
   "outputs": [
    {
     "data": {
      "text/html": [
       "<div>\n",
       "<style scoped>\n",
       "    .dataframe tbody tr th:only-of-type {\n",
       "        vertical-align: middle;\n",
       "    }\n",
       "\n",
       "    .dataframe tbody tr th {\n",
       "        vertical-align: top;\n",
       "    }\n",
       "\n",
       "    .dataframe thead th {\n",
       "        text-align: right;\n",
       "    }\n",
       "</style>\n",
       "<table border=\"1\" class=\"dataframe\">\n",
       "  <thead>\n",
       "    <tr style=\"text-align: right;\">\n",
       "      <th></th>\n",
       "      <th>0</th>\n",
       "      <th>1</th>\n",
       "      <th>2</th>\n",
       "      <th>3</th>\n",
       "      <th>4</th>\n",
       "      <th>5</th>\n",
       "      <th>y_by_average_score</th>\n",
       "      <th>y_by_average_cluster</th>\n",
       "      <th>y_by_maximization_score</th>\n",
       "      <th>y_by_maximization_cluster</th>\n",
       "    </tr>\n",
       "  </thead>\n",
       "  <tbody>\n",
       "    <tr>\n",
       "      <td>0</td>\n",
       "      <td>-2.010197</td>\n",
       "      <td>-2.007155</td>\n",
       "      <td>2.050214</td>\n",
       "      <td>-1.599295</td>\n",
       "      <td>-1.598335</td>\n",
       "      <td>2.472531</td>\n",
       "      <td>1.795197</td>\n",
       "      <td>1</td>\n",
       "      <td>1.795353</td>\n",
       "      <td>1</td>\n",
       "    </tr>\n",
       "    <tr>\n",
       "      <td>1</td>\n",
       "      <td>-2.010197</td>\n",
       "      <td>-0.994051</td>\n",
       "      <td>-2.008318</td>\n",
       "      <td>-1.599295</td>\n",
       "      <td>-0.245066</td>\n",
       "      <td>-1.599429</td>\n",
       "      <td>1.178105</td>\n",
       "      <td>1</td>\n",
       "      <td>1.178145</td>\n",
       "      <td>1</td>\n",
       "    </tr>\n",
       "    <tr>\n",
       "      <td>2</td>\n",
       "      <td>0.016823</td>\n",
       "      <td>0.019053</td>\n",
       "      <td>0.020948</td>\n",
       "      <td>-0.246360</td>\n",
       "      <td>-0.245066</td>\n",
       "      <td>-0.242109</td>\n",
       "      <td>-0.746276</td>\n",
       "      <td>0</td>\n",
       "      <td>-0.746269</td>\n",
       "      <td>0</td>\n",
       "    </tr>\n",
       "    <tr>\n",
       "      <td>3</td>\n",
       "      <td>1.030332</td>\n",
       "      <td>-0.994051</td>\n",
       "      <td>1.035581</td>\n",
       "      <td>1.106575</td>\n",
       "      <td>-0.245066</td>\n",
       "      <td>1.115211</td>\n",
       "      <td>0.375235</td>\n",
       "      <td>1</td>\n",
       "      <td>0.375409</td>\n",
       "      <td>1</td>\n",
       "    </tr>\n",
       "    <tr>\n",
       "      <td>4</td>\n",
       "      <td>1.030332</td>\n",
       "      <td>-0.994051</td>\n",
       "      <td>1.035581</td>\n",
       "      <td>1.106575</td>\n",
       "      <td>-0.245066</td>\n",
       "      <td>1.115211</td>\n",
       "      <td>0.375235</td>\n",
       "      <td>1</td>\n",
       "      <td>0.375409</td>\n",
       "      <td>1</td>\n",
       "    </tr>\n",
       "    <tr>\n",
       "      <td>...</td>\n",
       "      <td>...</td>\n",
       "      <td>...</td>\n",
       "      <td>...</td>\n",
       "      <td>...</td>\n",
       "      <td>...</td>\n",
       "      <td>...</td>\n",
       "      <td>...</td>\n",
       "      <td>...</td>\n",
       "      <td>...</td>\n",
       "      <td>...</td>\n",
       "    </tr>\n",
       "    <tr>\n",
       "      <td>48915</td>\n",
       "      <td>-0.996687</td>\n",
       "      <td>0.019053</td>\n",
       "      <td>-0.993685</td>\n",
       "      <td>-0.246360</td>\n",
       "      <td>2.461473</td>\n",
       "      <td>1.115211</td>\n",
       "      <td>0.765921</td>\n",
       "      <td>1</td>\n",
       "      <td>0.765992</td>\n",
       "      <td>1</td>\n",
       "    </tr>\n",
       "    <tr>\n",
       "      <td>48916</td>\n",
       "      <td>1.030332</td>\n",
       "      <td>1.032156</td>\n",
       "      <td>1.035581</td>\n",
       "      <td>1.106575</td>\n",
       "      <td>1.108204</td>\n",
       "      <td>1.115211</td>\n",
       "      <td>0.517968</td>\n",
       "      <td>1</td>\n",
       "      <td>0.517993</td>\n",
       "      <td>1</td>\n",
       "    </tr>\n",
       "    <tr>\n",
       "      <td>48917</td>\n",
       "      <td>2.043842</td>\n",
       "      <td>2.045260</td>\n",
       "      <td>-0.993685</td>\n",
       "      <td>2.459510</td>\n",
       "      <td>2.461473</td>\n",
       "      <td>-0.242109</td>\n",
       "      <td>1.674470</td>\n",
       "      <td>1</td>\n",
       "      <td>1.674648</td>\n",
       "      <td>1</td>\n",
       "    </tr>\n",
       "    <tr>\n",
       "      <td>48918</td>\n",
       "      <td>0.016823</td>\n",
       "      <td>0.019053</td>\n",
       "      <td>0.020948</td>\n",
       "      <td>-0.246360</td>\n",
       "      <td>-0.245066</td>\n",
       "      <td>-0.242109</td>\n",
       "      <td>-0.746276</td>\n",
       "      <td>0</td>\n",
       "      <td>-0.746269</td>\n",
       "      <td>0</td>\n",
       "    </tr>\n",
       "    <tr>\n",
       "      <td>48919</td>\n",
       "      <td>0.016823</td>\n",
       "      <td>0.019053</td>\n",
       "      <td>0.020948</td>\n",
       "      <td>-0.246360</td>\n",
       "      <td>-0.245066</td>\n",
       "      <td>-0.242109</td>\n",
       "      <td>-0.746276</td>\n",
       "      <td>0</td>\n",
       "      <td>-0.746269</td>\n",
       "      <td>0</td>\n",
       "    </tr>\n",
       "  </tbody>\n",
       "</table>\n",
       "<p>48920 rows × 10 columns</p>\n",
       "</div>"
      ],
      "text/plain": [
       "              0         1         2         3         4         5  \\\n",
       "0     -2.010197 -2.007155  2.050214 -1.599295 -1.598335  2.472531   \n",
       "1     -2.010197 -0.994051 -2.008318 -1.599295 -0.245066 -1.599429   \n",
       "2      0.016823  0.019053  0.020948 -0.246360 -0.245066 -0.242109   \n",
       "3      1.030332 -0.994051  1.035581  1.106575 -0.245066  1.115211   \n",
       "4      1.030332 -0.994051  1.035581  1.106575 -0.245066  1.115211   \n",
       "...         ...       ...       ...       ...       ...       ...   \n",
       "48915 -0.996687  0.019053 -0.993685 -0.246360  2.461473  1.115211   \n",
       "48916  1.030332  1.032156  1.035581  1.106575  1.108204  1.115211   \n",
       "48917  2.043842  2.045260 -0.993685  2.459510  2.461473 -0.242109   \n",
       "48918  0.016823  0.019053  0.020948 -0.246360 -0.245066 -0.242109   \n",
       "48919  0.016823  0.019053  0.020948 -0.246360 -0.245066 -0.242109   \n",
       "\n",
       "       y_by_average_score  y_by_average_cluster  y_by_maximization_score  \\\n",
       "0                1.795197                     1                 1.795353   \n",
       "1                1.178105                     1                 1.178145   \n",
       "2               -0.746276                     0                -0.746269   \n",
       "3                0.375235                     1                 0.375409   \n",
       "4                0.375235                     1                 0.375409   \n",
       "...                   ...                   ...                      ...   \n",
       "48915            0.765921                     1                 0.765992   \n",
       "48916            0.517968                     1                 0.517993   \n",
       "48917            1.674470                     1                 1.674648   \n",
       "48918           -0.746276                     0                -0.746269   \n",
       "48919           -0.746276                     0                -0.746269   \n",
       "\n",
       "       y_by_maximization_cluster  \n",
       "0                              1  \n",
       "1                              1  \n",
       "2                              0  \n",
       "3                              1  \n",
       "4                              1  \n",
       "...                          ...  \n",
       "48915                          1  \n",
       "48916                          1  \n",
       "48917                          1  \n",
       "48918                          0  \n",
       "48919                          0  \n",
       "\n",
       "[48920 rows x 10 columns]"
      ]
     },
     "execution_count": 342,
     "metadata": {},
     "output_type": "execute_result"
    }
   ],
   "source": [
    "df_test"
   ]
  },
  {
   "cell_type": "code",
   "execution_count": 343,
   "metadata": {},
   "outputs": [
    {
     "data": {
      "text/html": [
       "<div>\n",
       "<style scoped>\n",
       "    .dataframe tbody tr th:only-of-type {\n",
       "        vertical-align: middle;\n",
       "    }\n",
       "\n",
       "    .dataframe tbody tr th {\n",
       "        vertical-align: top;\n",
       "    }\n",
       "\n",
       "    .dataframe thead th {\n",
       "        text-align: right;\n",
       "    }\n",
       "</style>\n",
       "<table border=\"1\" class=\"dataframe\">\n",
       "  <thead>\n",
       "    <tr style=\"text-align: right;\">\n",
       "      <th></th>\n",
       "      <th>0</th>\n",
       "      <th>1</th>\n",
       "      <th>2</th>\n",
       "      <th>3</th>\n",
       "      <th>4</th>\n",
       "      <th>5</th>\n",
       "      <th>y_by_average_score</th>\n",
       "      <th>y_by_average_cluster</th>\n",
       "      <th>y_by_maximization_score</th>\n",
       "    </tr>\n",
       "    <tr>\n",
       "      <th>y_by_maximization_cluster</th>\n",
       "      <th></th>\n",
       "      <th></th>\n",
       "      <th></th>\n",
       "      <th></th>\n",
       "      <th></th>\n",
       "      <th></th>\n",
       "      <th></th>\n",
       "      <th></th>\n",
       "      <th></th>\n",
       "    </tr>\n",
       "  </thead>\n",
       "  <tbody>\n",
       "    <tr>\n",
       "      <td>0</td>\n",
       "      <td>0.016823</td>\n",
       "      <td>0.019053</td>\n",
       "      <td>0.020948</td>\n",
       "      <td>-0.24636</td>\n",
       "      <td>-0.245066</td>\n",
       "      <td>-0.242109</td>\n",
       "      <td>-0.746276</td>\n",
       "      <td>0</td>\n",
       "      <td>-0.746269</td>\n",
       "    </tr>\n",
       "    <tr>\n",
       "      <td>1</td>\n",
       "      <td>-0.026060</td>\n",
       "      <td>-0.029515</td>\n",
       "      <td>-0.032451</td>\n",
       "      <td>0.38164</td>\n",
       "      <td>0.379634</td>\n",
       "      <td>0.375054</td>\n",
       "      <td>1.156065</td>\n",
       "      <td>1</td>\n",
       "      <td>1.156195</td>\n",
       "    </tr>\n",
       "  </tbody>\n",
       "</table>\n",
       "</div>"
      ],
      "text/plain": [
       "                                  0         1         2        3         4  \\\n",
       "y_by_maximization_cluster                                                    \n",
       "0                          0.016823  0.019053  0.020948 -0.24636 -0.245066   \n",
       "1                         -0.026060 -0.029515 -0.032451  0.38164  0.379634   \n",
       "\n",
       "                                  5  y_by_average_score  y_by_average_cluster  \\\n",
       "y_by_maximization_cluster                                                       \n",
       "0                         -0.242109           -0.746276                     0   \n",
       "1                          0.375054            1.156065                     1   \n",
       "\n",
       "                           y_by_maximization_score  \n",
       "y_by_maximization_cluster                           \n",
       "0                                        -0.746269  \n",
       "1                                         1.156195  "
      ]
     },
     "execution_count": 343,
     "metadata": {},
     "output_type": "execute_result"
    }
   ],
   "source": [
    "#Get the Summary Statistics by Cluster\n",
    "df_test.groupby('y_by_maximization_cluster').mean()"
   ]
  },
  {
   "cell_type": "markdown",
   "metadata": {},
   "source": [
    "The size of anomalous cases: 19191 in count and 38.7% in %"
   ]
  },
  {
   "cell_type": "code",
   "execution_count": 344,
   "metadata": {},
   "outputs": [
    {
     "data": {
      "image/png": "[encoded data removed]",
      "text/plain": [
       "<Figure size 432x288 with 1 Axes>"
      ]
     },
     "metadata": {
      "needs_background": "light"
     },
     "output_type": "display_data"
    }
   ],
   "source": [
    "#####################################\n",
    "#put the outlier column into he dataset \n",
    "y_by_maximization = maximization(train_scores_norm)\n",
    "import matplotlib.pyplot as plt\n",
    "plt.hist(y_by_maximization, bins='auto')  # arguments are passed to np.histogram\n",
    "plt.title(\"Combination by max\")\n",
    "plt.show()"
   ]
  },
  {
   "cell_type": "code",
   "execution_count": 345,
   "metadata": {},
   "outputs": [
    {
     "data": {
      "text/plain": [
       "0    69152\n",
       "1    44993\n",
       "Name: y_by_maximization_cluster, dtype: int64"
      ]
     },
     "execution_count": 345,
     "metadata": {},
     "output_type": "execute_result"
    }
   ],
   "source": [
    "df_train = pd.DataFrame(X_train)\n",
    "df_train['y_by_maximization_score'] = y_by_maximization\n",
    "df_train['y_by_maximization_cluster'] = np.where(df_train['y_by_maximization_score']<-0.5, 0, 1)\n",
    "df_train['y_by_maximization_cluster'].value_counts()"
   ]
  },
  {
   "cell_type": "code",
   "execution_count": 346,
   "metadata": {},
   "outputs": [],
   "source": [
    "##########merge train, test  together\n",
    "anomaly_alldata = pd.concat([df_train, df_test])"
   ]
  },
  {
   "cell_type": "code",
   "execution_count": 347,
   "metadata": {},
   "outputs": [],
   "source": [
    "#put the outlier column into he dataset \n",
    "df1 = df.copy()\n",
    "df1['outlier'] =  anomaly_alldata['y_by_maximization_cluster'].tolist()"
   ]
  },
  {
   "cell_type": "code",
   "execution_count": 348,
   "metadata": {},
   "outputs": [],
   "source": [
    "####exttract all outliers out and form a dataset conttainig only outliers\n",
    "dfae_outliers = df1.loc[df1['outlier'] == 1]"
   ]
  },
  {
   "cell_type": "code",
   "execution_count": 349,
   "metadata": {},
   "outputs": [
    {
     "data": {
      "text/html": [
       "<div>\n",
       "<style scoped>\n",
       "    .dataframe tbody tr th:only-of-type {\n",
       "        vertical-align: middle;\n",
       "    }\n",
       "\n",
       "    .dataframe tbody tr th {\n",
       "        vertical-align: top;\n",
       "    }\n",
       "\n",
       "    .dataframe thead th {\n",
       "        text-align: right;\n",
       "    }\n",
       "</style>\n",
       "<table border=\"1\" class=\"dataframe\">\n",
       "  <thead>\n",
       "    <tr style=\"text-align: right;\">\n",
       "      <th></th>\n",
       "      <th>DRG Definition</th>\n",
       "      <th>Provider Id</th>\n",
       "      <th>Provider Name</th>\n",
       "      <th>Provider Street Address</th>\n",
       "      <th>Provider City</th>\n",
       "      <th>Provider State</th>\n",
       "      <th>Provider Zip Code</th>\n",
       "      <th>Hospital Referral Region Description</th>\n",
       "      <th>DRG Code</th>\n",
       "    </tr>\n",
       "  </thead>\n",
       "  <tbody>\n",
       "    <tr>\n",
       "      <td>count</td>\n",
       "      <td>64184</td>\n",
       "      <td>64184</td>\n",
       "      <td>64184</td>\n",
       "      <td>64184</td>\n",
       "      <td>64184</td>\n",
       "      <td>64184</td>\n",
       "      <td>64184</td>\n",
       "      <td>64184</td>\n",
       "      <td>64184</td>\n",
       "    </tr>\n",
       "    <tr>\n",
       "      <td>unique</td>\n",
       "      <td>100</td>\n",
       "      <td>3231</td>\n",
       "      <td>3100</td>\n",
       "      <td>3221</td>\n",
       "      <td>1942</td>\n",
       "      <td>51</td>\n",
       "      <td>2985</td>\n",
       "      <td>306</td>\n",
       "      <td>100</td>\n",
       "    </tr>\n",
       "    <tr>\n",
       "      <td>top</td>\n",
       "      <td>392 - ESOPHAGITIS, GASTROENT &amp; MISC DIGEST DIS...</td>\n",
       "      <td>490112</td>\n",
       "      <td>GOOD SAMARITAN HOSPITAL</td>\n",
       "      <td>100 MEDICAL CENTER DRIVE</td>\n",
       "      <td>CHICAGO</td>\n",
       "      <td>CA</td>\n",
       "      <td>76104</td>\n",
       "      <td>CA - Los Angeles</td>\n",
       "      <td>392</td>\n",
       "    </tr>\n",
       "    <tr>\n",
       "      <td>freq</td>\n",
       "      <td>1187</td>\n",
       "      <td>53</td>\n",
       "      <td>253</td>\n",
       "      <td>75</td>\n",
       "      <td>587</td>\n",
       "      <td>5144</td>\n",
       "      <td>120</td>\n",
       "      <td>1426</td>\n",
       "      <td>1187</td>\n",
       "    </tr>\n",
       "  </tbody>\n",
       "</table>\n",
       "</div>"
      ],
      "text/plain": [
       "                                           DRG Definition Provider Id  \\\n",
       "count                                               64184       64184   \n",
       "unique                                                100        3231   \n",
       "top     392 - ESOPHAGITIS, GASTROENT & MISC DIGEST DIS...      490112   \n",
       "freq                                                 1187          53   \n",
       "\n",
       "                  Provider Name   Provider Street Address Provider City  \\\n",
       "count                     64184                     64184         64184   \n",
       "unique                     3100                      3221          1942   \n",
       "top     GOOD SAMARITAN HOSPITAL  100 MEDICAL CENTER DRIVE       CHICAGO   \n",
       "freq                        253                        75           587   \n",
       "\n",
       "       Provider State Provider Zip Code Hospital Referral Region Description  \\\n",
       "count           64184             64184                                64184   \n",
       "unique             51              2985                                  306   \n",
       "top                CA             76104                     CA - Los Angeles   \n",
       "freq             5144               120                                 1426   \n",
       "\n",
       "       DRG Code  \n",
       "count     64184  \n",
       "unique      100  \n",
       "top        392   \n",
       "freq       1187  "
      ]
     },
     "execution_count": 349,
     "metadata": {},
     "output_type": "execute_result"
    }
   ],
   "source": [
    "dfae_outliers.describe(include=['O'])"
   ]
  },
  {
   "cell_type": "markdown",
   "metadata": {},
   "source": [
    "Insights:\n",
    "\n",
    "The size of anomalous cases: 64184 in count and 39.4% in %.\n",
    "\n",
    "a) 392 - ESOPHAGITIS, GASTROENT & MISC DIGEST DISEASE is the most common DRG used for frauds by providers\n",
    "\n",
    "b) GOOD SAMARITAN HOSPITAL commit frauds most often \n",
    "\n",
    "c) Most of frauds happend in CA"
   ]
  },
  {
   "cell_type": "markdown",
   "metadata": {},
   "source": [
    "#### Model2 :iForest"
   ]
  },
  {
   "cell_type": "markdown",
   "metadata": {},
   "source": [
    "Isolation Forest isolates the outliers by randomly selecting a feature from the given set of features and then randomly selecting a split value between the max and min values of that feature. This random partitioning of features will produce shorter paths in trees for the anomalous data points, thus distinguishing them from the rest of the data. Unlike autoencoder, isolation forest algorithm does not first define \"normal\" behavior, and it does not calculate point-based distances. It works by recursively generating partitions on the dataset by randomly selecting a feature and then randomly selecting a split value for the feature.Presumably the anomalies need fewer random partitions to be isolated compared to \"normal\" points in the dataset, so the anomalies will be the points which have a smaller path length in the tree, path length being the number of edges traversed from the root node.\n",
    "\n",
    "reference:\n",
    "\n",
    "https://towardsdatascience.com/use-the-isolated-forest-with-pyod-3818eea68f08\n",
    "\n",
    "https://blog.paperspace.com/anomaly-detection-isolation-forest/\n",
    "\n",
    "https://medium.com/@often_weird/isolation-forest-algorithm-for-anomaly-detection-f88af2d5518d\n",
    "\n",
    "https://medium.com/@often_weird/isolation-forest-algorithm-for-anomaly-detection-f88af2d5518d"
   ]
  },
  {
   "cell_type": "code",
   "execution_count": 174,
   "metadata": {},
   "outputs": [],
   "source": [
    "##to form a new dataframe 'dfif' exclusively for modelling\n",
    "dfif = df[model_columns]"
   ]
  },
  {
   "cell_type": "code",
   "execution_count": 177,
   "metadata": {},
   "outputs": [
    {
     "data": {
      "text/html": [
       "<div>\n",
       "<style scoped>\n",
       "    .dataframe tbody tr th:only-of-type {\n",
       "        vertical-align: middle;\n",
       "    }\n",
       "\n",
       "    .dataframe tbody tr th {\n",
       "        vertical-align: top;\n",
       "    }\n",
       "\n",
       "    .dataframe thead th {\n",
       "        text-align: right;\n",
       "    }\n",
       "</style>\n",
       "<table border=\"1\" class=\"dataframe\">\n",
       "  <thead>\n",
       "    <tr style=\"text-align: right;\">\n",
       "      <th></th>\n",
       "      <th>0</th>\n",
       "      <th>1</th>\n",
       "      <th>2</th>\n",
       "      <th>3</th>\n",
       "      <th>4</th>\n",
       "      <th>5</th>\n",
       "    </tr>\n",
       "  </thead>\n",
       "  <tbody>\n",
       "    <tr>\n",
       "      <td>0</td>\n",
       "      <td>1.028979</td>\n",
       "      <td>1.029380</td>\n",
       "      <td>2.045358</td>\n",
       "      <td>1.103179</td>\n",
       "      <td>1.103191</td>\n",
       "      <td>2.462725</td>\n",
       "    </tr>\n",
       "    <tr>\n",
       "      <td>1</td>\n",
       "      <td>0.019172</td>\n",
       "      <td>0.019435</td>\n",
       "      <td>0.022632</td>\n",
       "      <td>-0.246221</td>\n",
       "      <td>-0.246214</td>\n",
       "      <td>-0.240527</td>\n",
       "    </tr>\n",
       "    <tr>\n",
       "      <td>2</td>\n",
       "      <td>0.019172</td>\n",
       "      <td>0.019435</td>\n",
       "      <td>0.022632</td>\n",
       "      <td>-0.246221</td>\n",
       "      <td>-0.246214</td>\n",
       "      <td>-0.240527</td>\n",
       "    </tr>\n",
       "    <tr>\n",
       "      <td>3</td>\n",
       "      <td>-0.990634</td>\n",
       "      <td>-2.000453</td>\n",
       "      <td>-0.988731</td>\n",
       "      <td>-0.246221</td>\n",
       "      <td>-0.246214</td>\n",
       "      <td>-0.240527</td>\n",
       "    </tr>\n",
       "    <tr>\n",
       "      <td>4</td>\n",
       "      <td>0.019172</td>\n",
       "      <td>0.019435</td>\n",
       "      <td>0.022632</td>\n",
       "      <td>-0.246221</td>\n",
       "      <td>-0.246214</td>\n",
       "      <td>-0.240527</td>\n",
       "    </tr>\n",
       "  </tbody>\n",
       "</table>\n",
       "</div>"
      ],
      "text/plain": [
       "          0         1         2         3         4         5\n",
       "0  1.028979  1.029380  2.045358  1.103179  1.103191  2.462725\n",
       "1  0.019172  0.019435  0.022632 -0.246221 -0.246214 -0.240527\n",
       "2  0.019172  0.019435  0.022632 -0.246221 -0.246214 -0.240527\n",
       "3 -0.990634 -2.000453 -0.988731 -0.246221 -0.246214 -0.240527\n",
       "4  0.019172  0.019435  0.022632 -0.246221 -0.246214 -0.240527"
      ]
     },
     "execution_count": 177,
     "metadata": {},
     "output_type": "execute_result"
    }
   ],
   "source": [
    "#When we do unsupervised learning, it is always a safe step to standardize the predictors\n",
    "from sklearn.preprocessing import StandardScaler\n",
    "X = StandardScaler().fit_transform(dfif)\n",
    "X = pd.DataFrame(X)\n",
    "X.head()"
   ]
  },
  {
   "cell_type": "code",
   "execution_count": 179,
   "metadata": {},
   "outputs": [],
   "source": [
    "## before setting up the models, we need to define train/test data. (7:3)\n",
    "from sklearn.model_selection import train_test_split \n",
    "X_train, X_test = train_test_split(X, test_size = 0.3 , random_state=42)"
   ]
  },
  {
   "cell_type": "code",
   "execution_count": 180,
   "metadata": {},
   "outputs": [
    {
     "name": "stdout",
     "output_type": "stream",
     "text": [
      "(114145, 6)\n",
      "(48920, 6)\n"
     ]
    }
   ],
   "source": [
    "print(X_train.shape); print(X_test.shape)"
   ]
  },
  {
   "cell_type": "code",
   "execution_count": 182,
   "metadata": {},
   "outputs": [
    {
     "data": {
      "text/html": [
       "<div>\n",
       "<style scoped>\n",
       "    .dataframe tbody tr th:only-of-type {\n",
       "        vertical-align: middle;\n",
       "    }\n",
       "\n",
       "    .dataframe tbody tr th {\n",
       "        vertical-align: top;\n",
       "    }\n",
       "\n",
       "    .dataframe thead th {\n",
       "        text-align: right;\n",
       "    }\n",
       "</style>\n",
       "<table border=\"1\" class=\"dataframe\">\n",
       "  <thead>\n",
       "    <tr style=\"text-align: right;\">\n",
       "      <th></th>\n",
       "      <th>PC1</th>\n",
       "      <th>PC2</th>\n",
       "    </tr>\n",
       "  </thead>\n",
       "  <tbody>\n",
       "    <tr>\n",
       "      <td>0</td>\n",
       "      <td>2.209089</td>\n",
       "      <td>3.138601</td>\n",
       "    </tr>\n",
       "    <tr>\n",
       "      <td>1</td>\n",
       "      <td>-0.233958</td>\n",
       "      <td>-0.159891</td>\n",
       "    </tr>\n",
       "    <tr>\n",
       "      <td>2</td>\n",
       "      <td>-0.233958</td>\n",
       "      <td>-0.159891</td>\n",
       "    </tr>\n",
       "    <tr>\n",
       "      <td>3</td>\n",
       "      <td>-1.749947</td>\n",
       "      <td>-0.765966</td>\n",
       "    </tr>\n",
       "    <tr>\n",
       "      <td>4</td>\n",
       "      <td>-0.233958</td>\n",
       "      <td>-0.159891</td>\n",
       "    </tr>\n",
       "  </tbody>\n",
       "</table>\n",
       "</div>"
      ],
      "text/plain": [
       "        PC1       PC2\n",
       "0  2.209089  3.138601\n",
       "1 -0.233958 -0.159891\n",
       "2 -0.233958 -0.159891\n",
       "3 -1.749947 -0.765966\n",
       "4 -0.233958 -0.159891"
      ]
     },
     "execution_count": 182,
     "metadata": {},
     "output_type": "execute_result"
    }
   ],
   "source": [
    "#Plot in a 2-D space just to visualize it\n",
    "from sklearn.decomposition import PCA\n",
    "pca = PCA(2)\n",
    "x_pca = pca.fit_transform(X)\n",
    "x_pca = pd.DataFrame(x_pca)\n",
    "x_pca.columns=['PC1','PC2']\n",
    "x_pca.head()"
   ]
  },
  {
   "cell_type": "code",
   "execution_count": 184,
   "metadata": {},
   "outputs": [
    {
     "data": {
      "text/plain": [
       "163065"
      ]
     },
     "execution_count": 184,
     "metadata": {},
     "output_type": "execute_result"
    }
   ],
   "source": [
    "len(dfif)"
   ]
  },
  {
   "cell_type": "markdown",
   "metadata": {},
   "source": [
    "Modelling: iForest\n",
    "\n",
    "We do not need the target variable to train the unsupervised learning model.\n",
    "\n",
    "We will create three models: clf1, clf2,and clf3\n",
    "\n",
    "our data has 100,000+ samples, you can set the max_samples to be anywhere between 100 and 100,000.\n",
    "\n",
    "Model 1: max_samples = 10000\n",
    "\n",
    "Model 2: max_samples = 8000\n",
    "\n",
    "Model 3: max_samples = 600"
   ]
  },
  {
   "cell_type": "markdown",
   "metadata": {},
   "source": [
    "###### Model 1"
   ]
  },
  {
   "cell_type": "code",
   "execution_count": 187,
   "metadata": {},
   "outputs": [
    {
     "data": {
      "text/plain": [
       "IForest(behaviour='new', bootstrap=False, contamination=0.1, max_features=1.0,\n",
       "    max_samples=10000, n_estimators=100, n_jobs=1, random_state=None,\n",
       "    verbose=0)"
      ]
     },
     "execution_count": 187,
     "metadata": {},
     "output_type": "execute_result"
    }
   ],
   "source": [
    "from pyod.models.iforest import IForest\n",
    "clf1 = IForest(behaviour=\"new\", max_samples=10000) \n",
    "clf1.fit(X_train)\n",
    "#After modeling, there is an anomaly score for each observation in the training dataset X_Train."
   ]
  },
  {
   "cell_type": "code",
   "execution_count": 191,
   "metadata": {},
   "outputs": [
    {
     "data": {
      "text/plain": [
       "0   -0.096063\n",
       "1   -0.027641\n",
       "2   -0.237724\n",
       "3   -0.080998\n",
       "4   -0.080998\n",
       "dtype: float64"
      ]
     },
     "execution_count": 191,
     "metadata": {},
     "output_type": "execute_result"
    }
   ],
   "source": [
    "# clf.decision_function: Predict raw anomaly score of X using the fitted detector.\n",
    "# We apply the model to the test data X_test to get the outlier scores.\n",
    "y_test_scores = clf1.decision_function(X_test)  # outlier scores\n",
    "y_test_scores = pd.Series(y_test_scores)\n",
    "y_test_scores.head()"
   ]
  },
  {
   "cell_type": "code",
   "execution_count": 192,
   "metadata": {},
   "outputs": [
    {
     "data": {
      "image/png": "[encoded data removed]",
      "text/plain": [
       "<Figure size 432x288 with 1 Axes>"
      ]
     },
     "metadata": {
      "needs_background": "light"
     },
     "output_type": "display_data"
    }
   ],
   "source": [
    "#determine the cut point\n",
    "plt.hist(y_test_scores, bins='auto')  # arguments are passed to np.histogram\n",
    "plt.title(\"Histogram with 'auto' bins\")\n",
    "plt.show()"
   ]
  },
  {
   "cell_type": "code",
   "execution_count": 193,
   "metadata": {},
   "outputs": [
    {
     "data": {
      "text/plain": [
       "1    39986\n",
       "0     8934\n",
       "Name: cluster, dtype: int64"
      ]
     },
     "execution_count": 193,
     "metadata": {},
     "output_type": "execute_result"
    }
   ],
   "source": [
    "#A high anomaly score means more abnormal. We can suggest those >=-0.2 to be outliers\n",
    "X_test_cluster = X_test.copy()\n",
    "X_test_cluster['distance'] = y_test_scores\n",
    "X_test_cluster['cluster'] = np.where(X_test_cluster['distance']<-0.2, 0, 1)\n",
    "X_test_cluster['cluster'].value_counts()"
   ]
  },
  {
   "cell_type": "code",
   "execution_count": 194,
   "metadata": {},
   "outputs": [
    {
     "data": {
      "text/html": [
       "<div>\n",
       "<style scoped>\n",
       "    .dataframe tbody tr th:only-of-type {\n",
       "        vertical-align: middle;\n",
       "    }\n",
       "\n",
       "    .dataframe tbody tr th {\n",
       "        vertical-align: top;\n",
       "    }\n",
       "\n",
       "    .dataframe thead th {\n",
       "        text-align: right;\n",
       "    }\n",
       "</style>\n",
       "<table border=\"1\" class=\"dataframe\">\n",
       "  <thead>\n",
       "    <tr style=\"text-align: right;\">\n",
       "      <th></th>\n",
       "      <th>0</th>\n",
       "      <th>1</th>\n",
       "      <th>2</th>\n",
       "      <th>3</th>\n",
       "      <th>4</th>\n",
       "      <th>5</th>\n",
       "      <th>distance</th>\n",
       "    </tr>\n",
       "    <tr>\n",
       "      <th>cluster</th>\n",
       "      <th></th>\n",
       "      <th></th>\n",
       "      <th></th>\n",
       "      <th></th>\n",
       "      <th></th>\n",
       "      <th></th>\n",
       "      <th></th>\n",
       "    </tr>\n",
       "  </thead>\n",
       "  <tbody>\n",
       "    <tr>\n",
       "      <td>0</td>\n",
       "      <td>0.006287</td>\n",
       "      <td>-0.001365</td>\n",
       "      <td>0.021500</td>\n",
       "      <td>0.001637</td>\n",
       "      <td>-0.005756</td>\n",
       "      <td>0.020903</td>\n",
       "      <td>-0.237724</td>\n",
       "    </tr>\n",
       "    <tr>\n",
       "      <td>1</td>\n",
       "      <td>0.001545</td>\n",
       "      <td>0.000846</td>\n",
       "      <td>-0.002661</td>\n",
       "      <td>-0.000983</td>\n",
       "      <td>-0.000975</td>\n",
       "      <td>-0.003977</td>\n",
       "      <td>-0.045483</td>\n",
       "    </tr>\n",
       "  </tbody>\n",
       "</table>\n",
       "</div>"
      ],
      "text/plain": [
       "                0         1         2         3         4         5  distance\n",
       "cluster                                                                      \n",
       "0        0.006287 -0.001365  0.021500  0.001637 -0.005756  0.020903 -0.237724\n",
       "1        0.001545  0.000846 -0.002661 -0.000983 -0.000975 -0.003977 -0.045483"
      ]
     },
     "execution_count": 194,
     "metadata": {},
     "output_type": "execute_result"
    }
   ],
   "source": [
    "X_test_cluster.groupby('cluster').mean()"
   ]
  },
  {
   "cell_type": "markdown",
   "metadata": {},
   "source": [
    "###### Model 2"
   ]
  },
  {
   "cell_type": "code",
   "execution_count": 196,
   "metadata": {},
   "outputs": [
    {
     "data": {
      "text/plain": [
       "IForest(behaviour='new', bootstrap=False, contamination=0.1, max_features=1.0,\n",
       "    max_samples=8000, n_estimators=100, n_jobs=1, random_state=None,\n",
       "    verbose=0)"
      ]
     },
     "execution_count": 196,
     "metadata": {},
     "output_type": "execute_result"
    }
   ],
   "source": [
    "clf2 = IForest(behaviour=\"new\", max_samples=8000) \n",
    "clf2.fit(X_train)"
   ]
  },
  {
   "cell_type": "code",
   "execution_count": 197,
   "metadata": {},
   "outputs": [
    {
     "data": {
      "text/plain": [
       "0   -0.097246\n",
       "1   -0.021719\n",
       "2   -0.240483\n",
       "3   -0.073307\n",
       "4   -0.073307\n",
       "dtype: float64"
      ]
     },
     "execution_count": 197,
     "metadata": {},
     "output_type": "execute_result"
    }
   ],
   "source": [
    "# clf.decision_function: Predict raw anomaly score of X using the fitted detector.\n",
    "y_test_scores = clf2.decision_function(X_test)  # outlier scores\n",
    "y_test_scores = pd.Series(y_test_scores)\n",
    "y_test_scores.head()"
   ]
  },
  {
   "cell_type": "code",
   "execution_count": 198,
   "metadata": {},
   "outputs": [
    {
     "data": {
      "image/png": "[encoded data removed]",
      "text/plain": [
       "<Figure size 432x288 with 1 Axes>"
      ]
     },
     "metadata": {
      "needs_background": "light"
     },
     "output_type": "display_data"
    }
   ],
   "source": [
    "#determine the cut point\n",
    "plt.hist(y_test_scores, bins='auto')  \n",
    "plt.title(\"Histogram with 'auto' bins\")\n",
    "plt.show()"
   ]
  },
  {
   "cell_type": "code",
   "execution_count": 199,
   "metadata": {},
   "outputs": [
    {
     "data": {
      "text/plain": [
       "1    39986\n",
       "0     8934\n",
       "Name: cluster, dtype: int64"
      ]
     },
     "execution_count": 199,
     "metadata": {},
     "output_type": "execute_result"
    }
   ],
   "source": [
    "X_test_cluster = X_test.copy()\n",
    "X_test_cluster['distance'] = y_test_scores\n",
    "X_test_cluster['cluster'] = np.where(X_test_cluster['distance']<-0.2, 0, 1)\n",
    "X_test_cluster['cluster'].value_counts()"
   ]
  },
  {
   "cell_type": "code",
   "execution_count": 200,
   "metadata": {},
   "outputs": [
    {
     "data": {
      "text/html": [
       "<div>\n",
       "<style scoped>\n",
       "    .dataframe tbody tr th:only-of-type {\n",
       "        vertical-align: middle;\n",
       "    }\n",
       "\n",
       "    .dataframe tbody tr th {\n",
       "        vertical-align: top;\n",
       "    }\n",
       "\n",
       "    .dataframe thead th {\n",
       "        text-align: right;\n",
       "    }\n",
       "</style>\n",
       "<table border=\"1\" class=\"dataframe\">\n",
       "  <thead>\n",
       "    <tr style=\"text-align: right;\">\n",
       "      <th></th>\n",
       "      <th>0</th>\n",
       "      <th>1</th>\n",
       "      <th>2</th>\n",
       "      <th>3</th>\n",
       "      <th>4</th>\n",
       "      <th>5</th>\n",
       "      <th>distance</th>\n",
       "    </tr>\n",
       "    <tr>\n",
       "      <th>cluster</th>\n",
       "      <th></th>\n",
       "      <th></th>\n",
       "      <th></th>\n",
       "      <th></th>\n",
       "      <th></th>\n",
       "      <th></th>\n",
       "      <th></th>\n",
       "    </tr>\n",
       "  </thead>\n",
       "  <tbody>\n",
       "    <tr>\n",
       "      <td>0</td>\n",
       "      <td>0.006287</td>\n",
       "      <td>-0.001365</td>\n",
       "      <td>0.021500</td>\n",
       "      <td>0.001637</td>\n",
       "      <td>-0.005756</td>\n",
       "      <td>0.020903</td>\n",
       "      <td>-0.240483</td>\n",
       "    </tr>\n",
       "    <tr>\n",
       "      <td>1</td>\n",
       "      <td>0.001545</td>\n",
       "      <td>0.000846</td>\n",
       "      <td>-0.002661</td>\n",
       "      <td>-0.000983</td>\n",
       "      <td>-0.000975</td>\n",
       "      <td>-0.003977</td>\n",
       "      <td>-0.046871</td>\n",
       "    </tr>\n",
       "  </tbody>\n",
       "</table>\n",
       "</div>"
      ],
      "text/plain": [
       "                0         1         2         3         4         5  distance\n",
       "cluster                                                                      \n",
       "0        0.006287 -0.001365  0.021500  0.001637 -0.005756  0.020903 -0.240483\n",
       "1        0.001545  0.000846 -0.002661 -0.000983 -0.000975 -0.003977 -0.046871"
      ]
     },
     "execution_count": 200,
     "metadata": {},
     "output_type": "execute_result"
    }
   ],
   "source": [
    "X_test_cluster.groupby('cluster').mean()"
   ]
  },
  {
   "cell_type": "markdown",
   "metadata": {},
   "source": [
    "###### Model 3"
   ]
  },
  {
   "cell_type": "code",
   "execution_count": 201,
   "metadata": {},
   "outputs": [
    {
     "data": {
      "text/plain": [
       "IForest(behaviour='new', bootstrap=False, contamination=0.1, max_features=1.0,\n",
       "    max_samples=600, n_estimators=100, n_jobs=1, random_state=None,\n",
       "    verbose=0)"
      ]
     },
     "execution_count": 201,
     "metadata": {},
     "output_type": "execute_result"
    }
   ],
   "source": [
    "clf3 = IForest(behaviour=\"new\", max_samples=600) \n",
    "clf3.fit(X_train)"
   ]
  },
  {
   "cell_type": "code",
   "execution_count": 202,
   "metadata": {},
   "outputs": [
    {
     "data": {
      "text/plain": [
       "0   -0.077097\n",
       "1    0.004678\n",
       "2   -0.277145\n",
       "3   -0.035381\n",
       "4   -0.035381\n",
       "dtype: float64"
      ]
     },
     "execution_count": 202,
     "metadata": {},
     "output_type": "execute_result"
    }
   ],
   "source": [
    "# clf.decision_function: Predict raw anomaly score of X using the fitted detector.\n",
    "y_test_scores = clf3.decision_function(X_test)  # outlier scores\n",
    "y_test_scores = pd.Series(y_test_scores)\n",
    "y_test_scores.head()"
   ]
  },
  {
   "cell_type": "code",
   "execution_count": 203,
   "metadata": {},
   "outputs": [
    {
     "data": {
      "image/png": "[encoded data removed]",
      "text/plain": [
       "<Figure size 432x288 with 1 Axes>"
      ]
     },
     "metadata": {
      "needs_background": "light"
     },
     "output_type": "display_data"
    }
   ],
   "source": [
    "plt.hist(y_test_scores, bins='auto')  # arguments are passed to np.histogram\n",
    "plt.title(\"Histogram with 'auto' bins\")\n",
    "plt.show()"
   ]
  },
  {
   "cell_type": "code",
   "execution_count": 204,
   "metadata": {},
   "outputs": [
    {
     "data": {
      "text/plain": [
       "1    39986\n",
       "0     8934\n",
       "Name: cluster, dtype: int64"
      ]
     },
     "execution_count": 204,
     "metadata": {},
     "output_type": "execute_result"
    }
   ],
   "source": [
    "X_test_cluster = X_test.copy()\n",
    "X_test_cluster['distance'] = y_test_scores\n",
    "X_test_cluster['cluster'] = np.where(X_test_cluster['distance']<-0.2, 0, 1)\n",
    "X_test_cluster['cluster'].value_counts()"
   ]
  },
  {
   "cell_type": "code",
   "execution_count": 205,
   "metadata": {},
   "outputs": [
    {
     "data": {
      "text/html": [
       "<div>\n",
       "<style scoped>\n",
       "    .dataframe tbody tr th:only-of-type {\n",
       "        vertical-align: middle;\n",
       "    }\n",
       "\n",
       "    .dataframe tbody tr th {\n",
       "        vertical-align: top;\n",
       "    }\n",
       "\n",
       "    .dataframe thead th {\n",
       "        text-align: right;\n",
       "    }\n",
       "</style>\n",
       "<table border=\"1\" class=\"dataframe\">\n",
       "  <thead>\n",
       "    <tr style=\"text-align: right;\">\n",
       "      <th></th>\n",
       "      <th>0</th>\n",
       "      <th>1</th>\n",
       "      <th>2</th>\n",
       "      <th>3</th>\n",
       "      <th>4</th>\n",
       "      <th>5</th>\n",
       "      <th>distance</th>\n",
       "    </tr>\n",
       "    <tr>\n",
       "      <th>cluster</th>\n",
       "      <th></th>\n",
       "      <th></th>\n",
       "      <th></th>\n",
       "      <th></th>\n",
       "      <th></th>\n",
       "      <th></th>\n",
       "      <th></th>\n",
       "    </tr>\n",
       "  </thead>\n",
       "  <tbody>\n",
       "    <tr>\n",
       "      <td>0</td>\n",
       "      <td>0.006287</td>\n",
       "      <td>-0.001365</td>\n",
       "      <td>0.021500</td>\n",
       "      <td>0.001637</td>\n",
       "      <td>-0.005756</td>\n",
       "      <td>0.020903</td>\n",
       "      <td>-0.277145</td>\n",
       "    </tr>\n",
       "    <tr>\n",
       "      <td>1</td>\n",
       "      <td>0.001545</td>\n",
       "      <td>0.000846</td>\n",
       "      <td>-0.002661</td>\n",
       "      <td>-0.000983</td>\n",
       "      <td>-0.000975</td>\n",
       "      <td>-0.003977</td>\n",
       "      <td>-0.040079</td>\n",
       "    </tr>\n",
       "  </tbody>\n",
       "</table>\n",
       "</div>"
      ],
      "text/plain": [
       "                0         1         2         3         4         5  distance\n",
       "cluster                                                                      \n",
       "0        0.006287 -0.001365  0.021500  0.001637 -0.005756  0.020903 -0.277145\n",
       "1        0.001545  0.000846 -0.002661 -0.000983 -0.000975 -0.003977 -0.040079"
      ]
     },
     "execution_count": 205,
     "metadata": {},
     "output_type": "execute_result"
    }
   ],
   "source": [
    "X_test_cluster.groupby('cluster').mean()"
   ]
  },
  {
   "cell_type": "markdown",
   "metadata": {},
   "source": [
    "The size of anomalous cases(in test set): 8934 in count and 18.3% in %. We recommend observations in Cluster 1 to be outliers. The average \"distance\" indicates the distances of those points in Cluster 1. The distance of Cluster 1 is higher than that of Cluster 0, meaning points in Cluster 1 are far away from other points."
   ]
  },
  {
   "cell_type": "markdown",
   "metadata": {},
   "source": [
    "##### Achieve Model Stability by Aggregating Multiple Models\n",
    "\n"
   ]
  },
  {
   "cell_type": "markdown",
   "metadata": {},
   "source": [
    "In order to eliminate overfitting and unstable results, we need to train multiple models and then aggregate the scores. In the following steps, we will use four methods as below.\n",
    "- Average: average scores of all detectors.\n",
    "- Maximum of Maximum (MOM)\n",
    "- Average of Maximum (AOM)\n",
    "- Maximum of Average (MOA)"
   ]
  },
  {
   "cell_type": "code",
   "execution_count": 206,
   "metadata": {},
   "outputs": [],
   "source": [
    "from pyod.models.combination import aom, moa, average, maximization\n",
    "from pyod.utils.utility import standardizer\n",
    "from pyod.utils.data import generate_data\n",
    "from pyod.utils.data import evaluate_print"
   ]
  },
  {
   "cell_type": "code",
   "execution_count": 207,
   "metadata": {},
   "outputs": [],
   "source": [
    "#Put all the predictions in a data frame\n",
    "#The predictions of the training data can be obtained by clf.decision_scores_.\n",
    "# It is already generated during the model building process.\n",
    "train_scores = pd.DataFrame({'clf1': clf1.decision_scores_,\n",
    "                             'clf2': clf2.decision_scores_,\n",
    "                             'clf3': clf3.decision_scores_\n",
    "                            })\n",
    "\n",
    "# The predictions of the test data need to be predicted using clf.decision_function(X_test)\n",
    "test_scores  = pd.DataFrame({'clf1': clf1.decision_function(X_test),\n",
    "                             'clf2': clf2.decision_function(X_test),\n",
    "                             'clf3': clf3.decision_function(X_test) \n",
    "                            })"
   ]
  },
  {
   "cell_type": "code",
   "execution_count": 208,
   "metadata": {},
   "outputs": [
    {
     "data": {
      "text/html": [
       "<div>\n",
       "<style scoped>\n",
       "    .dataframe tbody tr th:only-of-type {\n",
       "        vertical-align: middle;\n",
       "    }\n",
       "\n",
       "    .dataframe tbody tr th {\n",
       "        vertical-align: top;\n",
       "    }\n",
       "\n",
       "    .dataframe thead th {\n",
       "        text-align: right;\n",
       "    }\n",
       "</style>\n",
       "<table border=\"1\" class=\"dataframe\">\n",
       "  <thead>\n",
       "    <tr style=\"text-align: right;\">\n",
       "      <th></th>\n",
       "      <th>clf1</th>\n",
       "      <th>clf2</th>\n",
       "      <th>clf3</th>\n",
       "    </tr>\n",
       "  </thead>\n",
       "  <tbody>\n",
       "    <tr>\n",
       "      <td>0</td>\n",
       "      <td>-0.096063</td>\n",
       "      <td>-0.097246</td>\n",
       "      <td>-0.077097</td>\n",
       "    </tr>\n",
       "    <tr>\n",
       "      <td>1</td>\n",
       "      <td>-0.237724</td>\n",
       "      <td>-0.240483</td>\n",
       "      <td>-0.277145</td>\n",
       "    </tr>\n",
       "    <tr>\n",
       "      <td>2</td>\n",
       "      <td>-0.237724</td>\n",
       "      <td>-0.240483</td>\n",
       "      <td>-0.277145</td>\n",
       "    </tr>\n",
       "    <tr>\n",
       "      <td>3</td>\n",
       "      <td>-0.078649</td>\n",
       "      <td>-0.070734</td>\n",
       "      <td>-0.036908</td>\n",
       "    </tr>\n",
       "    <tr>\n",
       "      <td>4</td>\n",
       "      <td>-0.029860</td>\n",
       "      <td>-0.034829</td>\n",
       "      <td>-0.021801</td>\n",
       "    </tr>\n",
       "  </tbody>\n",
       "</table>\n",
       "</div>"
      ],
      "text/plain": [
       "       clf1      clf2      clf3\n",
       "0 -0.096063 -0.097246 -0.077097\n",
       "1 -0.237724 -0.240483 -0.277145\n",
       "2 -0.237724 -0.240483 -0.277145\n",
       "3 -0.078649 -0.070734 -0.036908\n",
       "4 -0.029860 -0.034829 -0.021801"
      ]
     },
     "execution_count": 208,
     "metadata": {},
     "output_type": "execute_result"
    }
   ],
   "source": [
    "train_scores.head()"
   ]
  },
  {
   "cell_type": "code",
   "execution_count": 211,
   "metadata": {},
   "outputs": [],
   "source": [
    "# Although we did standardization before, it was for the variables.\n",
    "# Now we do the standardization for the decision scores\n",
    "train_scores_norm, test_scores_norm = standardizer(train_scores,test_scores)"
   ]
  },
  {
   "cell_type": "code",
   "execution_count": 212,
   "metadata": {},
   "outputs": [
    {
     "data": {
      "text/plain": [
       "(114145, 3)"
      ]
     },
     "execution_count": 212,
     "metadata": {},
     "output_type": "execute_result"
    }
   ],
   "source": [
    "train_scores_norm.shape"
   ]
  },
  {
   "cell_type": "markdown",
   "metadata": {},
   "source": [
    "###### Average"
   ]
  },
  {
   "cell_type": "code",
   "execution_count": 214,
   "metadata": {},
   "outputs": [],
   "source": [
    "#The \"average\" function in PyOD averages the outlier scores from multiple estimators.\n",
    "# Combination by average\n",
    "y_by_average = average(test_scores_norm)"
   ]
  },
  {
   "cell_type": "code",
   "execution_count": 215,
   "metadata": {},
   "outputs": [
    {
     "data": {
      "image/png": "[encoded data removed]",
      "text/plain": [
       "<Figure size 432x288 with 1 Axes>"
      ]
     },
     "metadata": {
      "needs_background": "light"
     },
     "output_type": "display_data"
    }
   ],
   "source": [
    "##determine the cut point\n",
    "# Combination by average\n",
    "y_by_average = average(test_scores_norm)\n",
    "             \n",
    "import matplotlib.pyplot as plt\n",
    "plt.hist(y_by_average, bins='auto') \n",
    "plt.title(\"Combination by average\")\n",
    "plt.show()"
   ]
  },
  {
   "cell_type": "code",
   "execution_count": 216,
   "metadata": {},
   "outputs": [
    {
     "data": {
      "text/plain": [
       "0    29729\n",
       "1    19191\n",
       "Name: y_by_average_cluster, dtype: int64"
      ]
     },
     "execution_count": 216,
     "metadata": {},
     "output_type": "execute_result"
    }
   ],
   "source": [
    "##It appears we can identify those >=0 as the outliers\n",
    "df_test = pd.DataFrame(X_test)\n",
    "df_test['y_by_average_score'] = y_by_average\n",
    "df_test['y_by_average_cluster'] = np.where(df_test['y_by_average_score']<0.0, 0, 1)\n",
    "df_test['y_by_average_cluster'].value_counts()"
   ]
  },
  {
   "cell_type": "code",
   "execution_count": 217,
   "metadata": {},
   "outputs": [
    {
     "data": {
      "text/html": [
       "<div>\n",
       "<style scoped>\n",
       "    .dataframe tbody tr th:only-of-type {\n",
       "        vertical-align: middle;\n",
       "    }\n",
       "\n",
       "    .dataframe tbody tr th {\n",
       "        vertical-align: top;\n",
       "    }\n",
       "\n",
       "    .dataframe thead th {\n",
       "        text-align: right;\n",
       "    }\n",
       "</style>\n",
       "<table border=\"1\" class=\"dataframe\">\n",
       "  <thead>\n",
       "    <tr style=\"text-align: right;\">\n",
       "      <th></th>\n",
       "      <th>0</th>\n",
       "      <th>1</th>\n",
       "      <th>2</th>\n",
       "      <th>3</th>\n",
       "      <th>4</th>\n",
       "      <th>5</th>\n",
       "      <th>y_by_average_score</th>\n",
       "    </tr>\n",
       "    <tr>\n",
       "      <th>y_by_average_cluster</th>\n",
       "      <th></th>\n",
       "      <th></th>\n",
       "      <th></th>\n",
       "      <th></th>\n",
       "      <th></th>\n",
       "      <th></th>\n",
       "      <th></th>\n",
       "    </tr>\n",
       "  </thead>\n",
       "  <tbody>\n",
       "    <tr>\n",
       "      <td>0</td>\n",
       "      <td>0.019172</td>\n",
       "      <td>0.019435</td>\n",
       "      <td>0.022632</td>\n",
       "      <td>-0.246221</td>\n",
       "      <td>-0.246214</td>\n",
       "      <td>-0.240527</td>\n",
       "      <td>-0.741892</td>\n",
       "    </tr>\n",
       "    <tr>\n",
       "      <td>1</td>\n",
       "      <td>-0.023554</td>\n",
       "      <td>-0.028981</td>\n",
       "      <td>-0.030595</td>\n",
       "      <td>0.380138</td>\n",
       "      <td>0.376702</td>\n",
       "      <td>0.374047</td>\n",
       "      <td>1.141182</td>\n",
       "    </tr>\n",
       "  </tbody>\n",
       "</table>\n",
       "</div>"
      ],
      "text/plain": [
       "                             0         1         2         3         4  \\\n",
       "y_by_average_cluster                                                     \n",
       "0                     0.019172  0.019435  0.022632 -0.246221 -0.246214   \n",
       "1                    -0.023554 -0.028981 -0.030595  0.380138  0.376702   \n",
       "\n",
       "                             5  y_by_average_score  \n",
       "y_by_average_cluster                                \n",
       "0                    -0.240527           -0.741892  \n",
       "1                     0.374047            1.141182  "
      ]
     },
     "execution_count": 217,
     "metadata": {},
     "output_type": "execute_result"
    }
   ],
   "source": [
    "df_test.groupby('y_by_average_cluster').mean()"
   ]
  },
  {
   "cell_type": "markdown",
   "metadata": {},
   "source": [
    "###### Maximum of maximum"
   ]
  },
  {
   "cell_type": "code",
   "execution_count": 218,
   "metadata": {},
   "outputs": [
    {
     "data": {
      "image/png": "[encoded data removed]",
      "text/plain": [
       "<Figure size 432x288 with 1 Axes>"
      ]
     },
     "metadata": {
      "needs_background": "light"
     },
     "output_type": "display_data"
    }
   ],
   "source": [
    "#determine the cut point\n",
    "# Combination by max\n",
    "y_by_maximization = maximization(test_scores_norm)\n",
    "\n",
    "plt.hist(y_by_maximization, bins='auto')  # arguments are passed to np.histogram\n",
    "plt.title(\"Combination by max\")\n",
    "plt.show()"
   ]
  },
  {
   "cell_type": "code",
   "execution_count": 219,
   "metadata": {},
   "outputs": [
    {
     "data": {
      "text/plain": [
       "0    29729\n",
       "1    19191\n",
       "Name: y_by_maximization_cluster, dtype: int64"
      ]
     },
     "execution_count": 219,
     "metadata": {},
     "output_type": "execute_result"
    }
   ],
   "source": [
    "##It appears we can identify those >=0 as the outliers\n",
    "df_test = pd.DataFrame(X_test)\n",
    "df_test['y_by_maximization_score'] = y_by_maximization\n",
    "df_test['y_by_maximization_cluster'] = np.where(df_test['y_by_maximization_score']<0, 0, 1)\n",
    "df_test['y_by_maximization_cluster'].value_counts()"
   ]
  },
  {
   "cell_type": "code",
   "execution_count": 220,
   "metadata": {},
   "outputs": [
    {
     "data": {
      "text/html": [
       "<div>\n",
       "<style scoped>\n",
       "    .dataframe tbody tr th:only-of-type {\n",
       "        vertical-align: middle;\n",
       "    }\n",
       "\n",
       "    .dataframe tbody tr th {\n",
       "        vertical-align: top;\n",
       "    }\n",
       "\n",
       "    .dataframe thead th {\n",
       "        text-align: right;\n",
       "    }\n",
       "</style>\n",
       "<table border=\"1\" class=\"dataframe\">\n",
       "  <thead>\n",
       "    <tr style=\"text-align: right;\">\n",
       "      <th></th>\n",
       "      <th>0</th>\n",
       "      <th>1</th>\n",
       "      <th>2</th>\n",
       "      <th>3</th>\n",
       "      <th>4</th>\n",
       "      <th>5</th>\n",
       "      <th>y_by_average_score</th>\n",
       "      <th>y_by_average_cluster</th>\n",
       "      <th>y_by_maximization_score</th>\n",
       "    </tr>\n",
       "    <tr>\n",
       "      <th>y_by_maximization_cluster</th>\n",
       "      <th></th>\n",
       "      <th></th>\n",
       "      <th></th>\n",
       "      <th></th>\n",
       "      <th></th>\n",
       "      <th></th>\n",
       "      <th></th>\n",
       "      <th></th>\n",
       "      <th></th>\n",
       "    </tr>\n",
       "  </thead>\n",
       "  <tbody>\n",
       "    <tr>\n",
       "      <td>0</td>\n",
       "      <td>0.019172</td>\n",
       "      <td>0.019435</td>\n",
       "      <td>0.022632</td>\n",
       "      <td>-0.246221</td>\n",
       "      <td>-0.246214</td>\n",
       "      <td>-0.240527</td>\n",
       "      <td>-0.741892</td>\n",
       "      <td>0</td>\n",
       "      <td>-0.724961</td>\n",
       "    </tr>\n",
       "    <tr>\n",
       "      <td>1</td>\n",
       "      <td>-0.023554</td>\n",
       "      <td>-0.028981</td>\n",
       "      <td>-0.030595</td>\n",
       "      <td>0.380138</td>\n",
       "      <td>0.376702</td>\n",
       "      <td>0.374047</td>\n",
       "      <td>1.141182</td>\n",
       "      <td>1</td>\n",
       "      <td>1.312664</td>\n",
       "    </tr>\n",
       "  </tbody>\n",
       "</table>\n",
       "</div>"
      ],
      "text/plain": [
       "                                  0         1         2         3         4  \\\n",
       "y_by_maximization_cluster                                                     \n",
       "0                          0.019172  0.019435  0.022632 -0.246221 -0.246214   \n",
       "1                         -0.023554 -0.028981 -0.030595  0.380138  0.376702   \n",
       "\n",
       "                                  5  y_by_average_score  y_by_average_cluster  \\\n",
       "y_by_maximization_cluster                                                       \n",
       "0                         -0.240527           -0.741892                     0   \n",
       "1                          0.374047            1.141182                     1   \n",
       "\n",
       "                           y_by_maximization_score  \n",
       "y_by_maximization_cluster                           \n",
       "0                                        -0.724961  \n",
       "1                                         1.312664  "
      ]
     },
     "execution_count": 220,
     "metadata": {},
     "output_type": "execute_result"
    }
   ],
   "source": [
    "df_test.groupby('y_by_maximization_cluster').mean()"
   ]
  },
  {
   "cell_type": "code",
   "execution_count": 224,
   "metadata": {},
   "outputs": [
    {
     "data": {
      "image/png": "[encoded data removed]",
      "text/plain": [
       "<Figure size 432x288 with 1 Axes>"
      ]
     },
     "metadata": {
      "needs_background": "light"
     },
     "output_type": "display_data"
    }
   ],
   "source": [
    "#####################################\n",
    "#put the outlier column into the dataset \n",
    "y_by_maximization = maximization(train_scores_norm)\n",
    "import matplotlib.pyplot as plt\n",
    "plt.hist(y_by_maximization, bins='auto')  # arguments are passed to np.histogram\n",
    "plt.title(\"Combination by max\")\n",
    "plt.show()"
   ]
  },
  {
   "cell_type": "code",
   "execution_count": 226,
   "metadata": {},
   "outputs": [
    {
     "data": {
      "text/plain": [
       "0    69152\n",
       "1    44993\n",
       "Name: y_by_maximization_cluster, dtype: int64"
      ]
     },
     "execution_count": 226,
     "metadata": {},
     "output_type": "execute_result"
    }
   ],
   "source": [
    "##It appears we can identify those >=0 as the outliers\n",
    "df_train = pd.DataFrame(X_train)\n",
    "df_train['y_by_maximization_score'] = y_by_maximization\n",
    "df_train['y_by_maximization_cluster'] = np.where(df_train['y_by_maximization_score']<0, 0, 1)\n",
    "df_train['y_by_maximization_cluster'].value_counts()"
   ]
  },
  {
   "cell_type": "code",
   "execution_count": 227,
   "metadata": {},
   "outputs": [],
   "source": [
    "anomaly_alldata = pd.concat([df_train, df_test])"
   ]
  },
  {
   "cell_type": "code",
   "execution_count": 244,
   "metadata": {},
   "outputs": [],
   "source": [
    "#put the outlier column into he dataset \n",
    "df2 = df.copy()\n",
    "df2['outlier'] =  anomaly_alldata['y_by_maximization_cluster'].tolist()"
   ]
  },
  {
   "cell_type": "code",
   "execution_count": 245,
   "metadata": {},
   "outputs": [],
   "source": [
    "####exttract all outliers out and form a dataset conttainig only outliers\n",
    "dfif_outliers = df2.loc[df2['outlier'] == 1]"
   ]
  },
  {
   "cell_type": "code",
   "execution_count": 246,
   "metadata": {},
   "outputs": [
    {
     "data": {
      "text/html": [
       "<div>\n",
       "<style scoped>\n",
       "    .dataframe tbody tr th:only-of-type {\n",
       "        vertical-align: middle;\n",
       "    }\n",
       "\n",
       "    .dataframe tbody tr th {\n",
       "        vertical-align: top;\n",
       "    }\n",
       "\n",
       "    .dataframe thead th {\n",
       "        text-align: right;\n",
       "    }\n",
       "</style>\n",
       "<table border=\"1\" class=\"dataframe\">\n",
       "  <thead>\n",
       "    <tr style=\"text-align: right;\">\n",
       "      <th></th>\n",
       "      <th>DRG Definition</th>\n",
       "      <th>Provider Id</th>\n",
       "      <th>Provider Name</th>\n",
       "      <th>Provider Street Address</th>\n",
       "      <th>Provider City</th>\n",
       "      <th>Provider State</th>\n",
       "      <th>Provider Zip Code</th>\n",
       "      <th>Hospital Referral Region Description</th>\n",
       "      <th>DRG Code</th>\n",
       "    </tr>\n",
       "  </thead>\n",
       "  <tbody>\n",
       "    <tr>\n",
       "      <td>count</td>\n",
       "      <td>64184</td>\n",
       "      <td>64184</td>\n",
       "      <td>64184</td>\n",
       "      <td>64184</td>\n",
       "      <td>64184</td>\n",
       "      <td>64184</td>\n",
       "      <td>64184</td>\n",
       "      <td>64184</td>\n",
       "      <td>64184</td>\n",
       "    </tr>\n",
       "    <tr>\n",
       "      <td>unique</td>\n",
       "      <td>100</td>\n",
       "      <td>3231</td>\n",
       "      <td>3100</td>\n",
       "      <td>3221</td>\n",
       "      <td>1942</td>\n",
       "      <td>51</td>\n",
       "      <td>2985</td>\n",
       "      <td>306</td>\n",
       "      <td>100</td>\n",
       "    </tr>\n",
       "    <tr>\n",
       "      <td>top</td>\n",
       "      <td>392 - ESOPHAGITIS, GASTROENT &amp; MISC DIGEST DIS...</td>\n",
       "      <td>490112</td>\n",
       "      <td>GOOD SAMARITAN HOSPITAL</td>\n",
       "      <td>100 MEDICAL CENTER DRIVE</td>\n",
       "      <td>CHICAGO</td>\n",
       "      <td>CA</td>\n",
       "      <td>76104</td>\n",
       "      <td>CA - Los Angeles</td>\n",
       "      <td>392</td>\n",
       "    </tr>\n",
       "    <tr>\n",
       "      <td>freq</td>\n",
       "      <td>1187</td>\n",
       "      <td>53</td>\n",
       "      <td>253</td>\n",
       "      <td>75</td>\n",
       "      <td>587</td>\n",
       "      <td>5144</td>\n",
       "      <td>120</td>\n",
       "      <td>1426</td>\n",
       "      <td>1187</td>\n",
       "    </tr>\n",
       "  </tbody>\n",
       "</table>\n",
       "</div>"
      ],
      "text/plain": [
       "                                           DRG Definition Provider Id  \\\n",
       "count                                               64184       64184   \n",
       "unique                                                100        3231   \n",
       "top     392 - ESOPHAGITIS, GASTROENT & MISC DIGEST DIS...      490112   \n",
       "freq                                                 1187          53   \n",
       "\n",
       "                  Provider Name   Provider Street Address Provider City  \\\n",
       "count                     64184                     64184         64184   \n",
       "unique                     3100                      3221          1942   \n",
       "top     GOOD SAMARITAN HOSPITAL  100 MEDICAL CENTER DRIVE       CHICAGO   \n",
       "freq                        253                        75           587   \n",
       "\n",
       "       Provider State Provider Zip Code Hospital Referral Region Description  \\\n",
       "count           64184             64184                                64184   \n",
       "unique             51              2985                                  306   \n",
       "top                CA             76104                     CA - Los Angeles   \n",
       "freq             5144               120                                 1426   \n",
       "\n",
       "       DRG Code  \n",
       "count     64184  \n",
       "unique      100  \n",
       "top        392   \n",
       "freq       1187  "
      ]
     },
     "execution_count": 246,
     "metadata": {},
     "output_type": "execute_result"
    }
   ],
   "source": [
    "dfif_outliers.describe(include=['O'])"
   ]
  },
  {
   "cell_type": "markdown",
   "metadata": {},
   "source": [
    "Insights:\n",
    "\n",
    "The size of anomalous cases: 64184 in count and 39.4% in %.\n",
    "\n",
    "a) 392 - ESOPHAGITIS, GASTROENT & MISC DIGEST DISEASE is the most common DRG used for frauds by providers\n",
    "\n",
    "b) GOOD SAMARITAN HOSPITAL commit frauds most often\n",
    "\n",
    "c) Most of frauds happend in CA"
   ]
  },
  {
   "cell_type": "code",
   "execution_count": null,
   "metadata": {},
   "outputs": [],
   "source": []
  }
 ],
 "metadata": {
  "kernelspec": {
   "display_name": "Python 3",
   "language": "python",
   "name": "python3"
  },
  "language_info": {
   "codemirror_mode": {
    "name": "ipython",
    "version": 3
   },
   "file_extension": ".py",
   "mimetype": "text/x-python",
   "name": "python",
   "nbconvert_exporter": "python",
   "pygments_lexer": "ipython3",
   "version": "3.8.2"
  }
 },
 "nbformat": 4,
 "nbformat_minor": 2
}
